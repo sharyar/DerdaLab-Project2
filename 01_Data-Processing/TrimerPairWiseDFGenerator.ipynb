{
 "cells": [
  {
   "cell_type": "markdown",
   "metadata": {},
   "source": [
    "# Create PairWise Training and Test Set"
   ]
  },
  {
   "cell_type": "markdown",
   "metadata": {},
   "source": [
    "## Strategy"
   ]
  },
  {
   "cell_type": "markdown",
   "metadata": {},
   "source": [
    "1. Create a common data frame with 8000*2, 1 label, and n rows of samples. Call this **mainDF**\n",
    "2. Use **sourceDF** to do a stratified random sampling of the samples so we have even distribution of labels. \n",
    "3. Append 2 samples to mainDF and add label based on the samples added\n",
    "4. Labels: Not Sibblings, Sibblings\n",
    "5. The label is based on filename again where two samples are sibblings if: XXXXX-RPn everything except n matches. "
   ]
  },
  {
   "cell_type": "markdown",
   "metadata": {},
   "source": [
    "### Imports"
   ]
  },
  {
   "cell_type": "code",
   "execution_count": 8,
   "metadata": {
    "vscode": {
     "end_execution_time": "2020-08-05T22:47:08.583Z",
     "start_execution_time": "2020-08-05T22:47:08.045Z"
    }
   },
   "outputs": [],
   "source": [
    "import pandas as pd\n",
    "from fileFunctionsModule import importCSVMotifFilesAsDfFromDir\n",
    "import matplotlib.pyplot as plt\n",
    "import seaborn as sns\n",
    "from sklearn.preprocessing import StandardScaler, MinMaxScaler\n",
    "from sklearn.pipeline import Pipeline, FeatureUnion\n",
    "from sklearn.model_selection import GridSearchCV\n",
    "import time\n",
    "from datetime import date\n",
    "import sys\n",
    "import os.path\n",
    "import re"
   ]
  },
  {
   "cell_type": "markdown",
   "metadata": {},
   "source": [
    "### Data Import & Early Processing to a Single DF"
   ]
  },
  {
   "cell_type": "code",
   "execution_count": 9,
   "metadata": {
    "vscode": {
     "end_execution_time": "2020-08-05T22:47:11.910Z",
     "start_execution_time": "2020-08-05T22:47:08.584Z"
    }
   },
   "outputs": [],
   "source": [
    "# ! Define variables to be used\n",
    "rerun_data_compilation = False\n",
    "data_path = \"\"\n",
    "data_type = \"\"\n",
    "date_current = str(date.today().isoformat())\n",
    "\n",
    "# Ask user what kind of data needs to be processed and if data should be recompiled from source csv files. \n",
    "while (data_type.lower() not in ['trimer', 'tetramer']) :\n",
    "    data_type = input('Process Trimer or Tetramer data type?')\n",
    "    if (input('Would you like to rerun data compilation? Y or N').upper() == 'N'):\n",
    "        rerun_data_compilation = False\n",
    "    else:\n",
    "        rerun_data_compilation = True\n",
    "\n",
    "if data_type == 'trimer':\n",
    "    data_path = \"../03_SourceFiles/01_TrimerSourceFiles\"\n",
    "elif data_type == 'tetramer':\n",
    "    data_path = \"../03_SourceFiles/02_TetramerSourceFiles\""
   ]
  },
  {
   "cell_type": "code",
   "execution_count": 10,
   "metadata": {
    "tags": [],
    "vscode": {
     "end_execution_time": "2020-08-05T22:47:13.398Z",
     "start_execution_time": "2020-08-05T22:47:11.916Z"
    }
   },
   "outputs": [
    {
     "output_type": "stream",
     "name": "stdout",
     "text": "File read succsessful. Data frame loaded into memory.\n"
    }
   ],
   "source": [
    "# Checks if user wants to rerun data compilation. If not, old label file is used from memory\n",
    "if rerun_data_compilation:\n",
    "    # Import Data\n",
    "    # transpose axis of the dataframe:\n",
    "    # Fill na and nan values with 0 instead\n",
    "    data_start = importCSVMotifFilesAsDfFromDir(data_path).transpose().reset_index().fillna(0)\n",
    "\n",
    "    # Rename index column to sampleName in place\n",
    "    data_start.rename(columns={'index': 'sampleName'}, inplace=True)\n",
    "\n",
    "    # Add a new column with a binary identifier for a naive vs selected library. i.e = 1 is naive and 0 is selected\n",
    "    data_start['naiveLibrary'] = data_start.apply(\n",
    "        lambda row: (('oo' in row.sampleName[10:21]) and\n",
    "                    ('RN0' in row.sampleName[-6:] or 'RN1' in row.sampleName[-6:])),\n",
    "        axis=1\n",
    "    )\n",
    "\n",
    "    # convert the data in the column (NaiveLibrary) to int type so it is readable\n",
    "    data_start['naiveLibrary'] = data_start['naiveLibrary'].astype(int)\n",
    "\n",
    "    if (input('Would you like to save the resulting DF as a csv for future use or overwrite the previously saved csv? Y or N').upper() == 'Y'):\n",
    "        data_start.to_csv(str('../03_SourceFiles/03_ProcessedFiles/'+data_type+'-combined-labeled.csv'))\n",
    "        print('DF Structure Saved to file.')\n",
    "    else:\n",
    "        pass\n",
    "elif not rerun_data_compilation:\n",
    "    if os.path.isfile(str('../03_SourceFiles/03_ProcessedFiles/'+data_type+'-combined-labeled.csv')):\n",
    "        try:\n",
    "            data_start = pd.read_csv(\n",
    "                str('../03_SourceFiles/03_ProcessedFiles/'+data_type+'-combined-labeled.csv'),\n",
    "                engine='c',\n",
    "                low_memory=False,\n",
    "                index_col=0\n",
    "                )\n",
    "            print('File read succsessful. Data frame loaded into memory.')\n",
    "        except:\n",
    "            print('Something went wrong while trying to read the csv file. Please rerun data compilation or check file manually.')\n",
    "            sys.exit()\n",
    "    else:\n",
    "        print('CSV File does not exist in the source folder (03_SourceFiles/03_ProcessedFiles). Please re-run compilation')\n"
   ]
  },
  {
   "cell_type": "markdown",
   "metadata": {},
   "source": [
    "## Find # of sibblings in data set & separate them out into sibbling groups. \n",
    "\n",
    "1. Create a naive and a selected set. \n",
    "2. Create two dictionaries: one containing groups of naive sibblings and one for selected sibblings. \n",
    "3. Enumerate sets to use for stats later. "
   ]
  },
  {
   "cell_type": "code",
   "execution_count": 11,
   "metadata": {
    "vscode": {
     "end_execution_time": "2020-08-05T22:47:13.440Z",
     "start_execution_time": "2020-08-05T22:47:13.399Z"
    }
   },
   "outputs": [],
   "source": [
    "naive_set = data_start[(data_start['naiveLibrary'] == 1)]['sampleName']\n",
    "selected_set = data_start[~(data_start['naiveLibrary'] == 1)]['sampleName']"
   ]
  },
  {
   "cell_type": "markdown",
   "metadata": {},
   "source": [
    "### Logic of setting up groups:\n",
    "\n",
    "1. Set key of dictionary to 20170808-109OOooNA-JB-3_RN**X** where X indicates round. The Primer and Replicate are ommitted\n",
    "2. Append value of sampleName to list within each diction by matching the key. Use Regular Expressions to create and match key. "
   ]
  },
  {
   "cell_type": "code",
   "execution_count": 12,
   "metadata": {
    "vscode": {
     "end_execution_time": "2020-08-05T22:47:13.447Z",
     "start_execution_time": "2020-08-05T22:47:13.440Z"
    }
   },
   "outputs": [],
   "source": [
    "def find_sibbling_groups(data_iterable):\n",
    "    \"\"\"\n",
    "    Creates a dictionary from provided iterable. The iterable should be made up of sampleNames in this format: \n",
    "    20170808-109OOooNA-JB-3__R10F5_RN1RP3\n",
    "    The keys of the dictionary are set to: 20170808-109OOooNA-JB-3_RN1 (The primer and replicate info is removed)\n",
    "    \"\"\"\n",
    "    sibbling_group_dict = {}\n",
    "\n",
    "    for index, value in data_iterable.items():\n",
    "        keyID = value.split('__')[0] + '_' + re.findall(r'RN\\d{1,}' , value)[0]\n",
    "        if keyID not in sibbling_group_dict:\n",
    "            sibbling_group_dict[keyID] = [value]\n",
    "        else:\n",
    "            if value not in sibbling_group_dict[keyID]:\n",
    "                sibbling_group_dict[keyID].append(value)\n",
    "\n",
    "    return sibbling_group_dict"
   ]
  },
  {
   "cell_type": "code",
   "execution_count": 37,
   "metadata": {
    "vscode": {
     "end_execution_time": "2020-08-05T22:47:13.455Z",
     "start_execution_time": "2020-08-05T22:47:13.447Z"
    }
   },
   "outputs": [],
   "source": [
    "naive_sibbling_groups = find_sibbling_groups(naive_set)\n",
    "selected_sibbling_groups = find_sibbling_groups(selected_set)"
   ]
  },
  {
   "cell_type": "code",
   "execution_count": 38,
   "metadata": {},
   "outputs": [
    {
     "output_type": "execute_result",
     "data": {
      "text/plain": "255"
     },
     "metadata": {},
     "execution_count": 38
    }
   ],
   "source": [
    "len(naive_sibbling_groups)"
   ]
  },
  {
   "cell_type": "code",
   "execution_count": 41,
   "metadata": {
    "vscode": {
     "end_execution_time": "2020-08-05T22:47:13.460Z",
     "start_execution_time": "2020-08-05T22:47:13.456Z"
    }
   },
   "outputs": [],
   "source": [
    "# Verify that the data generated is correct:\n",
    "num_of_single_groups = [] # [Naive, Selected]\n",
    "\n",
    "\n",
    "def remove_single_member_sibbling_groups(sibbling_group_original):\n",
    "    sibbling_group = sibbling_group_original.copy()\n",
    "    single_group_key = []\n",
    "    single_group_value = []\n",
    "    empty_group = []\n",
    "    for key, value in sibbling_group.items():\n",
    "        if len(value) == 1:\n",
    "            single_group_value.append(value)\n",
    "            single_group_key.append(key)\n",
    "        elif len(value) < 1:\n",
    "            empty_group.append(key)\n",
    "    \n",
    "    for key_ in single_group_key:\n",
    "        sibbling_group.pop(key_)\n",
    "    for key_ in empty_group:\n",
    "        sibbling_group.pop(key_)\n",
    "    if len(single_group_key) > 0:\n",
    "        print(\"Single Groups Found\")\n",
    "    if len(empty_group) > 0:\n",
    "        print(\"Empty Groups Found\")\n",
    "\n",
    "    return sibbling_group, single_group_value, empty_group\n"
   ]
  },
  {
   "cell_type": "code",
   "execution_count": 42,
   "metadata": {
    "tags": []
   },
   "outputs": [
    {
     "output_type": "stream",
     "name": "stdout",
     "text": "Single Groups Found\n"
    }
   ],
   "source": [
    "naive_sibbling_groups, n_s_g, n_e_g = remove_single_member_sibbling_groups(naive_sibbling_groups)"
   ]
  },
  {
   "cell_type": "code",
   "execution_count": 43,
   "metadata": {},
   "outputs": [
    {
     "output_type": "execute_result",
     "data": {
      "text/plain": "202"
     },
     "metadata": {},
     "execution_count": 43
    }
   ],
   "source": [
    "len(naive_sibbling_groups)"
   ]
  },
  {
   "cell_type": "code",
   "execution_count": 44,
   "metadata": {},
   "outputs": [
    {
     "output_type": "execute_result",
     "data": {
      "text/plain": "53"
     },
     "metadata": {},
     "execution_count": 44
    }
   ],
   "source": [
    "len(n_s_g)"
   ]
  },
  {
   "cell_type": "code",
   "execution_count": 45,
   "metadata": {},
   "outputs": [
    {
     "output_type": "execute_result",
     "data": {
      "text/plain": "448"
     },
     "metadata": {},
     "execution_count": 45
    }
   ],
   "source": [
    "len(selected_sibbling_groups)"
   ]
  },
  {
   "cell_type": "code",
   "execution_count": 46,
   "metadata": {
    "tags": []
   },
   "outputs": [
    {
     "output_type": "stream",
     "name": "stdout",
     "text": "Single Groups Found\n"
    }
   ],
   "source": [
    "selected_sibbling_groups, s_s_g, s_e_g = remove_single_member_sibbling_groups(selected_sibbling_groups)"
   ]
  },
  {
   "cell_type": "code",
   "execution_count": 47,
   "metadata": {},
   "outputs": [
    {
     "output_type": "execute_result",
     "data": {
      "text/plain": "375"
     },
     "metadata": {},
     "execution_count": 47
    }
   ],
   "source": [
    "len(selected_sibbling_groups)"
   ]
  },
  {
   "cell_type": "code",
   "execution_count": 48,
   "metadata": {},
   "outputs": [
    {
     "output_type": "execute_result",
     "data": {
      "text/plain": "73"
     },
     "metadata": {},
     "execution_count": 48
    }
   ],
   "source": [
    "len(s_s_g)"
   ]
  },
  {
   "cell_type": "code",
   "execution_count": 61,
   "metadata": {},
   "outputs": [],
   "source": [
    "sampleGroup['20170808-109OOooNA-JB-3_RN1'].append('20170808-109OOooNA-JB-3__R10F5_RN3RP3')"
   ]
  },
  {
   "cell_type": "code",
   "execution_count": 60,
   "metadata": {
    "tags": []
   },
   "outputs": [
    {
     "output_type": "stream",
     "name": "stdout",
     "text": "20170808-109OOooNA-JB-3_RN1 -> ['20170808-109OOooNA-JB-3__R10F5_RN1RP3', '20170808-109OOooNA-JB-3__R10F6_RN1RP4', '20170808-109OOooNA-JB-3__R9F1_RN1RP1', '20170808-109OOooNA-JB-3__R9F2_RN1RP2']\n"
    }
   ],
   "source": [
    "for key, value in naive_sibbling_groups.items():\n",
    "    print(key, '->', value)\n",
    "    break"
   ]
  },
  {
   "cell_type": "code",
   "execution_count": 64,
   "metadata": {
    "tags": []
   },
   "outputs": [
    {
     "output_type": "stream",
     "name": "stdout",
     "text": "Mismatches Found\n"
    }
   ],
   "source": [
    "sampleGroup, sg, sgv = remove_mismatching_sibbling_groups(sampleGroup)"
   ]
  },
  {
   "cell_type": "code",
   "execution_count": 65,
   "metadata": {},
   "outputs": [
    {
     "output_type": "execute_result",
     "data": {
      "text/plain": "{'20170808-109OOooNA-JB-3_RN1': ['20170808-109OOooNA-JB-3__R10F5_RN1RP3',\n  '20170808-109OOooNA-JB-3__R10F6_RN1RP4',\n  '20170808-109OOooNA-JB-3__R9F1_RN1RP1',\n  '20170808-109OOooNA-JB-3__R9F2_RN1RP2',\n  '20170808-109OOooNA-JB-3__R10F5_RN3RP3']}"
     },
     "metadata": {},
     "execution_count": 65
    }
   ],
   "source": [
    "sg"
   ]
  },
  {
   "cell_type": "code",
   "execution_count": 66,
   "metadata": {},
   "outputs": [
    {
     "output_type": "execute_result",
     "data": {
      "text/plain": "['20170808-109OOooNA-JB-3__R10F5_RN3RP3']"
     },
     "metadata": {},
     "execution_count": 66
    }
   ],
   "source": [
    "sgv"
   ]
  },
  {
   "cell_type": "code",
   "execution_count": 57,
   "metadata": {},
   "outputs": [],
   "source": [
    "sampleGroup = naive_sibbling_groups.copy()"
   ]
  },
  {
   "cell_type": "code",
   "execution_count": 63,
   "metadata": {},
   "outputs": [],
   "source": [
    "def remove_mismatching_sibbling_groups(sibbling_group_original):\n",
    "    sibbling_group = sibbling_group_original.copy()\n",
    "    mismatching_groups ={}\n",
    "    mismatching_group_values = []\n",
    "    for key, value in sibbling_group.items():\n",
    "        group_id = re.findall(r'RN\\d{1,}', key)[0]\n",
    "        for sample in value:\n",
    "            if group_id != re.findall(r'RN\\d{1,}', sample)[0]:\n",
    "                mismatching_groups[key] = value\n",
    "                mismatching_group_values.append(sample)\n",
    "\n",
    "    for key in mismatching_groups:\n",
    "        sibbling_group.pop(key)\n",
    "\n",
    "    if len(mismatching_groups) > 0:\n",
    "        print('Mismatches Found')\n",
    "\n",
    "    return sibbling_group, mismatching_groups, mismatching_group_values"
   ]
  },
  {
   "cell_type": "code",
   "execution_count": 52,
   "metadata": {},
   "outputs": [],
   "source": [
    "naive_sibbling_groups, n_m_g, n_m_g_v = remove_mismatching_sibbling_groups(naive_sibbling_groups)"
   ]
  },
  {
   "cell_type": "code",
   "execution_count": 56,
   "metadata": {},
   "outputs": [
    {
     "output_type": "execute_result",
     "data": {
      "text/plain": "[]"
     },
     "metadata": {},
     "execution_count": 56
    }
   ],
   "source": [
    "n_m_g_v"
   ]
  },
  {
   "cell_type": "code",
   "execution_count": 78,
   "metadata": {},
   "outputs": [
    {
     "output_type": "display_data",
     "data": {
      "text/plain": "<Figure size 432x288 with 1 Axes>",
      "image/svg+xml": "<?xml version=\"1.0\" encoding=\"utf-8\" standalone=\"no\"?>\n<!DOCTYPE svg PUBLIC \"-//W3C//DTD SVG 1.1//EN\"\n  \"http://www.w3.org/Graphics/SVG/1.1/DTD/svg11.dtd\">\n<!-- Created with matplotlib (https://matplotlib.org/) -->\n<svg height=\"286.217813pt\" version=\"1.1\" viewBox=\"0 0 375.2875 286.217813\" width=\"375.2875pt\" xmlns=\"http://www.w3.org/2000/svg\" xmlns:xlink=\"http://www.w3.org/1999/xlink\">\n <defs>\n  <style type=\"text/css\">\n*{stroke-linecap:butt;stroke-linejoin:round;}\n  </style>\n </defs>\n <g id=\"figure_1\">\n  <g id=\"patch_1\">\n   <path d=\"M 0 286.217813 \nL 375.2875 286.217813 \nL 375.2875 0 \nL 0 0 \nz\n\" style=\"fill:none;\"/>\n  </g>\n  <g id=\"axes_1\">\n   <g id=\"patch_2\">\n    <path d=\"M 33.2875 239.758125 \nL 368.0875 239.758125 \nL 368.0875 22.318125 \nL 33.2875 22.318125 \nz\n\" style=\"fill:#ffffff;\"/>\n   </g>\n   <g id=\"patch_3\">\n    <path clip-path=\"url(#p31d446ced0)\" d=\"M 48.505682 239.758125 \nL 112.582237 239.758125 \nL 112.582237 128.207954 \nL 48.505682 128.207954 \nz\n\" style=\"fill:#1f77b4;\"/>\n   </g>\n   <g id=\"patch_4\">\n    <path clip-path=\"url(#p31d446ced0)\" d=\"M 128.601376 239.758125 \nL 192.677931 239.758125 \nL 192.677931 32.672411 \nL 128.601376 32.672411 \nz\n\" style=\"fill:#1f77b4;\"/>\n   </g>\n   <g id=\"patch_5\">\n    <path clip-path=\"url(#p31d446ced0)\" d=\"M 208.697069 239.758125 \nL 272.773624 239.758125 \nL 272.773624 210.490011 \nL 208.697069 210.490011 \nz\n\" style=\"fill:#1f77b4;\"/>\n   </g>\n   <g id=\"patch_6\">\n    <path clip-path=\"url(#p31d446ced0)\" d=\"M 288.792763 239.758125 \nL 352.869318 239.758125 \nL 352.869318 199.445439 \nL 288.792763 199.445439 \nz\n\" style=\"fill:#1f77b4;\"/>\n   </g>\n   <g id=\"matplotlib.axis_1\">\n    <g id=\"xtick_1\">\n     <g id=\"line2d_1\">\n      <defs>\n       <path d=\"M 0 0 \nL 0 3.5 \n\" id=\"m0bb3f9ab76\" style=\"stroke:#000000;stroke-width:0.8;\"/>\n      </defs>\n      <g>\n       <use style=\"stroke:#000000;stroke-width:0.8;\" x=\"80.543959\" xlink:href=\"#m0bb3f9ab76\" y=\"239.758125\"/>\n      </g>\n     </g>\n     <g id=\"text_1\">\n      <!-- Naive SG -->\n      <defs>\n       <path d=\"M 9.8125 72.90625 \nL 23.09375 72.90625 \nL 55.421875 11.921875 \nL 55.421875 72.90625 \nL 64.984375 72.90625 \nL 64.984375 0 \nL 51.703125 0 \nL 19.390625 60.984375 \nL 19.390625 0 \nL 9.8125 0 \nz\n\" id=\"DejaVuSans-78\"/>\n       <path d=\"M 34.28125 27.484375 \nQ 23.390625 27.484375 19.1875 25 \nQ 14.984375 22.515625 14.984375 16.5 \nQ 14.984375 11.71875 18.140625 8.90625 \nQ 21.296875 6.109375 26.703125 6.109375 \nQ 34.1875 6.109375 38.703125 11.40625 \nQ 43.21875 16.703125 43.21875 25.484375 \nL 43.21875 27.484375 \nz\nM 52.203125 31.203125 \nL 52.203125 0 \nL 43.21875 0 \nL 43.21875 8.296875 \nQ 40.140625 3.328125 35.546875 0.953125 \nQ 30.953125 -1.421875 24.3125 -1.421875 \nQ 15.921875 -1.421875 10.953125 3.296875 \nQ 6 8.015625 6 15.921875 \nQ 6 25.140625 12.171875 29.828125 \nQ 18.359375 34.515625 30.609375 34.515625 \nL 43.21875 34.515625 \nL 43.21875 35.40625 \nQ 43.21875 41.609375 39.140625 45 \nQ 35.0625 48.390625 27.6875 48.390625 \nQ 23 48.390625 18.546875 47.265625 \nQ 14.109375 46.140625 10.015625 43.890625 \nL 10.015625 52.203125 \nQ 14.9375 54.109375 19.578125 55.046875 \nQ 24.21875 56 28.609375 56 \nQ 40.484375 56 46.34375 49.84375 \nQ 52.203125 43.703125 52.203125 31.203125 \nz\n\" id=\"DejaVuSans-97\"/>\n       <path d=\"M 9.421875 54.6875 \nL 18.40625 54.6875 \nL 18.40625 0 \nL 9.421875 0 \nz\nM 9.421875 75.984375 \nL 18.40625 75.984375 \nL 18.40625 64.59375 \nL 9.421875 64.59375 \nz\n\" id=\"DejaVuSans-105\"/>\n       <path d=\"M 2.984375 54.6875 \nL 12.5 54.6875 \nL 29.59375 8.796875 \nL 46.6875 54.6875 \nL 56.203125 54.6875 \nL 35.6875 0 \nL 23.484375 0 \nz\n\" id=\"DejaVuSans-118\"/>\n       <path d=\"M 56.203125 29.59375 \nL 56.203125 25.203125 \nL 14.890625 25.203125 \nQ 15.484375 15.921875 20.484375 11.0625 \nQ 25.484375 6.203125 34.421875 6.203125 \nQ 39.59375 6.203125 44.453125 7.46875 \nQ 49.3125 8.734375 54.109375 11.28125 \nL 54.109375 2.78125 \nQ 49.265625 0.734375 44.1875 -0.34375 \nQ 39.109375 -1.421875 33.890625 -1.421875 \nQ 20.796875 -1.421875 13.15625 6.1875 \nQ 5.515625 13.8125 5.515625 26.8125 \nQ 5.515625 40.234375 12.765625 48.109375 \nQ 20.015625 56 32.328125 56 \nQ 43.359375 56 49.78125 48.890625 \nQ 56.203125 41.796875 56.203125 29.59375 \nz\nM 47.21875 32.234375 \nQ 47.125 39.59375 43.09375 43.984375 \nQ 39.0625 48.390625 32.421875 48.390625 \nQ 24.90625 48.390625 20.390625 44.140625 \nQ 15.875 39.890625 15.1875 32.171875 \nz\n\" id=\"DejaVuSans-101\"/>\n       <path id=\"DejaVuSans-32\"/>\n       <path d=\"M 53.515625 70.515625 \nL 53.515625 60.890625 \nQ 47.90625 63.578125 42.921875 64.890625 \nQ 37.9375 66.21875 33.296875 66.21875 \nQ 25.25 66.21875 20.875 63.09375 \nQ 16.5 59.96875 16.5 54.203125 \nQ 16.5 49.359375 19.40625 46.890625 \nQ 22.3125 44.4375 30.421875 42.921875 \nL 36.375 41.703125 \nQ 47.40625 39.59375 52.65625 34.296875 \nQ 57.90625 29 57.90625 20.125 \nQ 57.90625 9.515625 50.796875 4.046875 \nQ 43.703125 -1.421875 29.984375 -1.421875 \nQ 24.8125 -1.421875 18.96875 -0.25 \nQ 13.140625 0.921875 6.890625 3.21875 \nL 6.890625 13.375 \nQ 12.890625 10.015625 18.65625 8.296875 \nQ 24.421875 6.59375 29.984375 6.59375 \nQ 38.421875 6.59375 43.015625 9.90625 \nQ 47.609375 13.234375 47.609375 19.390625 \nQ 47.609375 24.75 44.3125 27.78125 \nQ 41.015625 30.8125 33.5 32.328125 \nL 27.484375 33.5 \nQ 16.453125 35.6875 11.515625 40.375 \nQ 6.59375 45.0625 6.59375 53.421875 \nQ 6.59375 63.09375 13.40625 68.65625 \nQ 20.21875 74.21875 32.171875 74.21875 \nQ 37.3125 74.21875 42.625 73.28125 \nQ 47.953125 72.359375 53.515625 70.515625 \nz\n\" id=\"DejaVuSans-83\"/>\n       <path d=\"M 59.515625 10.40625 \nL 59.515625 29.984375 \nL 43.40625 29.984375 \nL 43.40625 38.09375 \nL 69.28125 38.09375 \nL 69.28125 6.78125 \nQ 63.578125 2.734375 56.6875 0.65625 \nQ 49.8125 -1.421875 42 -1.421875 \nQ 24.90625 -1.421875 15.25 8.5625 \nQ 5.609375 18.5625 5.609375 36.375 \nQ 5.609375 54.25 15.25 64.234375 \nQ 24.90625 74.21875 42 74.21875 \nQ 49.125 74.21875 55.546875 72.453125 \nQ 61.96875 70.703125 67.390625 67.28125 \nL 67.390625 56.78125 \nQ 61.921875 61.421875 55.765625 63.765625 \nQ 49.609375 66.109375 42.828125 66.109375 \nQ 29.4375 66.109375 22.71875 58.640625 \nQ 16.015625 51.171875 16.015625 36.375 \nQ 16.015625 21.625 22.71875 14.15625 \nQ 29.4375 6.6875 42.828125 6.6875 \nQ 48.046875 6.6875 52.140625 7.59375 \nQ 56.25 8.5 59.515625 10.40625 \nz\n\" id=\"DejaVuSans-71\"/>\n      </defs>\n      <g transform=\"translate(57.676772 254.356563)scale(0.1 -0.1)\">\n       <use xlink:href=\"#DejaVuSans-78\"/>\n       <use x=\"74.804688\" xlink:href=\"#DejaVuSans-97\"/>\n       <use x=\"136.083984\" xlink:href=\"#DejaVuSans-105\"/>\n       <use x=\"163.867188\" xlink:href=\"#DejaVuSans-118\"/>\n       <use x=\"223.046875\" xlink:href=\"#DejaVuSans-101\"/>\n       <use x=\"284.570312\" xlink:href=\"#DejaVuSans-32\"/>\n       <use x=\"316.357422\" xlink:href=\"#DejaVuSans-83\"/>\n       <use x=\"379.833984\" xlink:href=\"#DejaVuSans-71\"/>\n      </g>\n     </g>\n    </g>\n    <g id=\"xtick_2\">\n     <g id=\"line2d_2\">\n      <g>\n       <use style=\"stroke:#000000;stroke-width:0.8;\" x=\"160.639653\" xlink:href=\"#m0bb3f9ab76\" y=\"239.758125\"/>\n      </g>\n     </g>\n     <g id=\"text_2\">\n      <!-- Selected SG -->\n      <defs>\n       <path d=\"M 9.421875 75.984375 \nL 18.40625 75.984375 \nL 18.40625 0 \nL 9.421875 0 \nz\n\" id=\"DejaVuSans-108\"/>\n       <path d=\"M 48.78125 52.59375 \nL 48.78125 44.1875 \nQ 44.96875 46.296875 41.140625 47.34375 \nQ 37.3125 48.390625 33.40625 48.390625 \nQ 24.65625 48.390625 19.8125 42.84375 \nQ 14.984375 37.3125 14.984375 27.296875 \nQ 14.984375 17.28125 19.8125 11.734375 \nQ 24.65625 6.203125 33.40625 6.203125 \nQ 37.3125 6.203125 41.140625 7.25 \nQ 44.96875 8.296875 48.78125 10.40625 \nL 48.78125 2.09375 \nQ 45.015625 0.34375 40.984375 -0.53125 \nQ 36.96875 -1.421875 32.421875 -1.421875 \nQ 20.0625 -1.421875 12.78125 6.34375 \nQ 5.515625 14.109375 5.515625 27.296875 \nQ 5.515625 40.671875 12.859375 48.328125 \nQ 20.21875 56 33.015625 56 \nQ 37.15625 56 41.109375 55.140625 \nQ 45.0625 54.296875 48.78125 52.59375 \nz\n\" id=\"DejaVuSans-99\"/>\n       <path d=\"M 18.3125 70.21875 \nL 18.3125 54.6875 \nL 36.8125 54.6875 \nL 36.8125 47.703125 \nL 18.3125 47.703125 \nL 18.3125 18.015625 \nQ 18.3125 11.328125 20.140625 9.421875 \nQ 21.96875 7.515625 27.59375 7.515625 \nL 36.8125 7.515625 \nL 36.8125 0 \nL 27.59375 0 \nQ 17.1875 0 13.234375 3.875 \nQ 9.28125 7.765625 9.28125 18.015625 \nL 9.28125 47.703125 \nL 2.6875 47.703125 \nL 2.6875 54.6875 \nL 9.28125 54.6875 \nL 9.28125 70.21875 \nz\n\" id=\"DejaVuSans-116\"/>\n       <path d=\"M 45.40625 46.390625 \nL 45.40625 75.984375 \nL 54.390625 75.984375 \nL 54.390625 0 \nL 45.40625 0 \nL 45.40625 8.203125 \nQ 42.578125 3.328125 38.25 0.953125 \nQ 33.9375 -1.421875 27.875 -1.421875 \nQ 17.96875 -1.421875 11.734375 6.484375 \nQ 5.515625 14.40625 5.515625 27.296875 \nQ 5.515625 40.1875 11.734375 48.09375 \nQ 17.96875 56 27.875 56 \nQ 33.9375 56 38.25 53.625 \nQ 42.578125 51.265625 45.40625 46.390625 \nz\nM 14.796875 27.296875 \nQ 14.796875 17.390625 18.875 11.75 \nQ 22.953125 6.109375 30.078125 6.109375 \nQ 37.203125 6.109375 41.296875 11.75 \nQ 45.40625 17.390625 45.40625 27.296875 \nQ 45.40625 37.203125 41.296875 42.84375 \nQ 37.203125 48.484375 30.078125 48.484375 \nQ 22.953125 48.484375 18.875 42.84375 \nQ 14.796875 37.203125 14.796875 27.296875 \nz\n\" id=\"DejaVuSans-100\"/>\n      </defs>\n      <g transform=\"translate(130.325591 254.356563)scale(0.1 -0.1)\">\n       <use xlink:href=\"#DejaVuSans-83\"/>\n       <use x=\"63.476562\" xlink:href=\"#DejaVuSans-101\"/>\n       <use x=\"125\" xlink:href=\"#DejaVuSans-108\"/>\n       <use x=\"152.783203\" xlink:href=\"#DejaVuSans-101\"/>\n       <use x=\"214.306641\" xlink:href=\"#DejaVuSans-99\"/>\n       <use x=\"269.287109\" xlink:href=\"#DejaVuSans-116\"/>\n       <use x=\"308.496094\" xlink:href=\"#DejaVuSans-101\"/>\n       <use x=\"370.019531\" xlink:href=\"#DejaVuSans-100\"/>\n       <use x=\"433.496094\" xlink:href=\"#DejaVuSans-32\"/>\n       <use x=\"465.283203\" xlink:href=\"#DejaVuSans-83\"/>\n       <use x=\"528.759766\" xlink:href=\"#DejaVuSans-71\"/>\n      </g>\n     </g>\n    </g>\n    <g id=\"xtick_3\">\n     <g id=\"line2d_3\">\n      <g>\n       <use style=\"stroke:#000000;stroke-width:0.8;\" x=\"240.735347\" xlink:href=\"#m0bb3f9ab76\" y=\"239.758125\"/>\n      </g>\n     </g>\n     <g id=\"text_3\">\n      <!-- Naive Singles -->\n      <defs>\n       <path d=\"M 54.890625 33.015625 \nL 54.890625 0 \nL 45.90625 0 \nL 45.90625 32.71875 \nQ 45.90625 40.484375 42.875 44.328125 \nQ 39.84375 48.1875 33.796875 48.1875 \nQ 26.515625 48.1875 22.3125 43.546875 \nQ 18.109375 38.921875 18.109375 30.90625 \nL 18.109375 0 \nL 9.078125 0 \nL 9.078125 54.6875 \nL 18.109375 54.6875 \nL 18.109375 46.1875 \nQ 21.34375 51.125 25.703125 53.5625 \nQ 30.078125 56 35.796875 56 \nQ 45.21875 56 50.046875 50.171875 \nQ 54.890625 44.34375 54.890625 33.015625 \nz\n\" id=\"DejaVuSans-110\"/>\n       <path d=\"M 45.40625 27.984375 \nQ 45.40625 37.75 41.375 43.109375 \nQ 37.359375 48.484375 30.078125 48.484375 \nQ 22.859375 48.484375 18.828125 43.109375 \nQ 14.796875 37.75 14.796875 27.984375 \nQ 14.796875 18.265625 18.828125 12.890625 \nQ 22.859375 7.515625 30.078125 7.515625 \nQ 37.359375 7.515625 41.375 12.890625 \nQ 45.40625 18.265625 45.40625 27.984375 \nz\nM 54.390625 6.78125 \nQ 54.390625 -7.171875 48.1875 -13.984375 \nQ 42 -20.796875 29.203125 -20.796875 \nQ 24.46875 -20.796875 20.265625 -20.09375 \nQ 16.0625 -19.390625 12.109375 -17.921875 \nL 12.109375 -9.1875 \nQ 16.0625 -11.328125 19.921875 -12.34375 \nQ 23.78125 -13.375 27.78125 -13.375 \nQ 36.625 -13.375 41.015625 -8.765625 \nQ 45.40625 -4.15625 45.40625 5.171875 \nL 45.40625 9.625 \nQ 42.625 4.78125 38.28125 2.390625 \nQ 33.9375 0 27.875 0 \nQ 17.828125 0 11.671875 7.65625 \nQ 5.515625 15.328125 5.515625 27.984375 \nQ 5.515625 40.671875 11.671875 48.328125 \nQ 17.828125 56 27.875 56 \nQ 33.9375 56 38.28125 53.609375 \nQ 42.625 51.21875 45.40625 46.390625 \nL 45.40625 54.6875 \nL 54.390625 54.6875 \nz\n\" id=\"DejaVuSans-103\"/>\n       <path d=\"M 44.28125 53.078125 \nL 44.28125 44.578125 \nQ 40.484375 46.53125 36.375 47.5 \nQ 32.28125 48.484375 27.875 48.484375 \nQ 21.1875 48.484375 17.84375 46.4375 \nQ 14.5 44.390625 14.5 40.28125 \nQ 14.5 37.15625 16.890625 35.375 \nQ 19.28125 33.59375 26.515625 31.984375 \nL 29.59375 31.296875 \nQ 39.15625 29.25 43.1875 25.515625 \nQ 47.21875 21.78125 47.21875 15.09375 \nQ 47.21875 7.46875 41.1875 3.015625 \nQ 35.15625 -1.421875 24.609375 -1.421875 \nQ 20.21875 -1.421875 15.453125 -0.5625 \nQ 10.6875 0.296875 5.421875 2 \nL 5.421875 11.28125 \nQ 10.40625 8.6875 15.234375 7.390625 \nQ 20.0625 6.109375 24.8125 6.109375 \nQ 31.15625 6.109375 34.5625 8.28125 \nQ 37.984375 10.453125 37.984375 14.40625 \nQ 37.984375 18.0625 35.515625 20.015625 \nQ 33.0625 21.96875 24.703125 23.78125 \nL 21.578125 24.515625 \nQ 13.234375 26.265625 9.515625 29.90625 \nQ 5.8125 33.546875 5.8125 39.890625 \nQ 5.8125 47.609375 11.28125 51.796875 \nQ 16.75 56 26.8125 56 \nQ 31.78125 56 36.171875 55.265625 \nQ 40.578125 54.546875 44.28125 53.078125 \nz\n\" id=\"DejaVuSans-115\"/>\n      </defs>\n      <g transform=\"translate(206.940034 254.356563)scale(0.1 -0.1)\">\n       <use xlink:href=\"#DejaVuSans-78\"/>\n       <use x=\"74.804688\" xlink:href=\"#DejaVuSans-97\"/>\n       <use x=\"136.083984\" xlink:href=\"#DejaVuSans-105\"/>\n       <use x=\"163.867188\" xlink:href=\"#DejaVuSans-118\"/>\n       <use x=\"223.046875\" xlink:href=\"#DejaVuSans-101\"/>\n       <use x=\"284.570312\" xlink:href=\"#DejaVuSans-32\"/>\n       <use x=\"316.357422\" xlink:href=\"#DejaVuSans-83\"/>\n       <use x=\"379.833984\" xlink:href=\"#DejaVuSans-105\"/>\n       <use x=\"407.617188\" xlink:href=\"#DejaVuSans-110\"/>\n       <use x=\"470.996094\" xlink:href=\"#DejaVuSans-103\"/>\n       <use x=\"534.472656\" xlink:href=\"#DejaVuSans-108\"/>\n       <use x=\"562.255859\" xlink:href=\"#DejaVuSans-101\"/>\n       <use x=\"623.779297\" xlink:href=\"#DejaVuSans-115\"/>\n      </g>\n     </g>\n    </g>\n    <g id=\"xtick_4\">\n     <g id=\"line2d_4\">\n      <g>\n       <use style=\"stroke:#000000;stroke-width:0.8;\" x=\"320.831041\" xlink:href=\"#m0bb3f9ab76\" y=\"239.758125\"/>\n      </g>\n     </g>\n     <g id=\"text_4\">\n      <!-- Selected Singles -->\n      <g transform=\"translate(279.588853 254.356563)scale(0.1 -0.1)\">\n       <use xlink:href=\"#DejaVuSans-83\"/>\n       <use x=\"63.476562\" xlink:href=\"#DejaVuSans-101\"/>\n       <use x=\"125\" xlink:href=\"#DejaVuSans-108\"/>\n       <use x=\"152.783203\" xlink:href=\"#DejaVuSans-101\"/>\n       <use x=\"214.306641\" xlink:href=\"#DejaVuSans-99\"/>\n       <use x=\"269.287109\" xlink:href=\"#DejaVuSans-116\"/>\n       <use x=\"308.496094\" xlink:href=\"#DejaVuSans-101\"/>\n       <use x=\"370.019531\" xlink:href=\"#DejaVuSans-100\"/>\n       <use x=\"433.496094\" xlink:href=\"#DejaVuSans-32\"/>\n       <use x=\"465.283203\" xlink:href=\"#DejaVuSans-83\"/>\n       <use x=\"528.759766\" xlink:href=\"#DejaVuSans-105\"/>\n       <use x=\"556.542969\" xlink:href=\"#DejaVuSans-110\"/>\n       <use x=\"619.921875\" xlink:href=\"#DejaVuSans-103\"/>\n       <use x=\"683.398438\" xlink:href=\"#DejaVuSans-108\"/>\n       <use x=\"711.181641\" xlink:href=\"#DejaVuSans-101\"/>\n       <use x=\"772.705078\" xlink:href=\"#DejaVuSans-115\"/>\n      </g>\n     </g>\n    </g>\n    <g id=\"text_5\">\n     <!-- Singles Indicate Sibbling Groups with 1 Member -->\n     <defs>\n      <path d=\"M 9.8125 72.90625 \nL 19.671875 72.90625 \nL 19.671875 0 \nL 9.8125 0 \nz\n\" id=\"DejaVuSans-73\"/>\n      <path d=\"M 48.6875 27.296875 \nQ 48.6875 37.203125 44.609375 42.84375 \nQ 40.53125 48.484375 33.40625 48.484375 \nQ 26.265625 48.484375 22.1875 42.84375 \nQ 18.109375 37.203125 18.109375 27.296875 \nQ 18.109375 17.390625 22.1875 11.75 \nQ 26.265625 6.109375 33.40625 6.109375 \nQ 40.53125 6.109375 44.609375 11.75 \nQ 48.6875 17.390625 48.6875 27.296875 \nz\nM 18.109375 46.390625 \nQ 20.953125 51.265625 25.265625 53.625 \nQ 29.59375 56 35.59375 56 \nQ 45.5625 56 51.78125 48.09375 \nQ 58.015625 40.1875 58.015625 27.296875 \nQ 58.015625 14.40625 51.78125 6.484375 \nQ 45.5625 -1.421875 35.59375 -1.421875 \nQ 29.59375 -1.421875 25.265625 0.953125 \nQ 20.953125 3.328125 18.109375 8.203125 \nL 18.109375 0 \nL 9.078125 0 \nL 9.078125 75.984375 \nL 18.109375 75.984375 \nz\n\" id=\"DejaVuSans-98\"/>\n      <path d=\"M 41.109375 46.296875 \nQ 39.59375 47.171875 37.8125 47.578125 \nQ 36.03125 48 33.890625 48 \nQ 26.265625 48 22.1875 43.046875 \nQ 18.109375 38.09375 18.109375 28.8125 \nL 18.109375 0 \nL 9.078125 0 \nL 9.078125 54.6875 \nL 18.109375 54.6875 \nL 18.109375 46.1875 \nQ 20.953125 51.171875 25.484375 53.578125 \nQ 30.03125 56 36.53125 56 \nQ 37.453125 56 38.578125 55.875 \nQ 39.703125 55.765625 41.0625 55.515625 \nz\n\" id=\"DejaVuSans-114\"/>\n      <path d=\"M 30.609375 48.390625 \nQ 23.390625 48.390625 19.1875 42.75 \nQ 14.984375 37.109375 14.984375 27.296875 \nQ 14.984375 17.484375 19.15625 11.84375 \nQ 23.34375 6.203125 30.609375 6.203125 \nQ 37.796875 6.203125 41.984375 11.859375 \nQ 46.1875 17.53125 46.1875 27.296875 \nQ 46.1875 37.015625 41.984375 42.703125 \nQ 37.796875 48.390625 30.609375 48.390625 \nz\nM 30.609375 56 \nQ 42.328125 56 49.015625 48.375 \nQ 55.71875 40.765625 55.71875 27.296875 \nQ 55.71875 13.875 49.015625 6.21875 \nQ 42.328125 -1.421875 30.609375 -1.421875 \nQ 18.84375 -1.421875 12.171875 6.21875 \nQ 5.515625 13.875 5.515625 27.296875 \nQ 5.515625 40.765625 12.171875 48.375 \nQ 18.84375 56 30.609375 56 \nz\n\" id=\"DejaVuSans-111\"/>\n      <path d=\"M 8.5 21.578125 \nL 8.5 54.6875 \nL 17.484375 54.6875 \nL 17.484375 21.921875 \nQ 17.484375 14.15625 20.5 10.265625 \nQ 23.53125 6.390625 29.59375 6.390625 \nQ 36.859375 6.390625 41.078125 11.03125 \nQ 45.3125 15.671875 45.3125 23.6875 \nL 45.3125 54.6875 \nL 54.296875 54.6875 \nL 54.296875 0 \nL 45.3125 0 \nL 45.3125 8.40625 \nQ 42.046875 3.421875 37.71875 1 \nQ 33.40625 -1.421875 27.6875 -1.421875 \nQ 18.265625 -1.421875 13.375 4.4375 \nQ 8.5 10.296875 8.5 21.578125 \nz\nM 31.109375 56 \nz\n\" id=\"DejaVuSans-117\"/>\n      <path d=\"M 18.109375 8.203125 \nL 18.109375 -20.796875 \nL 9.078125 -20.796875 \nL 9.078125 54.6875 \nL 18.109375 54.6875 \nL 18.109375 46.390625 \nQ 20.953125 51.265625 25.265625 53.625 \nQ 29.59375 56 35.59375 56 \nQ 45.5625 56 51.78125 48.09375 \nQ 58.015625 40.1875 58.015625 27.296875 \nQ 58.015625 14.40625 51.78125 6.484375 \nQ 45.5625 -1.421875 35.59375 -1.421875 \nQ 29.59375 -1.421875 25.265625 0.953125 \nQ 20.953125 3.328125 18.109375 8.203125 \nz\nM 48.6875 27.296875 \nQ 48.6875 37.203125 44.609375 42.84375 \nQ 40.53125 48.484375 33.40625 48.484375 \nQ 26.265625 48.484375 22.1875 42.84375 \nQ 18.109375 37.203125 18.109375 27.296875 \nQ 18.109375 17.390625 22.1875 11.75 \nQ 26.265625 6.109375 33.40625 6.109375 \nQ 40.53125 6.109375 44.609375 11.75 \nQ 48.6875 17.390625 48.6875 27.296875 \nz\n\" id=\"DejaVuSans-112\"/>\n      <path d=\"M 4.203125 54.6875 \nL 13.1875 54.6875 \nL 24.421875 12.015625 \nL 35.59375 54.6875 \nL 46.1875 54.6875 \nL 57.421875 12.015625 \nL 68.609375 54.6875 \nL 77.59375 54.6875 \nL 63.28125 0 \nL 52.6875 0 \nL 40.921875 44.828125 \nL 29.109375 0 \nL 18.5 0 \nz\n\" id=\"DejaVuSans-119\"/>\n      <path d=\"M 54.890625 33.015625 \nL 54.890625 0 \nL 45.90625 0 \nL 45.90625 32.71875 \nQ 45.90625 40.484375 42.875 44.328125 \nQ 39.84375 48.1875 33.796875 48.1875 \nQ 26.515625 48.1875 22.3125 43.546875 \nQ 18.109375 38.921875 18.109375 30.90625 \nL 18.109375 0 \nL 9.078125 0 \nL 9.078125 75.984375 \nL 18.109375 75.984375 \nL 18.109375 46.1875 \nQ 21.34375 51.125 25.703125 53.5625 \nQ 30.078125 56 35.796875 56 \nQ 45.21875 56 50.046875 50.171875 \nQ 54.890625 44.34375 54.890625 33.015625 \nz\n\" id=\"DejaVuSans-104\"/>\n      <path d=\"M 12.40625 8.296875 \nL 28.515625 8.296875 \nL 28.515625 63.921875 \nL 10.984375 60.40625 \nL 10.984375 69.390625 \nL 28.421875 72.90625 \nL 38.28125 72.90625 \nL 38.28125 8.296875 \nL 54.390625 8.296875 \nL 54.390625 0 \nL 12.40625 0 \nz\n\" id=\"DejaVuSans-49\"/>\n      <path d=\"M 9.8125 72.90625 \nL 24.515625 72.90625 \nL 43.109375 23.296875 \nL 61.8125 72.90625 \nL 76.515625 72.90625 \nL 76.515625 0 \nL 66.890625 0 \nL 66.890625 64.015625 \nL 48.09375 14.015625 \nL 38.1875 14.015625 \nL 19.390625 64.015625 \nL 19.390625 0 \nL 9.8125 0 \nz\n\" id=\"DejaVuSans-77\"/>\n      <path d=\"M 52 44.1875 \nQ 55.375 50.25 60.0625 53.125 \nQ 64.75 56 71.09375 56 \nQ 79.640625 56 84.28125 50.015625 \nQ 88.921875 44.046875 88.921875 33.015625 \nL 88.921875 0 \nL 79.890625 0 \nL 79.890625 32.71875 \nQ 79.890625 40.578125 77.09375 44.375 \nQ 74.3125 48.1875 68.609375 48.1875 \nQ 61.625 48.1875 57.5625 43.546875 \nQ 53.515625 38.921875 53.515625 30.90625 \nL 53.515625 0 \nL 44.484375 0 \nL 44.484375 32.71875 \nQ 44.484375 40.625 41.703125 44.40625 \nQ 38.921875 48.1875 33.109375 48.1875 \nQ 26.21875 48.1875 22.15625 43.53125 \nQ 18.109375 38.875 18.109375 30.90625 \nL 18.109375 0 \nL 9.078125 0 \nL 9.078125 54.6875 \nL 18.109375 54.6875 \nL 18.109375 46.1875 \nQ 21.1875 51.21875 25.484375 53.609375 \nQ 29.78125 56 35.6875 56 \nQ 41.65625 56 45.828125 52.96875 \nQ 50 49.953125 52 44.1875 \nz\n\" id=\"DejaVuSans-109\"/>\n     </defs>\n     <g transform=\"translate(44.972891 276.314219)scale(0.13 -0.13)\">\n      <use xlink:href=\"#DejaVuSans-83\"/>\n      <use x=\"63.476562\" xlink:href=\"#DejaVuSans-105\"/>\n      <use x=\"91.259766\" xlink:href=\"#DejaVuSans-110\"/>\n      <use x=\"154.638672\" xlink:href=\"#DejaVuSans-103\"/>\n      <use x=\"218.115234\" xlink:href=\"#DejaVuSans-108\"/>\n      <use x=\"245.898438\" xlink:href=\"#DejaVuSans-101\"/>\n      <use x=\"307.421875\" xlink:href=\"#DejaVuSans-115\"/>\n      <use x=\"359.521484\" xlink:href=\"#DejaVuSans-32\"/>\n      <use x=\"391.308594\" xlink:href=\"#DejaVuSans-73\"/>\n      <use x=\"420.800781\" xlink:href=\"#DejaVuSans-110\"/>\n      <use x=\"484.179688\" xlink:href=\"#DejaVuSans-100\"/>\n      <use x=\"547.65625\" xlink:href=\"#DejaVuSans-105\"/>\n      <use x=\"575.439453\" xlink:href=\"#DejaVuSans-99\"/>\n      <use x=\"630.419922\" xlink:href=\"#DejaVuSans-97\"/>\n      <use x=\"691.699219\" xlink:href=\"#DejaVuSans-116\"/>\n      <use x=\"730.908203\" xlink:href=\"#DejaVuSans-101\"/>\n      <use x=\"792.431641\" xlink:href=\"#DejaVuSans-32\"/>\n      <use x=\"824.21875\" xlink:href=\"#DejaVuSans-83\"/>\n      <use x=\"887.695312\" xlink:href=\"#DejaVuSans-105\"/>\n      <use x=\"915.478516\" xlink:href=\"#DejaVuSans-98\"/>\n      <use x=\"978.955078\" xlink:href=\"#DejaVuSans-98\"/>\n      <use x=\"1042.431641\" xlink:href=\"#DejaVuSans-108\"/>\n      <use x=\"1070.214844\" xlink:href=\"#DejaVuSans-105\"/>\n      <use x=\"1097.998047\" xlink:href=\"#DejaVuSans-110\"/>\n      <use x=\"1161.376953\" xlink:href=\"#DejaVuSans-103\"/>\n      <use x=\"1224.853516\" xlink:href=\"#DejaVuSans-32\"/>\n      <use x=\"1256.640625\" xlink:href=\"#DejaVuSans-71\"/>\n      <use x=\"1334.130859\" xlink:href=\"#DejaVuSans-114\"/>\n      <use x=\"1372.994141\" xlink:href=\"#DejaVuSans-111\"/>\n      <use x=\"1434.175781\" xlink:href=\"#DejaVuSans-117\"/>\n      <use x=\"1497.554688\" xlink:href=\"#DejaVuSans-112\"/>\n      <use x=\"1561.03125\" xlink:href=\"#DejaVuSans-115\"/>\n      <use x=\"1613.130859\" xlink:href=\"#DejaVuSans-32\"/>\n      <use x=\"1644.917969\" xlink:href=\"#DejaVuSans-119\"/>\n      <use x=\"1726.705078\" xlink:href=\"#DejaVuSans-105\"/>\n      <use x=\"1754.488281\" xlink:href=\"#DejaVuSans-116\"/>\n      <use x=\"1793.697266\" xlink:href=\"#DejaVuSans-104\"/>\n      <use x=\"1857.076172\" xlink:href=\"#DejaVuSans-32\"/>\n      <use x=\"1888.863281\" xlink:href=\"#DejaVuSans-49\"/>\n      <use x=\"1952.486328\" xlink:href=\"#DejaVuSans-32\"/>\n      <use x=\"1984.273438\" xlink:href=\"#DejaVuSans-77\"/>\n      <use x=\"2070.552734\" xlink:href=\"#DejaVuSans-101\"/>\n      <use x=\"2132.076172\" xlink:href=\"#DejaVuSans-109\"/>\n      <use x=\"2229.488281\" xlink:href=\"#DejaVuSans-98\"/>\n      <use x=\"2292.964844\" xlink:href=\"#DejaVuSans-101\"/>\n      <use x=\"2354.488281\" xlink:href=\"#DejaVuSans-114\"/>\n     </g>\n    </g>\n   </g>\n   <g id=\"matplotlib.axis_2\">\n    <g id=\"ytick_1\">\n     <g id=\"line2d_5\">\n      <defs>\n       <path d=\"M 0 0 \nL -3.5 0 \n\" id=\"m51b1f80394\" style=\"stroke:#000000;stroke-width:0.8;\"/>\n      </defs>\n      <g>\n       <use style=\"stroke:#000000;stroke-width:0.8;\" x=\"33.2875\" xlink:href=\"#m51b1f80394\" y=\"239.758125\"/>\n      </g>\n     </g>\n     <g id=\"text_6\">\n      <!-- 0 -->\n      <defs>\n       <path d=\"M 31.78125 66.40625 \nQ 24.171875 66.40625 20.328125 58.90625 \nQ 16.5 51.421875 16.5 36.375 \nQ 16.5 21.390625 20.328125 13.890625 \nQ 24.171875 6.390625 31.78125 6.390625 \nQ 39.453125 6.390625 43.28125 13.890625 \nQ 47.125 21.390625 47.125 36.375 \nQ 47.125 51.421875 43.28125 58.90625 \nQ 39.453125 66.40625 31.78125 66.40625 \nz\nM 31.78125 74.21875 \nQ 44.046875 74.21875 50.515625 64.515625 \nQ 56.984375 54.828125 56.984375 36.375 \nQ 56.984375 17.96875 50.515625 8.265625 \nQ 44.046875 -1.421875 31.78125 -1.421875 \nQ 19.53125 -1.421875 13.0625 8.265625 \nQ 6.59375 17.96875 6.59375 36.375 \nQ 6.59375 54.828125 13.0625 64.515625 \nQ 19.53125 74.21875 31.78125 74.21875 \nz\n\" id=\"DejaVuSans-48\"/>\n      </defs>\n      <g transform=\"translate(19.925 243.557344)scale(0.1 -0.1)\">\n       <use xlink:href=\"#DejaVuSans-48\"/>\n      </g>\n     </g>\n    </g>\n    <g id=\"ytick_2\">\n     <g id=\"line2d_6\">\n      <g>\n       <use style=\"stroke:#000000;stroke-width:0.8;\" x=\"33.2875\" xlink:href=\"#m51b1f80394\" y=\"212.146696\"/>\n      </g>\n     </g>\n     <g id=\"text_7\">\n      <!-- 50 -->\n      <defs>\n       <path d=\"M 10.796875 72.90625 \nL 49.515625 72.90625 \nL 49.515625 64.59375 \nL 19.828125 64.59375 \nL 19.828125 46.734375 \nQ 21.96875 47.46875 24.109375 47.828125 \nQ 26.265625 48.1875 28.421875 48.1875 \nQ 40.625 48.1875 47.75 41.5 \nQ 54.890625 34.8125 54.890625 23.390625 \nQ 54.890625 11.625 47.5625 5.09375 \nQ 40.234375 -1.421875 26.90625 -1.421875 \nQ 22.3125 -1.421875 17.546875 -0.640625 \nQ 12.796875 0.140625 7.71875 1.703125 \nL 7.71875 11.625 \nQ 12.109375 9.234375 16.796875 8.0625 \nQ 21.484375 6.890625 26.703125 6.890625 \nQ 35.15625 6.890625 40.078125 11.328125 \nQ 45.015625 15.765625 45.015625 23.390625 \nQ 45.015625 31 40.078125 35.4375 \nQ 35.15625 39.890625 26.703125 39.890625 \nQ 22.75 39.890625 18.8125 39.015625 \nQ 14.890625 38.140625 10.796875 36.28125 \nz\n\" id=\"DejaVuSans-53\"/>\n      </defs>\n      <g transform=\"translate(13.5625 215.945915)scale(0.1 -0.1)\">\n       <use xlink:href=\"#DejaVuSans-53\"/>\n       <use x=\"63.623047\" xlink:href=\"#DejaVuSans-48\"/>\n      </g>\n     </g>\n    </g>\n    <g id=\"ytick_3\">\n     <g id=\"line2d_7\">\n      <g>\n       <use style=\"stroke:#000000;stroke-width:0.8;\" x=\"33.2875\" xlink:href=\"#m51b1f80394\" y=\"184.535268\"/>\n      </g>\n     </g>\n     <g id=\"text_8\">\n      <!-- 100 -->\n      <g transform=\"translate(7.2 188.334487)scale(0.1 -0.1)\">\n       <use xlink:href=\"#DejaVuSans-49\"/>\n       <use x=\"63.623047\" xlink:href=\"#DejaVuSans-48\"/>\n       <use x=\"127.246094\" xlink:href=\"#DejaVuSans-48\"/>\n      </g>\n     </g>\n    </g>\n    <g id=\"ytick_4\">\n     <g id=\"line2d_8\">\n      <g>\n       <use style=\"stroke:#000000;stroke-width:0.8;\" x=\"33.2875\" xlink:href=\"#m51b1f80394\" y=\"156.923839\"/>\n      </g>\n     </g>\n     <g id=\"text_9\">\n      <!-- 150 -->\n      <g transform=\"translate(7.2 160.723058)scale(0.1 -0.1)\">\n       <use xlink:href=\"#DejaVuSans-49\"/>\n       <use x=\"63.623047\" xlink:href=\"#DejaVuSans-53\"/>\n       <use x=\"127.246094\" xlink:href=\"#DejaVuSans-48\"/>\n      </g>\n     </g>\n    </g>\n    <g id=\"ytick_5\">\n     <g id=\"line2d_9\">\n      <g>\n       <use style=\"stroke:#000000;stroke-width:0.8;\" x=\"33.2875\" xlink:href=\"#m51b1f80394\" y=\"129.312411\"/>\n      </g>\n     </g>\n     <g id=\"text_10\">\n      <!-- 200 -->\n      <defs>\n       <path d=\"M 19.1875 8.296875 \nL 53.609375 8.296875 \nL 53.609375 0 \nL 7.328125 0 \nL 7.328125 8.296875 \nQ 12.9375 14.109375 22.625 23.890625 \nQ 32.328125 33.6875 34.8125 36.53125 \nQ 39.546875 41.84375 41.421875 45.53125 \nQ 43.3125 49.21875 43.3125 52.78125 \nQ 43.3125 58.59375 39.234375 62.25 \nQ 35.15625 65.921875 28.609375 65.921875 \nQ 23.96875 65.921875 18.8125 64.3125 \nQ 13.671875 62.703125 7.8125 59.421875 \nL 7.8125 69.390625 \nQ 13.765625 71.78125 18.9375 73 \nQ 24.125 74.21875 28.421875 74.21875 \nQ 39.75 74.21875 46.484375 68.546875 \nQ 53.21875 62.890625 53.21875 53.421875 \nQ 53.21875 48.921875 51.53125 44.890625 \nQ 49.859375 40.875 45.40625 35.40625 \nQ 44.1875 33.984375 37.640625 27.21875 \nQ 31.109375 20.453125 19.1875 8.296875 \nz\n\" id=\"DejaVuSans-50\"/>\n      </defs>\n      <g transform=\"translate(7.2 133.111629)scale(0.1 -0.1)\">\n       <use xlink:href=\"#DejaVuSans-50\"/>\n       <use x=\"63.623047\" xlink:href=\"#DejaVuSans-48\"/>\n       <use x=\"127.246094\" xlink:href=\"#DejaVuSans-48\"/>\n      </g>\n     </g>\n    </g>\n    <g id=\"ytick_6\">\n     <g id=\"line2d_10\">\n      <g>\n       <use style=\"stroke:#000000;stroke-width:0.8;\" x=\"33.2875\" xlink:href=\"#m51b1f80394\" y=\"101.700982\"/>\n      </g>\n     </g>\n     <g id=\"text_11\">\n      <!-- 250 -->\n      <g transform=\"translate(7.2 105.500201)scale(0.1 -0.1)\">\n       <use xlink:href=\"#DejaVuSans-50\"/>\n       <use x=\"63.623047\" xlink:href=\"#DejaVuSans-53\"/>\n       <use x=\"127.246094\" xlink:href=\"#DejaVuSans-48\"/>\n      </g>\n     </g>\n    </g>\n    <g id=\"ytick_7\">\n     <g id=\"line2d_11\">\n      <g>\n       <use style=\"stroke:#000000;stroke-width:0.8;\" x=\"33.2875\" xlink:href=\"#m51b1f80394\" y=\"74.089554\"/>\n      </g>\n     </g>\n     <g id=\"text_12\">\n      <!-- 300 -->\n      <defs>\n       <path d=\"M 40.578125 39.3125 \nQ 47.65625 37.796875 51.625 33 \nQ 55.609375 28.21875 55.609375 21.1875 \nQ 55.609375 10.40625 48.1875 4.484375 \nQ 40.765625 -1.421875 27.09375 -1.421875 \nQ 22.515625 -1.421875 17.65625 -0.515625 \nQ 12.796875 0.390625 7.625 2.203125 \nL 7.625 11.71875 \nQ 11.71875 9.328125 16.59375 8.109375 \nQ 21.484375 6.890625 26.8125 6.890625 \nQ 36.078125 6.890625 40.9375 10.546875 \nQ 45.796875 14.203125 45.796875 21.1875 \nQ 45.796875 27.640625 41.28125 31.265625 \nQ 36.765625 34.90625 28.71875 34.90625 \nL 20.21875 34.90625 \nL 20.21875 43.015625 \nL 29.109375 43.015625 \nQ 36.375 43.015625 40.234375 45.921875 \nQ 44.09375 48.828125 44.09375 54.296875 \nQ 44.09375 59.90625 40.109375 62.90625 \nQ 36.140625 65.921875 28.71875 65.921875 \nQ 24.65625 65.921875 20.015625 65.03125 \nQ 15.375 64.15625 9.8125 62.3125 \nL 9.8125 71.09375 \nQ 15.4375 72.65625 20.34375 73.4375 \nQ 25.25 74.21875 29.59375 74.21875 \nQ 40.828125 74.21875 47.359375 69.109375 \nQ 53.90625 64.015625 53.90625 55.328125 \nQ 53.90625 49.265625 50.4375 45.09375 \nQ 46.96875 40.921875 40.578125 39.3125 \nz\n\" id=\"DejaVuSans-51\"/>\n      </defs>\n      <g transform=\"translate(7.2 77.888772)scale(0.1 -0.1)\">\n       <use xlink:href=\"#DejaVuSans-51\"/>\n       <use x=\"63.623047\" xlink:href=\"#DejaVuSans-48\"/>\n       <use x=\"127.246094\" xlink:href=\"#DejaVuSans-48\"/>\n      </g>\n     </g>\n    </g>\n    <g id=\"ytick_8\">\n     <g id=\"line2d_12\">\n      <g>\n       <use style=\"stroke:#000000;stroke-width:0.8;\" x=\"33.2875\" xlink:href=\"#m51b1f80394\" y=\"46.478125\"/>\n      </g>\n     </g>\n     <g id=\"text_13\">\n      <!-- 350 -->\n      <g transform=\"translate(7.2 50.277344)scale(0.1 -0.1)\">\n       <use xlink:href=\"#DejaVuSans-51\"/>\n       <use x=\"63.623047\" xlink:href=\"#DejaVuSans-53\"/>\n       <use x=\"127.246094\" xlink:href=\"#DejaVuSans-48\"/>\n      </g>\n     </g>\n    </g>\n   </g>\n   <g id=\"patch_7\">\n    <path d=\"M 33.2875 239.758125 \nL 33.2875 22.318125 \n\" style=\"fill:none;stroke:#000000;stroke-linecap:square;stroke-linejoin:miter;stroke-width:0.8;\"/>\n   </g>\n   <g id=\"patch_8\">\n    <path d=\"M 368.0875 239.758125 \nL 368.0875 22.318125 \n\" style=\"fill:none;stroke:#000000;stroke-linecap:square;stroke-linejoin:miter;stroke-width:0.8;\"/>\n   </g>\n   <g id=\"patch_9\">\n    <path d=\"M 33.2875 239.758125 \nL 368.0875 239.758125 \n\" style=\"fill:none;stroke:#000000;stroke-linecap:square;stroke-linejoin:miter;stroke-width:0.8;\"/>\n   </g>\n   <g id=\"patch_10\">\n    <path d=\"M 33.2875 22.318125 \nL 368.0875 22.318125 \n\" style=\"fill:none;stroke:#000000;stroke-linecap:square;stroke-linejoin:miter;stroke-width:0.8;\"/>\n   </g>\n   <g id=\"text_14\">\n    <!-- Number of Sibbling Groups -->\n    <defs>\n     <path d=\"M 37.109375 75.984375 \nL 37.109375 68.5 \nL 28.515625 68.5 \nQ 23.6875 68.5 21.796875 66.546875 \nQ 19.921875 64.59375 19.921875 59.515625 \nL 19.921875 54.6875 \nL 34.71875 54.6875 \nL 34.71875 47.703125 \nL 19.921875 47.703125 \nL 19.921875 0 \nL 10.890625 0 \nL 10.890625 47.703125 \nL 2.296875 47.703125 \nL 2.296875 54.6875 \nL 10.890625 54.6875 \nL 10.890625 58.5 \nQ 10.890625 67.625 15.140625 71.796875 \nQ 19.390625 75.984375 28.609375 75.984375 \nz\n\" id=\"DejaVuSans-102\"/>\n    </defs>\n    <g transform=\"translate(119.651875 16.318125)scale(0.12 -0.12)\">\n     <use xlink:href=\"#DejaVuSans-78\"/>\n     <use x=\"74.804688\" xlink:href=\"#DejaVuSans-117\"/>\n     <use x=\"138.183594\" xlink:href=\"#DejaVuSans-109\"/>\n     <use x=\"235.595703\" xlink:href=\"#DejaVuSans-98\"/>\n     <use x=\"299.072266\" xlink:href=\"#DejaVuSans-101\"/>\n     <use x=\"360.595703\" xlink:href=\"#DejaVuSans-114\"/>\n     <use x=\"401.708984\" xlink:href=\"#DejaVuSans-32\"/>\n     <use x=\"433.496094\" xlink:href=\"#DejaVuSans-111\"/>\n     <use x=\"494.677734\" xlink:href=\"#DejaVuSans-102\"/>\n     <use x=\"529.882812\" xlink:href=\"#DejaVuSans-32\"/>\n     <use x=\"561.669922\" xlink:href=\"#DejaVuSans-83\"/>\n     <use x=\"625.146484\" xlink:href=\"#DejaVuSans-105\"/>\n     <use x=\"652.929688\" xlink:href=\"#DejaVuSans-98\"/>\n     <use x=\"716.40625\" xlink:href=\"#DejaVuSans-98\"/>\n     <use x=\"779.882812\" xlink:href=\"#DejaVuSans-108\"/>\n     <use x=\"807.666016\" xlink:href=\"#DejaVuSans-105\"/>\n     <use x=\"835.449219\" xlink:href=\"#DejaVuSans-110\"/>\n     <use x=\"898.828125\" xlink:href=\"#DejaVuSans-103\"/>\n     <use x=\"962.304688\" xlink:href=\"#DejaVuSans-32\"/>\n     <use x=\"994.091797\" xlink:href=\"#DejaVuSans-71\"/>\n     <use x=\"1071.582031\" xlink:href=\"#DejaVuSans-114\"/>\n     <use x=\"1110.445312\" xlink:href=\"#DejaVuSans-111\"/>\n     <use x=\"1171.626953\" xlink:href=\"#DejaVuSans-117\"/>\n     <use x=\"1235.005859\" xlink:href=\"#DejaVuSans-112\"/>\n     <use x=\"1298.482422\" xlink:href=\"#DejaVuSans-115\"/>\n    </g>\n   </g>\n  </g>\n </g>\n <defs>\n  <clipPath id=\"p31d446ced0\">\n   <rect height=\"217.44\" width=\"334.8\" x=\"33.2875\" y=\"22.318125\"/>\n  </clipPath>\n </defs>\n</svg>\n",
      "image/png": "[encoded data removed]"
     },
     "metadata": {
      "needs_background": "light"
     }
    }
   ],
   "source": [
    "labels_bar_sibblings = ['Naive SG', 'Selected SG', 'Naive Singles', 'Selected Singles']\n",
    "data_bar_sibblings = [\n",
    "    len(naive_sibbling_groups), \n",
    "    len(selected_sibbling_groups),\n",
    "    len(n_s_g),\n",
    "    len(s_s_g)\n",
    "    ]\n",
    "plt.bar(labels_bar_sibblings, data_bar_sibblings)\n",
    "plt.title('Number of Sibbling Groups')\n",
    "plt.xlabel('Singles Indicate Sibbling Groups with 1 Member',fontdict={\n",
    "    'weight':'normal',\n",
    "    'size':'13'\n",
    "},  labelpad=10)\n",
    "\n",
    "plt.savefig('sibbling-groups-distribution-august-5.png', bbox_inches='tight')"
   ]
  },
  {
   "cell_type": "markdown",
   "metadata": {},
   "source": [
    "### Create a general df with this structure:\n",
    "\n",
    "1. SampleName_1_^_SampleName_2 | Motifs_1 | Motifs_1 | Sibbling\n",
    "2. Create new record for every permutation and append to DF with a label"
   ]
  },
  {
   "cell_type": "code",
   "execution_count": 79,
   "metadata": {},
   "outputs": [
    {
     "output_type": "execute_result",
     "data": {
      "text/plain": "                                  sampleName       TYA       LDV       AWL  \\\n0        20160602-07ABsaGN-OO-3__R2F3_RN1RP1  117404.0  117293.0  117027.0   \n1      20170808-109OOooNA-JB-3__R10F5_RN1RP3      36.0       0.0       1.0   \n2      20170808-109OOooNA-JB-3__R10F6_RN1RP4      52.0       0.0       7.0   \n3       20170808-109OOooNA-JB-3__R9F1_RN1RP1      55.0      31.0       1.0   \n4       20170808-109OOooNA-JB-3__R9F2_RN1RP2     205.0       0.0       0.0   \n...                                      ...       ...       ...       ...   \n2392     20170228-23ARooOO-HD-3__R8F3_RN1RP4      70.0       7.0       1.0   \n2393  20171106-130OOicXP-JW-3__R10F15_RN6RP4       0.0       0.0       0.0   \n2394     20170202-71MZdcEB-DF-3__R7F1_RN1RP1     617.0     491.0     317.0   \n2395     20170202-71MZdcEB-DF-3__R7F2_RN1RP2     569.0     456.0     323.0   \n2396     20170202-71MZdcEB-DF-3__R7F3_RN1RP3     517.0     402.0     238.0   \n\n           WLD       YAW      HQH      SGQ      DHQ      GQD  ...  WEC  WIC  \\\n0     116979.0  116949.0  51752.0  51567.0  51530.0  51492.0  ...  0.0  0.0   \n1         67.0       1.0      4.0     58.0     16.0     64.0  ...  0.0  0.0   \n2          3.0       8.0     37.0     21.0      8.0     24.0  ...  0.0  0.0   \n3          5.0      13.0     37.0     47.0      5.0     27.0  ...  0.0  0.0   \n4          1.0       2.0     84.0      1.0     21.0      4.0  ...  0.0  0.0   \n...        ...       ...      ...      ...      ...      ...  ...  ...  ...   \n2392      24.0      17.0     86.0      6.0     20.0     17.0  ...  0.0  0.0   \n2393       0.0       0.0      0.0      0.0      0.0      0.0  ...  0.0  0.0   \n2394     307.0     275.0    228.0    313.0    196.0    228.0  ...  6.0  3.0   \n2395     282.0     260.0    229.0    312.0    197.0    206.0  ...  4.0  8.0   \n2396     213.0     205.0    250.0    339.0    211.0    214.0  ...  7.0  1.0   \n\n      WMC  CFW   EMC   FCM  CWW  WWC  CWV  naiveLibrary  \n0     0.0  0.0   0.0   0.0  0.0  0.0  0.0             0  \n1     0.0  0.0   0.0   0.0  0.0  0.0  0.0             1  \n2     0.0  0.0   0.0   0.0  0.0  0.0  0.0             1  \n3     0.0  0.0   0.0   0.0  0.0  0.0  0.0             1  \n4     0.0  0.0   0.0   0.0  0.0  0.0  0.0             1  \n...   ...  ...   ...   ...  ...  ...  ...           ...  \n2392  0.0  0.0   0.0   0.0  0.0  0.0  0.0             1  \n2393  0.0  0.0   0.0   0.0  0.0  0.0  0.0             0  \n2394  3.0  4.0  11.0   8.0  1.0  3.0  5.0             0  \n2395  1.0  3.0   7.0   6.0  2.0  0.0  5.0             0  \n2396  3.0  3.0   7.0  11.0  3.0  3.0  4.0             0  \n\n[2397 rows x 8002 columns]",
      "text/html": "<div>\n<style scoped>\n    .dataframe tbody tr th:only-of-type {\n        vertical-align: middle;\n    }\n\n    .dataframe tbody tr th {\n        vertical-align: top;\n    }\n\n    .dataframe thead th {\n        text-align: right;\n    }\n</style>\n<table border=\"1\" class=\"dataframe\">\n  <thead>\n    <tr style=\"text-align: right;\">\n      <th></th>\n      <th>sampleName</th>\n      <th>TYA</th>\n      <th>LDV</th>\n      <th>AWL</th>\n      <th>WLD</th>\n      <th>YAW</th>\n      <th>HQH</th>\n      <th>SGQ</th>\n      <th>DHQ</th>\n      <th>GQD</th>\n      <th>...</th>\n      <th>WEC</th>\n      <th>WIC</th>\n      <th>WMC</th>\n      <th>CFW</th>\n      <th>EMC</th>\n      <th>FCM</th>\n      <th>CWW</th>\n      <th>WWC</th>\n      <th>CWV</th>\n      <th>naiveLibrary</th>\n    </tr>\n  </thead>\n  <tbody>\n    <tr>\n      <th>0</th>\n      <td>20160602-07ABsaGN-OO-3__R2F3_RN1RP1</td>\n      <td>117404.0</td>\n      <td>117293.0</td>\n      <td>117027.0</td>\n      <td>116979.0</td>\n      <td>116949.0</td>\n      <td>51752.0</td>\n      <td>51567.0</td>\n      <td>51530.0</td>\n      <td>51492.0</td>\n      <td>...</td>\n      <td>0.0</td>\n      <td>0.0</td>\n      <td>0.0</td>\n      <td>0.0</td>\n      <td>0.0</td>\n      <td>0.0</td>\n      <td>0.0</td>\n      <td>0.0</td>\n      <td>0.0</td>\n      <td>0</td>\n    </tr>\n    <tr>\n      <th>1</th>\n      <td>20170808-109OOooNA-JB-3__R10F5_RN1RP3</td>\n      <td>36.0</td>\n      <td>0.0</td>\n      <td>1.0</td>\n      <td>67.0</td>\n      <td>1.0</td>\n      <td>4.0</td>\n      <td>58.0</td>\n      <td>16.0</td>\n      <td>64.0</td>\n      <td>...</td>\n      <td>0.0</td>\n      <td>0.0</td>\n      <td>0.0</td>\n      <td>0.0</td>\n      <td>0.0</td>\n      <td>0.0</td>\n      <td>0.0</td>\n      <td>0.0</td>\n      <td>0.0</td>\n      <td>1</td>\n    </tr>\n    <tr>\n      <th>2</th>\n      <td>20170808-109OOooNA-JB-3__R10F6_RN1RP4</td>\n      <td>52.0</td>\n      <td>0.0</td>\n      <td>7.0</td>\n      <td>3.0</td>\n      <td>8.0</td>\n      <td>37.0</td>\n      <td>21.0</td>\n      <td>8.0</td>\n      <td>24.0</td>\n      <td>...</td>\n      <td>0.0</td>\n      <td>0.0</td>\n      <td>0.0</td>\n      <td>0.0</td>\n      <td>0.0</td>\n      <td>0.0</td>\n      <td>0.0</td>\n      <td>0.0</td>\n      <td>0.0</td>\n      <td>1</td>\n    </tr>\n    <tr>\n      <th>3</th>\n      <td>20170808-109OOooNA-JB-3__R9F1_RN1RP1</td>\n      <td>55.0</td>\n      <td>31.0</td>\n      <td>1.0</td>\n      <td>5.0</td>\n      <td>13.0</td>\n      <td>37.0</td>\n      <td>47.0</td>\n      <td>5.0</td>\n      <td>27.0</td>\n      <td>...</td>\n      <td>0.0</td>\n      <td>0.0</td>\n      <td>0.0</td>\n      <td>0.0</td>\n      <td>0.0</td>\n      <td>0.0</td>\n      <td>0.0</td>\n      <td>0.0</td>\n      <td>0.0</td>\n      <td>1</td>\n    </tr>\n    <tr>\n      <th>4</th>\n      <td>20170808-109OOooNA-JB-3__R9F2_RN1RP2</td>\n      <td>205.0</td>\n      <td>0.0</td>\n      <td>0.0</td>\n      <td>1.0</td>\n      <td>2.0</td>\n      <td>84.0</td>\n      <td>1.0</td>\n      <td>21.0</td>\n      <td>4.0</td>\n      <td>...</td>\n      <td>0.0</td>\n      <td>0.0</td>\n      <td>0.0</td>\n      <td>0.0</td>\n      <td>0.0</td>\n      <td>0.0</td>\n      <td>0.0</td>\n      <td>0.0</td>\n      <td>0.0</td>\n      <td>1</td>\n    </tr>\n    <tr>\n      <th>...</th>\n      <td>...</td>\n      <td>...</td>\n      <td>...</td>\n      <td>...</td>\n      <td>...</td>\n      <td>...</td>\n      <td>...</td>\n      <td>...</td>\n      <td>...</td>\n      <td>...</td>\n      <td>...</td>\n      <td>...</td>\n      <td>...</td>\n      <td>...</td>\n      <td>...</td>\n      <td>...</td>\n      <td>...</td>\n      <td>...</td>\n      <td>...</td>\n      <td>...</td>\n      <td>...</td>\n    </tr>\n    <tr>\n      <th>2392</th>\n      <td>20170228-23ARooOO-HD-3__R8F3_RN1RP4</td>\n      <td>70.0</td>\n      <td>7.0</td>\n      <td>1.0</td>\n      <td>24.0</td>\n      <td>17.0</td>\n      <td>86.0</td>\n      <td>6.0</td>\n      <td>20.0</td>\n      <td>17.0</td>\n      <td>...</td>\n      <td>0.0</td>\n      <td>0.0</td>\n      <td>0.0</td>\n      <td>0.0</td>\n      <td>0.0</td>\n      <td>0.0</td>\n      <td>0.0</td>\n      <td>0.0</td>\n      <td>0.0</td>\n      <td>1</td>\n    </tr>\n    <tr>\n      <th>2393</th>\n      <td>20171106-130OOicXP-JW-3__R10F15_RN6RP4</td>\n      <td>0.0</td>\n      <td>0.0</td>\n      <td>0.0</td>\n      <td>0.0</td>\n      <td>0.0</td>\n      <td>0.0</td>\n      <td>0.0</td>\n      <td>0.0</td>\n      <td>0.0</td>\n      <td>...</td>\n      <td>0.0</td>\n      <td>0.0</td>\n      <td>0.0</td>\n      <td>0.0</td>\n      <td>0.0</td>\n      <td>0.0</td>\n      <td>0.0</td>\n      <td>0.0</td>\n      <td>0.0</td>\n      <td>0</td>\n    </tr>\n    <tr>\n      <th>2394</th>\n      <td>20170202-71MZdcEB-DF-3__R7F1_RN1RP1</td>\n      <td>617.0</td>\n      <td>491.0</td>\n      <td>317.0</td>\n      <td>307.0</td>\n      <td>275.0</td>\n      <td>228.0</td>\n      <td>313.0</td>\n      <td>196.0</td>\n      <td>228.0</td>\n      <td>...</td>\n      <td>6.0</td>\n      <td>3.0</td>\n      <td>3.0</td>\n      <td>4.0</td>\n      <td>11.0</td>\n      <td>8.0</td>\n      <td>1.0</td>\n      <td>3.0</td>\n      <td>5.0</td>\n      <td>0</td>\n    </tr>\n    <tr>\n      <th>2395</th>\n      <td>20170202-71MZdcEB-DF-3__R7F2_RN1RP2</td>\n      <td>569.0</td>\n      <td>456.0</td>\n      <td>323.0</td>\n      <td>282.0</td>\n      <td>260.0</td>\n      <td>229.0</td>\n      <td>312.0</td>\n      <td>197.0</td>\n      <td>206.0</td>\n      <td>...</td>\n      <td>4.0</td>\n      <td>8.0</td>\n      <td>1.0</td>\n      <td>3.0</td>\n      <td>7.0</td>\n      <td>6.0</td>\n      <td>2.0</td>\n      <td>0.0</td>\n      <td>5.0</td>\n      <td>0</td>\n    </tr>\n    <tr>\n      <th>2396</th>\n      <td>20170202-71MZdcEB-DF-3__R7F3_RN1RP3</td>\n      <td>517.0</td>\n      <td>402.0</td>\n      <td>238.0</td>\n      <td>213.0</td>\n      <td>205.0</td>\n      <td>250.0</td>\n      <td>339.0</td>\n      <td>211.0</td>\n      <td>214.0</td>\n      <td>...</td>\n      <td>7.0</td>\n      <td>1.0</td>\n      <td>3.0</td>\n      <td>3.0</td>\n      <td>7.0</td>\n      <td>11.0</td>\n      <td>3.0</td>\n      <td>3.0</td>\n      <td>4.0</td>\n      <td>0</td>\n    </tr>\n  </tbody>\n</table>\n<p>2397 rows × 8002 columns</p>\n</div>"
     },
     "metadata": {},
     "execution_count": 79
    }
   ],
   "source": [
    "data_start"
   ]
  },
  {
   "cell_type": "code",
   "execution_count": 86,
   "metadata": {},
   "outputs": [],
   "source": [
    "columns_start = data_start.columns\n",
    "columns_1 = [column_name +'_1' for column_name in columns_start]\n",
    "columns_2 = [column_name +'_2' for column_name in columns_start]\n"
   ]
  },
  {
   "cell_type": "code",
   "execution_count": 87,
   "metadata": {},
   "outputs": [],
   "source": [
    "df_pairwise_start = pd.DataFrame(columns=columns_1+columns_2)"
   ]
  },
  {
   "cell_type": "code",
   "execution_count": 88,
   "metadata": {},
   "outputs": [
    {
     "output_type": "execute_result",
     "data": {
      "text/plain": "Empty DataFrame\nColumns: [sampleName_1, TYA_1, LDV_1, AWL_1, WLD_1, YAW_1, HQH_1, SGQ_1, DHQ_1, GQD_1, QDH_1, SAP_1, PGA_1, WAR_1, GAT_1, NIS_1, TWA_1, ATW_1, APN_1, PND_1, ISA_1, APM_1, MET_1, MME_1, PMM_1, LAS_1, LNT_1, MLA_1, PLN_1, NTT_1, RVM_1, NRV_1, VML_1, KPL_1, TTY_1, PNL_1, NLP_1, LPN_1, NLI_1, GNL_1, TTL_1, ALK_1, PFR_1, GAL_1, LKP_1, KPF_1, TRY_1, AGT_1, GTR_1, SPT_1, RYQ_1, YQP_1, NRS_1, NKS_1, RSP_1, NGN_1, PNG_1, GNK_1, KSF_1, PTG_1, ASS_1, INR_1, TAS_1, HRV_1, RTT_1, ART_1, SSH_1, RVH_1, DTA_1, TDT_1, HNA_1, VHH_1, HHA_1, IPH_1, HAD_1, PHN_1, QIP_1, VQI_1, NSH_1, NAL_1, RPN_1, SRP_1, SAR_1, LLP_1, MSA_1, MPS_1, GLS_1, VTL_1, LPV_1, TLL_1, PSH_1, DSR_1, PNS_1, PVG_1, HAL_1, LSY_1, TLK_1, LKV_1, ETT_1, SHA_1, ...]\nIndex: []\n\n[0 rows x 16004 columns]",
      "text/html": "<div>\n<style scoped>\n    .dataframe tbody tr th:only-of-type {\n        vertical-align: middle;\n    }\n\n    .dataframe tbody tr th {\n        vertical-align: top;\n    }\n\n    .dataframe thead th {\n        text-align: right;\n    }\n</style>\n<table border=\"1\" class=\"dataframe\">\n  <thead>\n    <tr style=\"text-align: right;\">\n      <th></th>\n      <th>sampleName_1</th>\n      <th>TYA_1</th>\n      <th>LDV_1</th>\n      <th>AWL_1</th>\n      <th>WLD_1</th>\n      <th>YAW_1</th>\n      <th>HQH_1</th>\n      <th>SGQ_1</th>\n      <th>DHQ_1</th>\n      <th>GQD_1</th>\n      <th>...</th>\n      <th>WEC_2</th>\n      <th>WIC_2</th>\n      <th>WMC_2</th>\n      <th>CFW_2</th>\n      <th>EMC_2</th>\n      <th>FCM_2</th>\n      <th>CWW_2</th>\n      <th>WWC_2</th>\n      <th>CWV_2</th>\n      <th>naiveLibrary_2</th>\n    </tr>\n  </thead>\n  <tbody>\n  </tbody>\n</table>\n<p>0 rows × 16004 columns</p>\n</div>"
     },
     "metadata": {},
     "execution_count": 88
    }
   ],
   "source": [
    "df_pairwise_start"
   ]
  },
  {
   "cell_type": "markdown",
   "metadata": {},
   "source": [
    "Couple of ways of doing this:\n",
    "\n",
    "1. Add combined record to new DF\n",
    "2. Create two DFs, add left and right records as per the iterator in the correct order. Then rename the columns in each axis with _1 and _2. Combine the two on axis =1. Create one more df with combined name and label. \n"
   ]
  }
 ],
 "metadata": {
  "kernelspec": {
   "display_name": "derda1",
   "name": "derda1"
  },
  "orig_nbformat": 2
 },
 "nbformat": 4,
 "nbformat_minor": 2
}