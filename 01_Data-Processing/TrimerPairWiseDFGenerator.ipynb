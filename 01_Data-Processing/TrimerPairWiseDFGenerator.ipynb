{
 "metadata": {
  "language_info": {
   "codemirror_mode": {
    "name": "ipython",
    "version": 3
   },
   "file_extension": ".py",
   "mimetype": "text/x-python",
   "name": "python",
   "nbconvert_exporter": "python",
   "pygments_lexer": "ipython3",
   "version": "3.8.3-final"
  },
  "orig_nbformat": 2,
  "kernelspec": {
   "name": "derda1",
   "display_name": "derda1"
  }
 },
 "nbformat": 4,
 "nbformat_minor": 2,
 "cells": [
  {
   "cell_type": "markdown",
   "metadata": {},
   "source": [
    "# Create PairWise Training and Test Sets\n",
    "Strategy: \n",
    "\n",
    "1. Create a common data frame with 8000*2, 1 label, and n rows of samples. Call this **mainDF**\n",
    "2. Use **sourceDF** to do a stratified random sampling of the samples so we have even distribution of labels. \n",
    "3. Append 2 samples to mainDF and add label based on the samples added\n",
    "4. Labels: Not Sibblings, Sibblings\n",
    "5. The label is based on filename again where two samples are sibblings if: XXXXX-RPn everything except n matches. \n",
    "\n"
   ]
  },
  {
   "cell_type": "code",
   "execution_count": 2,
   "metadata": {},
   "outputs": [],
   "source": [
    "import pandas as pd\n",
    "from fileFunctionsModule import importCSVMotifFilesAsDfFromDir\n",
    "import matplotlib.pyplot as plt\n",
    "import seaborn as sns\n",
    "from sklearn.preprocessing import StandardScaler, MinMaxScaler\n",
    "from sklearn.pipeline import Pipeline, FeatureUnion\n",
    "from sklearn.model_selection import GridSearchCV\n",
    "import time\n",
    "from datetime import date\n",
    "import sys\n",
    "import os.path"
   ]
  },
  {
   "cell_type": "code",
   "execution_count": 3,
   "metadata": {},
   "outputs": [],
   "source": [
    "# ! Define variables to be used\n",
    "rerun_data_compilation = False\n",
    "data_path = \"\"\n",
    "data_type = \"\"\n",
    "date_current = str(date.today().isoformat())\n",
    "\n",
    "# Ask user what kind of data needs to be processed and if data should be recompiled from source csv files. \n",
    "while (data_type.lower() not in ['trimer', 'tetramer']) :\n",
    "    data_type = input('Process Trimer or Tetramer data type?')\n",
    "    if (input('Would you like to rerun data compilation? Y or N').upper() == 'N'):\n",
    "        rerun_data_compilation = False\n",
    "    else:\n",
    "        rerun_data_compilation = True\n",
    "\n",
    "if data_type == 'trimer':\n",
    "    data_path = \"../03_SourceFiles/01_TrimerSourceFiles\"\n",
    "elif data_type == 'tetramer':\n",
    "    data_path = \"../03_SourceFiles/02_TetramerSourceFiles\"\n"
   ]
  },
  {
   "cell_type": "code",
   "execution_count": 4,
   "metadata": {
    "tags": []
   },
   "outputs": [
    {
     "output_type": "stream",
     "name": "stdout",
     "text": "File read succsessful. Data frame loaded into memory.\n"
    }
   ],
   "source": [
    "# Checks if user wants to rerun data compilation. If not, old label file is used from memory\n",
    "if rerun_data_compilation:\n",
    "    # Import Data \n",
    "    # transpose axis of the dataframe:\n",
    "    # Fill na and nan values with 0 instead\n",
    "    data_start = importCSVMotifFilesAsDfFromDir(data_path).transpose().reset_index().fillna(0)\n",
    "\n",
    "    # Rename index column to sampleName in place\n",
    "    data_start.rename(columns={'index': 'sampleName'}, inplace=True)\n",
    "\n",
    "    # Add a new column with a binary identifier for a naive vs selected library. i.e = 1 is naive and 0 is selected\n",
    "    data_start['naiveLibrary'] = data_start.apply(\n",
    "        lambda row: (('oo' in row.sampleName[10:21]) and\n",
    "                    ('RN0' in row.sampleName[-6:] or 'RN1' in row.sampleName[-6:])),\n",
    "        axis=1\n",
    "    )\n",
    "\n",
    "    # convert the data in the column (NaiveLibrary) to int type so it is readable\n",
    "    data_start['naiveLibrary'] = data_start['naiveLibrary'].astype(int)\n",
    "\n",
    "    if (input('Would you like to save the resulting DF as a csv for future use or overwrite the previously saved csv? Y or N').upper() == 'Y'):\n",
    "        data_start.to_csv(str('../03_SourceFiles/03_ProcessedFiles/'+data_type+'-combined-labeled.csv'))\n",
    "        print('DF Structure Saved to file.')\n",
    "    else:\n",
    "        pass\n",
    "elif not rerun_data_compilation:\n",
    "    if os.path.isfile(str('../03_SourceFiles/03_ProcessedFiles/'+data_type+'-combined-labeled.csv')):\n",
    "        try:\n",
    "            data_start = pd.read_csv(\n",
    "                str('../03_SourceFiles/03_ProcessedFiles/'+data_type+'-combined-labeled.csv'),\n",
    "                engine='c',\n",
    "                low_memory=False,\n",
    "                index_col=0\n",
    "                )\n",
    "            print('File read succsessful. Data frame loaded into memory.')\n",
    "        except:\n",
    "            print('Something went wrong while trying to read the csv file. Please rerun data compilation or check file manually.')\n",
    "            sys.exit()\n",
    "    else:\n",
    "        print('CSV File does not exist in the source folder (03_SourceFiles/03_ProcessedFiles). Please re-run compilation')\n"
   ]
  },
  {
   "cell_type": "markdown",
   "metadata": {},
   "source": [
    "## Find # of sibblings in data set & separate them out into sibbling groups. \n",
    "\n",
    "1. Create a naive and a selected set. \n",
    "2. Create two dictionaries: one containing groups of naive sibblings and one for selected sibblings. \n",
    "3. Enumerate sets to use for stats later. "
   ]
  },
  {
   "cell_type": "code",
   "execution_count": 5,
   "metadata": {},
   "outputs": [],
   "source": [
    "naive_set = data_start[(data_start['naiveLibrary'] == 1)]['sampleName']\n",
    "selected_set = data_start[~(data_start['naiveLibrary'] == 1)]['sampleName']"
   ]
  },
  {
   "cell_type": "code",
   "execution_count": 27,
   "metadata": {
    "tags": []
   },
   "outputs": [],
   "source": [
    "naive_sibbling_groups = {}\n",
    "selected_sibbling_groups = {}\n",
    "\n",
    "for index, value in naive_set.items():\n",
    "    if (value.split('__')[0]) not in naive_sibbling_groups:\n",
    "        naive_sibbling_groups[(value.split('__')[0])] = [value]\n",
    "    else:\n",
    "        if value not in naive_sibbling_groups[value.split('__')[0]]:\n",
    "            naive_sibbling_groups[(value.split('__')[0])].append(value)\n",
    "\n",
    "for index, value in selected_set.items():\n",
    "    if (value.split('__')[0]) not in selected_sibbling_groups:\n",
    "        selected_sibbling_groups[(value.split('__')[0])] = [value]\n",
    "    else:\n",
    "        if value not in selected_sibbling_groups[value.split('__')[0]]:\n",
    "            selected_sibbling_groups[(value.split('__')[0])].append(value)\n"
   ]
  },
  {
   "cell_type": "code",
   "execution_count": 28,
   "metadata": {
    "tags": []
   },
   "outputs": [
    {
     "output_type": "stream",
     "name": "stdout",
     "text": "20170808-109OOooNA-JB-3 -> ['20170808-109OOooNA-JB-3__R10F5_RN1RP3', '20170808-109OOooNA-JB-3__R10F6_RN1RP4', '20170808-109OOooNA-JB-3__R9F1_RN1RP1', '20170808-109OOooNA-JB-3__R9F2_RN1RP2'] \n\n20170202-07OOooPA-VT-3 -> ['20170202-07OOooPA-VT-3__R9F7_RN1RP1', '20170202-07OOooPA-VT-3__R9F8_RN1RP2', '20170202-07OOooPA-VT-3__R9F9_RN1RP3'] \n\n20170808-94OOooNA-HD-3 -> ['20170808-94OOooNA-HD-3__R3F20_RN1RP1', '20170808-94OOooNA-HD-3__R4F1_RN1RP2', '20170808-94OOooNA-HD-3__R4F2_RN1RP3'] \n\n20170713-32OOooNA-HD-3 -> ['20170713-32OOooNA-HD-3__R10F12_RN1RP1', '20170713-32OOooNA-HD-3__R10F13_RN1RP2', '20170713-32OOooNA-HD-3__R4F8_RN1RP3', '20170713-32OOooNA-HD-3__R4F9_RN1RP4'] \n\n20180222-57NYooVH-VT-3 -> ['20180222-57NYooVH-VT-3__R7F1_RN1RP2', '20180222-57NYooVH-VT-3__R7F2_RN1RP3', '20180222-57NYooVH-VT-3__R6F20_RN1RP1'] \n\n20170808-92OOooNA-HD-3 -> ['20170808-92OOooNA-HD-3__R3F12_RN1RP1', '20170808-92OOooNA-HD-3__R3F13_RN1RP2', '20170808-92OOooNA-HD-3__R3F19_RN1RP3'] \n\n20170601-46OOooNA-HD-3 -> ['20170601-46OOooNA-HD-3__R4F5_RN1RP1', '20170601-46OOooNA-HD-3__R4F6_RN1RP2', '20170601-46OOooNA-HD-3__R4F7_RN1RP3', '20170601-46OOooNA-HD-3__R4F8_RN1RP4'] \n\n20150707-07OOooAM-OO-3 -> ['20150707-07OOooAM-OO-3__R5F19_RN1RP1'] \n\n20140701-15OOooUD-OO-3 -> ['20140701-15OOooUD-OO-3__R4F11_RN1RP1'] \n\n20161215-07WIooPA-VT-3 -> ['20161215-07WIooPA-VT-3__R9F1_RN1RP1', '20161215-07WIooPA-VT-3__R9F2_RN1RP2', '20161215-07WIooPA-VT-3__R9F3_RN1RP3'] \n\n"
    }
   ],
   "source": [
    "counter = 0\n",
    "for key, value in naive_sibbling_groups.items():\n",
    "    print(key, '->', value, '\\n')\n",
    "    counter += 1\n",
    "    if counter == 10:\n",
    "        break"
   ]
  },
  {
   "cell_type": "code",
   "execution_count": 42,
   "metadata": {
    "tags": []
   },
   "outputs": [
    {
     "output_type": "stream",
     "name": "stdout",
     "text": "Incorrect value at 20140701-07OOdcUD-OO-3\nIncorrect value at 20150707-07DGplUD-OO-3\nIncorrect value at 20150819-17DSdcUD-OO-3\nIncorrect value at 20161215-07OOsaPA-VT-3\nIncorrect value at 20150201-7OOhpUD-OO-3\nIncorrect value at 20170808-98OOooBM-MD-3\nIncorrect value at 20171106-13OOicXP-JW-3\nIncorrect value at 20150922-07AAbwUD-OO-3\nIncorrect value at 20150707-07GAcsUD-OO-3\nIncorrect value at 20150707-07OOcsUD-OO-3\nIncorrect value at 20170808-13OOooBM-MD-3\nIncorrect value at 20170404-06WIsaPA-VT-3\nIncorrect value at 20150819-17DScaUD-OO-3\nIncorrect value at 20171106-22WIsaSP-VT-3\nIncorrect value at 20150819-07OObsUD-OO-3\nIncorrect value at 20170614-71WIsaNE-VT-3\nIncorrect value at 20170713-13OOooBM-MD-3\nIncorrect value at 20150922-07OOcsUD-OO-3\nIncorrect value at 20160216-13DGgaUD-OO-3\nIncorrect value at 20161215-07NXsaPA-VT-3\nIncorrect value at 20150201-7RHhnUD-OO-3\nIncorrect value at 20140701-07MSdcUD-OO-3\nIncorrect value at 20160602-13OOicPA-JW-3\nIncorrect value at 20150819-07OObwUD-OO-3\nIncorrect value at 20170614-71WIooPA-VT-3\nIncorrect value at 20171128-71WIsaVH-VG-3\nIncorrect value at 20161215-07WIsaNE-VT-3\nIncorrect value at 20160216-13DGctUD-OO-3\nIncorrect value at 20170614-71WIsaPA-VT-3\nIncorrect value at 20150201-7MLdcOO-SM-3\nIncorrect value at 20161215-07WIsaPA-VT-3\nIncorrect value at 20171003-22WIsaSP-VT-3\nIncorrect value at 20160216-13OOgaUD-OO-3\nIncorrect value at 20150201-7MLbwOO-SM-3\nIncorrect value at 20160816-14OOicPA-JW-3\nIncorrect value at 20150529-07AAplUD-OO-3\nIncorrect value at 20180809-16OOicXP-JW-3\nIncorrect value at 20150201-7OOhnUD-OO-3\nIncorrect value at 20150707-07PCknDA-OO-3\nIncorrect value at 20170601-71WIsaPA-VT-3\nIncorrect value at 20150819-17DLdcUD-OO-3\nIncorrect value at 20171003-09WIsaSP-VT-3\nIncorrect value at 20150819-07OOplUD-OO-3\nIncorrect value at 20140701-07MLdcUD-OO-3\nIncorrect value at 20150922-07GAcsUD-OO-3\nIncorrect value at 20171128-71WIsaVA-VT-3\nIncorrect value at 20150529-07AAcsUD-OO-3\nIncorrect value at 20170713-98OOooBM-MD-3\nIncorrect value at 20150201-7MSdcOO-SM-3\nIncorrect value at 20160216-13DEgaUD-OO-3\nIncorrect value at 20150819-17DEdcUD-OO-3\nIncorrect value at 20150922-07AAcsUD-OO-3\nIncorrect value at 20150819-17DLcaUD-OO-3\nIncorrect value at 20161105-13OOicXZ-JW-3\nIncorrect value at 20150707-07DGcsUD-OO-3\nIncorrect value at 20150819-07OOpaUD-OO-3\nIncorrect value at 20170829-09WIsaSP-VT-3\nIncorrect value at 20150529-07GAcsUD-OO-3\nIncorrect value at 20150707-07PCknUD-OO-3\nIncorrect value at 20170829-22WIsaSP-VT-3\nIncorrect value at 20150201-07SBdcOO-SM-3\nIncorrect value at 20150819-07OOcsUD-OO-3\nIncorrect value at 20150707-07OOplUD-OO-3\nIncorrect value at 20150201-07SBbwOO-SM-3\n"
    }
   ],
   "source": [
    "mismatched_groups = []\n",
    "for key, value in selected_sibbling_groups.items():\n",
    "    round_ = value[0][-6:-3]\n",
    "    for a in value:\n",
    "        if a[-6:-3] != round_:\n",
    "            print('Incorrect value at', key)\n",
    "            mismatched_groups.append(key)\n",
    "            break"
   ]
  },
  {
   "cell_type": "code",
   "execution_count": 44,
   "metadata": {
    "tags": [
     "outputPrepend"
    ]
   },
   "outputs": [
    {
     "output_type": "stream",
     "name": "stdout",
     "text": "OO-3__R9F1_RN3RP2'] \n\n['20170808-13OOooBM-MD-3__R2F16_RN2RP2', '20170808-13OOooBM-MD-3__R2F17_RN3RP3', '20170808-13OOooBM-MD-3__R2F18_RN4RP4', '20170808-13OOooBM-MD-3__R3F14_RN5RP5', '20170808-13OOooBM-MD-3__R3F15_RN6RP6'] \n\n['20170404-06WIsaPA-VT-3__R8F15_RN1RP1', '20170404-06WIsaPA-VT-3__R8F16_RN1RP2', '20170404-06WIsaPA-VT-3__R8F17_RN1RP3', '20170404-06WIsaPA-VT-3__R8F18_RN2RP1', '20170404-06WIsaPA-VT-3__R9F6_RN2RP2', '20170404-06WIsaPA-VT-3__R9F7_RN2RP3'] \n\n['20150819-17DScaUD-OO-3__R3F18_RN1RP1', '20150819-17DScaUD-OO-3__R3F19_RN1RP2', '20150819-17DScaUD-OO-3__R3F20_RN1RP3', '20150819-17DScaUD-OO-3__R4F13_RN2RP1', '20150819-17DScaUD-OO-3__R4F14_RN2RP2', '20150819-17DScaUD-OO-3__R4F15_RN2RP3'] \n\n['20171106-22WIsaSP-VT-3__R4F1_RN1RP1', '20171106-22WIsaSP-VT-3__R4F14_RN1RP1', '20171106-22WIsaSP-VT-3__R4F15_RN1RP2', '20171106-22WIsaSP-VT-3__R4F16_RN1RP3', '20171106-22WIsaSP-VT-3__R4F17_RN2RP1', '20171106-22WIsaSP-VT-3__R4F2_RN1RP2', '20171106-22WIsaSP-VT-3__R4F3_RN1RP3', '20171106-22WIsaSP-VT-3__R4F4_RN2RP1', '20171106-22WIsaSP-VT-3__R4F5_RN2RP2', '20171106-22WIsaSP-VT-3__R4F6_RN2RP3', '20171106-22WIsaSP-VT-3__R5F8_RN2RP2', '20171106-22WIsaSP-VT-3__R5F9_RN2RP3'] \n\n['20150819-07OObsUD-OO-3__R6F13_RN1RP1', '20150819-07OObsUD-OO-3__R6F14_RN1RP2', '20150819-07OObsUD-OO-3__R6F15_RN1RP3', '20150819-07OObsUD-OO-3__R7F2_RN2RP1', '20150819-07OObsUD-OO-3__R7F3_RN2RP2', '20150819-07OObsUD-OO-3__R7F4_RN2RP3'] \n\n['20170614-71WIsaNE-VT-3__R1F7_RN1RP1', '20170614-71WIsaNE-VT-3__R2F7_RN1RP2', '20170614-71WIsaNE-VT-3__R3F7_RN1RP3', '20170614-71WIsaNE-VT-3__R4F7_RN2RP1', '20170614-71WIsaNE-VT-3__R5F7_RN2RP2', '20170614-71WIsaNE-VT-3__R6F7_RN2RP3'] \n\n['20170713-13OOooBM-MD-3__R5F16_RN3RP3', '20170713-13OOooBM-MD-3__R5F17_RN4RP4', '20170713-13OOooBM-MD-3__R5F18_RN5RP5'] \n\n['20150922-07OOcsUD-OO-3__R6F17_RN3RP2', '20150922-07OOcsUD-OO-3__R6F18_RN3RP3', '20150922-07OOcsUD-OO-3__R7F20_RN3RP1', '20150922-07OOcsUD-OO-3__R7F4_RN3RP1', '20150922-07OOcsUD-OO-3__R7F5_RN3RP2', '20150922-07OOcsUD-OO-3__R7F6_RN3RP3', '20150922-07OOcsUD-OO-3__R9F11_RN2RP1', '20150922-07OOcsUD-OO-3__R9F12_RN2RP2', '20150922-07OOcsUD-OO-3__R9F13_RN2RP3', '20150922-07OOcsUD-OO-3__R9F2_RN1RP1', '20150922-07OOcsUD-OO-3__R9F3_RN1RP2', '20150922-07OOcsUD-OO-3__R9F4_RN1RP3'] \n\n['20160216-13DGgaUD-OO-3__R1F1_RN1RP1', '20160216-13DGgaUD-OO-3__R1F16_RN1RP1', '20160216-13DGgaUD-OO-3__R1F18_RN1RP3', '20160216-13DGgaUD-OO-3__R1F2_RN1RP2', '20160216-13DGgaUD-OO-3__R1F3_RN1RP3', '20160216-13DGgaUD-OO-3__R2F20_RN2RP1', '20160216-13DGgaUD-OO-3__R7F1_RN2RP2', '20160216-13DGgaUD-OO-3__R7F2_RN2RP3'] \n\n['20161215-07NXsaPA-VT-3__R10F11_RN1RP1', '20161215-07NXsaPA-VT-3__R10F14_RN1RP1', '20161215-07NXsaPA-VT-3__R10F17_RN1RP3', '20161215-07NXsaPA-VT-3__R9F13_RN2RP1', '20161215-07NXsaPA-VT-3__R9F14_RN2RP2', '20161215-07NXsaPA-VT-3__R9F15_RN2RP3'] \n\n['20150201-7RHhnUD-OO-3__R10F14_RN2RP4', '20150201-7RHhnUD-OO-3__R10F15_RN2RP5', '20150201-7RHhnUD-OO-3__R10F16_RN2RP6', '20150201-7RHhnUD-OO-3__R10F4_RN1RP4', '20150201-7RHhnUD-OO-3__R10F5_RN1RP5', '20150201-7RHhnUD-OO-3__R10F6_RN1RP6', '20150201-7RHhnUD-OO-3__R9F14_RN2RP1', '20150201-7RHhnUD-OO-3__R9F15_RN2RP2', '20150201-7RHhnUD-OO-3__R9F16_RN2RP3', '20150201-7RHhnUD-OO-3__R9F4_RN1RP1', '20150201-7RHhnUD-OO-3__R9F5_RN1RP2', '20150201-7RHhnUD-OO-3__R9F6_RN1RP3'] \n\n['20140701-07MSdcUD-OO-3__R1F1_RN1RP1', '20140701-07MSdcUD-OO-3__R1F10_RN3RP1', '20140701-07MSdcUD-OO-3__R1F6_RN2RP1', '20140701-07MSdcUD-OO-3__R2F1_RN1RP2', '20140701-07MSdcUD-OO-3__R2F10_RN3RP2', '20140701-07MSdcUD-OO-3__R2F6_RN2RP2', '20140701-07MSdcUD-OO-3__R3F1_RN1RP3', '20140701-07MSdcUD-OO-3__R3F10_RN3RP3', '20140701-07MSdcUD-OO-3__R3F6_RN2RP3'] \n\n['20160602-13OOicPA-JW-3__R5F11_RN1RP1', '20160602-13OOicPA-JW-3__R5F12_RN2RP1', '20160602-13OOicPA-JW-3__R5F13_RN3RP1', '20160602-13OOicPA-JW-3__R5F14_RN0RP2', '20160602-13OOicPA-JW-3__R5F15_RN1RP2', '20160602-13OOicPA-JW-3__R5F16_RN2RP2', '20160602-13OOicPA-JW-3__R5F17_RN3RP2'] \n\n['20150819-07OObwUD-OO-3__R5F17_RN2RP1', '20150819-07OObwUD-OO-3__R5F18_RN2RP2', '20150819-07OObwUD-OO-3__R5F19_RN2RP3', '20150819-07OObwUD-OO-3__R5F20_RN2RP4', '20150819-07OObwUD-OO-3__R6F4_RN3RP1', '20150819-07OObwUD-OO-3__R6F5_RN3RP2', '20150819-07OObwUD-OO-3__R6F6_RN3RP3'] \n\n['20170614-71WIooPA-VT-3__R3F13_RN2RP1', '20170614-71WIooPA-VT-3__R3F14_RN2RP2', '20170614-71WIooPA-VT-3__R3F15_RN2RP3', '20170614-71WIooPA-VT-3__R4F16_RN3RP1', '20170614-71WIooPA-VT-3__R4F17_RN3RP2', '20170614-71WIooPA-VT-3__R4F18_RN3RP3'] \n\n['20171128-71WIsaVH-VG-3__R2F4_RN1RP1', '20171128-71WIsaVH-VG-3__R2F5_RN1RP2', '20171128-71WIsaVH-VG-3__R2F6_RN1RP3', '20171128-71WIsaVH-VG-3__R7F10_RN2RP3', '20171128-71WIsaVH-VG-3__R7F8_RN2RP1', '20171128-71WIsaVH-VG-3__R7F9_RN2RP2'] \n\n['20161215-07WIsaNE-VT-3__R10F10_RN1RP1', '20161215-07WIsaNE-VT-3__R10F4_RN2RP1', '20161215-07WIsaNE-VT-3__R10F5_RN2RP2', '20161215-07WIsaNE-VT-3__R10F6_RN2RP3'] \n\n['20160216-13DGctUD-OO-3__R2F12_RN0RP0', '20160216-13DGctUD-OO-3__R2F13_RN0RP0', '20160216-13DGctUD-OO-3__R2F2_RN1RP1', '20160216-13DGctUD-OO-3__R2F3_RN1RP2', '20160216-13DGctUD-OO-3__R2F4_RN1RP3', '20160216-13DGctUD-OO-3__R7F3_RN2RP1', '20160216-13DGctUD-OO-3__R7F4_RN2RP2', '20160216-13DGctUD-OO-3__R7F5_RN2RP3'] \n\n['20170614-71WIsaPA-VT-3__R1F13_RN1RP1', '20170614-71WIsaPA-VT-3__R1F14_RN1RP2', '20170614-71WIsaPA-VT-3__R1F15_RN1RP3', '20170614-71WIsaPA-VT-3__R1F16_RN1RP3', '20170614-71WIsaPA-VT-3__R1F17_RN2RP2', '20170614-71WIsaPA-VT-3__R1F18_RN2RP3', '20170614-71WIsaPA-VT-3__R4F13_RN3RP1', '20170614-71WIsaPA-VT-3__R4F14_RN3RP2', '20170614-71WIsaPA-VT-3__R4F15_RN3RP3'] \n\n['20150201-7MLdcOO-SM-3__R1F4_RN1RP1', '20150201-7MLdcOO-SM-3__R1F5_RN1RP2', '20150201-7MLdcOO-SM-3__R1F6_RN1RP3', '20150201-7MLdcOO-SM-3__R2F3_RN2RP1', '20150201-7MLdcOO-SM-3__R2F4_RN2RP2', '20150201-7MLdcOO-SM-3__R2F5_RN2RP3', '20150201-7MLdcOO-SM-3__R2F6_RN2RP1', '20150201-7MLdcOO-SM-3__R2F7_RN2RP2', '20150201-7MLdcOO-SM-3__R2F8_RN2RP3', '20150201-7MLdcOO-SM-3__R3F4_RN3RP1', '20150201-7MLdcOO-SM-3__R3F5_RN3RP2', '20150201-7MLdcOO-SM-3__R3F6_RN3RP3', '20150201-7MLdcOO-SM-3__R3F7_RN3RP1', '20150201-7MLdcOO-SM-3__R3F8_RN3RP2', '20150201-7MLdcOO-SM-3__R3F9_RN3RP3'] \n\n['20161215-07WIsaPA-VT-3__R10F10_RN1RP1', '20161215-07WIsaPA-VT-3__R10F13_RN1RP2', '20161215-07WIsaPA-VT-3__R10F16_RN1RP3', '20161215-07WIsaPA-VT-3__R9F10_RN2RP1', '20161215-07WIsaPA-VT-3__R9F11_RN2RP2', '20161215-07WIsaPA-VT-3__R9F12_RN2RP3'] \n\n['20171003-22WIsaSP-VT-3__R1F1_RN2RP3', '20171003-22WIsaSP-VT-3__R3F4_RN1RP1', '20171003-22WIsaSP-VT-3__R3F5_RN1RP2', '20171003-22WIsaSP-VT-3__R3F6_RN1RP3', '20171003-22WIsaSP-VT-3__R5F12_RN2RP1', '20171003-22WIsaSP-VT-3__R5F13_RN2RP2', '20171003-22WIsaSP-VT-3__R5F5_RN1RP1', '20171003-22WIsaSP-VT-3__R5F6_RN1RP2', '20171003-22WIsaSP-VT-3__R5F8_RN1RP3', '20171003-22WIsaSP-VT-3__R7F1_RN2RP3', '20171003-22WIsaSP-VT-3__R7F13_RN2RP1', '20171003-22WIsaSP-VT-3__R7F14_RN2RP2', '20171003-22WIsaSP-VT-3__R7F15_RN2RP3', '20171003-22WIsaSP-VT-3__R7F2_RN1RP1', '20171003-22WIsaSP-VT-3__R7F3_RN1RP2', '20171003-22WIsaSP-VT-3__R7F4_RN1RP3', '20171003-22WIsaSP-VT-3__R8F8_RN2RP1', '20171003-22WIsaSP-VT-3__R8F9_RN2RP2'] \n\n['20160216-13OOgaUD-OO-3__R2F5_RN1RP1', '20160216-13OOgaUD-OO-3__R2F6_RN1RP2', '20160216-13OOgaUD-OO-3__R2F7_RN1RP3', '20160216-13OOgaUD-OO-3__R7F6_RN2RP1', '20160216-13OOgaUD-OO-3__R7F7_RN2RP2', '20160216-13OOgaUD-OO-3__R7F8_RN2RP3'] \n\n['20150201-7MLbwOO-SM-3__R2F10_RN2RP2', '20150201-7MLbwOO-SM-3__R2F11_RN2RP3', '20150201-7MLbwOO-SM-3__R2F9_RN2RP1', '20150201-7MLbwOO-SM-3__R3F10_RN3RP1', '20150201-7MLbwOO-SM-3__R3F11_RN3RP2', '20150201-7MLbwOO-SM-3__R3F12_RN3RP3'] \n\n['20160816-14OOicPA-JW-3__R7F10_RN1RP1', '20160816-14OOicPA-JW-3__R7F2_RN1RP2', '20160816-14OOicPA-JW-3__R7F3_RN1RP3', '20160816-14OOicPA-JW-3__R7F4_RN2RP1'] \n\n['20150529-07AAplUD-OO-3__R1F14_RN2RP1', '20150529-07AAplUD-OO-3__R1F15_RN2RP2', '20150529-07AAplUD-OO-3__R1F16_RN2RP3', '20150529-07AAplUD-OO-3__R1F4_RN1RP1', '20150529-07AAplUD-OO-3__R1F5_RN1RP2', '20150529-07AAplUD-OO-3__R1F6_RN1RP3'] \n\n['20180809-16OOicXP-JW-3__R14F1_RN1RP1', '20180809-16OOicXP-JW-3__R14F2_RN1RP2', '20180809-16OOicXP-JW-3__R14F3_RN2RP1', '20180809-16OOicXP-JW-3__R14F4_RN2RP2'] \n\n['20150201-7OOhnUD-OO-3__R10F1_RN1RP4', '20150201-7OOhnUD-OO-3__R10F11_RN2RP4', '20150201-7OOhnUD-OO-3__R10F12_RN2RP5', '20150201-7OOhnUD-OO-3__R10F13_RN2RP6', '20150201-7OOhnUD-OO-3__R10F2_RN1RP5', '20150201-7OOhnUD-OO-3__R10F3_RN1RP6', '20150201-7OOhnUD-OO-3__R9F1_RN1RP1', '20150201-7OOhnUD-OO-3__R9F11_RN2RP1', '20150201-7OOhnUD-OO-3__R9F12_RN2RP2', '20150201-7OOhnUD-OO-3__R9F13_RN2RP3', '20150201-7OOhnUD-OO-3__R9F2_RN1RP2', '20150201-7OOhnUD-OO-3__R9F3_RN1RP3'] \n\n['20150707-07PCknDA-OO-3__R4F1_RN1RP2', '20150707-07PCknDA-OO-3__R4F10_RN0RP0', '20150707-07PCknDA-OO-3__R4F11_RN1RP2', '20150707-07PCknDA-OO-3__R4F12_RN1RP1', '20150707-07PCknDA-OO-3__R4F13_RN0RP0', '20150707-07PCknDA-OO-3__R4F14_RN0RP0', '20150707-07PCknDA-OO-3__R4F15_RN0RP0', '20150707-07PCknDA-OO-3__R4F16_RN1RP2', '20150707-07PCknDA-OO-3__R4F17_RN1RP1', '20150707-07PCknDA-OO-3__R4F18_RN0RP0', '20150707-07PCknDA-OO-3__R4F19_RN0RP0', '20150707-07PCknDA-OO-3__R4F2_RN1RP1', '20150707-07PCknDA-OO-3__R4F20_RN0RP0', '20150707-07PCknDA-OO-3__R4F3_RN0RP0', '20150707-07PCknDA-OO-3__R4F4_RN0RP0', '20150707-07PCknDA-OO-3__R4F5_RN0RP0', '20150707-07PCknDA-OO-3__R4F6_RN1RP2', '20150707-07PCknDA-OO-3__R4F7_RN1RP1', '20150707-07PCknDA-OO-3__R4F8_RN0RP0', '20150707-07PCknDA-OO-3__R4F9_RN0RP0', '20150707-07PCknDA-OO-3__R5F1_RN1RP2', '20150707-07PCknDA-OO-3__R5F2_RN1RP1', '20150707-07PCknDA-OO-3__R5F3_RN0RP0', '20150707-07PCknDA-OO-3__R5F4_RN0RP0', '20150707-07PCknDA-OO-3__R5F5_RN0RP0', '20150707-07PCknDA-OO-3__R6F1_RN1RP1', '20150707-07PCknDA-OO-3__R6F10_RN0RP0', '20150707-07PCknDA-OO-3__R6F11_RN0RP0', '20150707-07PCknDA-OO-3__R6F12_RN0RP0', '20150707-07PCknDA-OO-3__R6F2_RN1RP2', '20150707-07PCknDA-OO-3__R6F3_RN0RP0', '20150707-07PCknDA-OO-3__R6F4_RN0RP0', '20150707-07PCknDA-OO-3__R6F5_RN0RP0', '20150707-07PCknDA-OO-3__R6F6_RN0RP0', '20150707-07PCknDA-OO-3__R6F7_RN0RP0', '20150707-07PCknDA-OO-3__R6F8_RN0RP0', '20150707-07PCknDA-OO-3__R6F9_RN0RP0', '20150707-07PCknDA-OO-3__R7F1_RN1RP1', '20150707-07PCknDA-OO-3__R7F10_RN0RP0', '20150707-07PCknDA-OO-3__R7F11_RN0RP0', '20150707-07PCknDA-OO-3__R7F12_RN0RP0', '20150707-07PCknDA-OO-3__R7F2_RN1RP2', '20150707-07PCknDA-OO-3__R7F3_RN0RP0', '20150707-07PCknDA-OO-3__R7F4_RN0RP0', '20150707-07PCknDA-OO-3__R7F5_RN0RP0', '20150707-07PCknDA-OO-3__R7F6_RN0RP0', '20150707-07PCknDA-OO-3__R7F7_RN0RP0', '20150707-07PCknDA-OO-3__R7F8_RN0RP0', '20150707-07PCknDA-OO-3__R7F9_RN0RP0'] \n\n['20170601-71WIsaPA-VT-3__R8F10_RN1RP2', '20170601-71WIsaPA-VT-3__R8F11_RN1RP3', '20170601-71WIsaPA-VT-3__R8F12_RN2RP1', '20170601-71WIsaPA-VT-3__R8F13_RN2RP2', '20170601-71WIsaPA-VT-3__R8F14_RN2RP3', '20170601-71WIsaPA-VT-3__R8F9_RN1RP1'] \n\n['20150819-17DLdcUD-OO-3__R10F14_RN2RP3', '20150819-17DLdcUD-OO-3__R4F19_RN2RP1', '20150819-17DLdcUD-OO-3__R4F20_RN2RP2', '20150819-17DLdcUD-OO-3__R4F4_RN1RP1', '20150819-17DLdcUD-OO-3__R4F5_RN1RP2', '20150819-17DLdcUD-OO-3__R4F6_RN1RP3'] \n\n['20171003-09WIsaSP-VT-3__R8F10_RN1RP1', '20171003-09WIsaSP-VT-3__R8F11_RN1RP2', '20171003-09WIsaSP-VT-3__R8F12_RN1RP3', '20171003-09WIsaSP-VT-3__R8F16_RN2RP1', '20171003-09WIsaSP-VT-3__R9F1_RN2RP2', '20171003-09WIsaSP-VT-3__R9F2_RN2RP3', '20171003-09WIsaSP-VT-3__R9F3_RN1RP1', '20171003-09WIsaSP-VT-3__R9F4_RN1RP2', '20171003-09WIsaSP-VT-3__R9F5_RN1RP3', '20171003-09WIsaSP-VT-3__R9F6_RN2RP1', '20171003-09WIsaSP-VT-3__R9F8_RN2RP2', '20171003-09WIsaSP-VT-3__R9F9_RN2RP3'] \n\n['20150819-07OOplUD-OO-3__R5F13_RN2RP1', '20150819-07OOplUD-OO-3__R5F14_RN2RP2', '20150819-07OOplUD-OO-3__R5F15_RN2RP3', '20150819-07OOplUD-OO-3__R5F16_RN2RP4', '20150819-07OOplUD-OO-3__R5F5_RN1RP1', '20150819-07OOplUD-OO-3__R5F6_RN1RP2', '20150819-07OOplUD-OO-3__R5F7_RN1RP3', '20150819-07OOplUD-OO-3__R5F8_RN1RP4'] \n\n['20140701-07MLdcUD-OO-3__R1F11_RN3RP1', '20140701-07MLdcUD-OO-3__R1F2_RN1RP1', '20140701-07MLdcUD-OO-3__R1F7_RN2RP1', '20140701-07MLdcUD-OO-3__R2F11_RN3RP2', '20140701-07MLdcUD-OO-3__R2F2_RN1RP2', '20140701-07MLdcUD-OO-3__R2F7_RN2RP2', '20140701-07MLdcUD-OO-3__R3F11_RN3RP3', '20140701-07MLdcUD-OO-3__R3F2_RN1RP3', '20140701-07MLdcUD-OO-3__R3F7_RN2RP3'] \n\n['20150922-07GAcsUD-OO-3__R7F1_RN3RP1', '20150922-07GAcsUD-OO-3__R7F17_RN3RP1', '20150922-07GAcsUD-OO-3__R7F18_RN3RP2', '20150922-07GAcsUD-OO-3__R7F19_RN3RP3', '20150922-07GAcsUD-OO-3__R7F2_RN3RP2', '20150922-07GAcsUD-OO-3__R7F3_RN3RP3', '20150922-07GAcsUD-OO-3__R8F5_RN1RP1', '20150922-07GAcsUD-OO-3__R8F6_RN1RP2', '20150922-07GAcsUD-OO-3__R8F7_RN1RP3', '20150922-07GAcsUD-OO-3__R8F8_RN1RP4', '20150922-07GAcsUD-OO-3__R9F1_RN1RP3', '20150922-07GAcsUD-OO-3__R9F10_RN2RP3', '20150922-07GAcsUD-OO-3__R9F8_RN2RP1', '20150922-07GAcsUD-OO-3__R9F9_RN2RP2'] \n\n['20171128-71WIsaVA-VT-3__R2F1_RN1RP1', '20171128-71WIsaVA-VT-3__R2F14_RN2RP1', '20171128-71WIsaVA-VT-3__R2F15_RN2RP2', '20171128-71WIsaVA-VT-3__R2F16_RN2RP3', '20171128-71WIsaVA-VT-3__R2F2_RN1RP2', '20171128-71WIsaVA-VT-3__R2F3_RN1RP3'] \n\n['20150529-07AAcsUD-OO-3__R1F10_RN1RP4', '20150529-07AAcsUD-OO-3__R1F17_RN2RP1', '20150529-07AAcsUD-OO-3__R1F18_RN2RP2', '20150529-07AAcsUD-OO-3__R1F19_RN2RP3', '20150529-07AAcsUD-OO-3__R1F20_RN2RP4', '20150529-07AAcsUD-OO-3__R1F7_RN1RP1', '20150529-07AAcsUD-OO-3__R1F8_RN1RP2', '20150529-07AAcsUD-OO-3__R1F9_RN1RP3'] \n\n['20170713-98OOooBM-MD-3__R2F15_RN2RP2', '20170713-98OOooBM-MD-3__R2F16_RN3RP3', '20170713-98OOooBM-MD-3__R2F17_RN4RP4', '20170713-98OOooBM-MD-3__R2F18_RN5RP5'] \n\n['20150201-7MSdcOO-SM-3__R1F1_RN1RP1', '20150201-7MSdcOO-SM-3__R1F14_RN2RP1', '20150201-7MSdcOO-SM-3__R1F15_RN2RP2', '20150201-7MSdcOO-SM-3__R1F16_RN2RP3', '20150201-7MSdcOO-SM-3__R1F2_RN1RP2', '20150201-7MSdcOO-SM-3__R1F3_RN1RP3', '20150201-7MSdcOO-SM-3__R2F12_RN3RP1', '20150201-7MSdcOO-SM-3__R2F13_RN3RP2', '20150201-7MSdcOO-SM-3__R2F14_RN3RP3'] \n\n['20160216-13DEgaUD-OO-3__R1F19_RN1RP1', '20160216-13DEgaUD-OO-3__R1F20_RN1RP2', '20160216-13DEgaUD-OO-3__R2F1_RN1RP3', '20160216-13DEgaUD-OO-3__R7F10_RN2RP2', '20160216-13DEgaUD-OO-3__R7F11_RN2RP3', '20160216-13DEgaUD-OO-3__R7F9_RN2RP1'] \n\n['20150819-17DEdcUD-OO-3__R10F18_RN2RP1', '20150819-17DEdcUD-OO-3__R10F19_RN2RP2', '20150819-17DEdcUD-OO-3__R10F20_RN2RP3', '20150819-17DEdcUD-OO-3__R4F1_RN1RP1', '20150819-17DEdcUD-OO-3__R4F16_RN2RP1', '20150819-17DEdcUD-OO-3__R4F17_RN2RP2', '20150819-17DEdcUD-OO-3__R4F18_RN2RP3', '20150819-17DEdcUD-OO-3__R4F2_RN1RP2', '20150819-17DEdcUD-OO-3__R4F3_RN1RP3'] \n\n['20150922-07AAcsUD-OO-3__R7F14_RN3RP1', '20150922-07AAcsUD-OO-3__R7F15_RN3RP2', '20150922-07AAcsUD-OO-3__R7F16_RN3RP3', '20150922-07AAcsUD-OO-3__R8F1_RN1RP1', '20150922-07AAcsUD-OO-3__R8F13_RN1RP1', '20150922-07AAcsUD-OO-3__R8F14_RN1RP2', '20150922-07AAcsUD-OO-3__R8F15_RN1RP3', '20150922-07AAcsUD-OO-3__R8F2_RN1RP2', '20150922-07AAcsUD-OO-3__R8F3_RN1RP3', '20150922-07AAcsUD-OO-3__R8F4_RN1RP4', '20150922-07AAcsUD-OO-3__R9F17_RN3RP1', '20150922-07AAcsUD-OO-3__R9F18_RN3RP2', '20150922-07AAcsUD-OO-3__R9F19_RN3RP3', '20150922-07AAcsUD-OO-3__R9F5_RN2RP1', '20150922-07AAcsUD-OO-3__R9F6_RN2RP2', '20150922-07AAcsUD-OO-3__R9F7_RN2RP3'] \n\n['20150819-17DLcaUD-OO-3__R10F15_RN2RP1', '20150819-17DLcaUD-OO-3__R10F16_RN2RP2', '20150819-17DLcaUD-OO-3__R10F17_RN2RP3', '20150819-17DLcaUD-OO-3__R4F7_RN1RP1', '20150819-17DLcaUD-OO-3__R4F8_RN1RP2', '20150819-17DLcaUD-OO-3__R4F9_RN1RP3'] \n\n['20161105-13OOicXZ-JW-3__R3F11_RN5RP1', '20161105-13OOicXZ-JW-3__R3F17_RN5RP3', '20161105-13OOicXZ-JW-3__R3F1_RN1RP1', '20161105-13OOicXZ-JW-3__R3F12_RN1RP3', '20161105-13OOicXZ-JW-3__R3F13_RN2RP3', '20161105-13OOicXZ-JW-3__R3F14_RN3RP3', '20161105-13OOicXZ-JW-3__R3F15_RN4RP3', '20161105-13OOicXZ-JW-3__R3F2_RN2RP1', '20161105-13OOicXZ-JW-3__R3F3_RN3RP1', '20161105-13OOicXZ-JW-3__R3F4_RN4RP1', '20161105-13OOicXZ-JW-3__R3F6_RN2RP2', '20161105-13OOicXZ-JW-3__R3F7_RN3RP2', '20161105-13OOicXZ-JW-3__R3F8_RN4RP2', '20161105-13OOicXZ-JW-3__R3F9_RN5RP1'] \n\n['20150707-07DGcsUD-OO-3__R1F1_RN1RP1', '20150707-07DGcsUD-OO-3__R1F11_RN1RP1', '20150707-07DGcsUD-OO-3__R1F12_RN1RP2', '20150707-07DGcsUD-OO-3__R1F13_RN1RP3', '20150707-07DGcsUD-OO-3__R1F14_RN1RP4', '20150707-07DGcsUD-OO-3__R1F2_RN1RP2', '20150707-07DGcsUD-OO-3__R1F3_RN1RP3', '20150707-07DGcsUD-OO-3__R1F4_RN1RP4', '20150707-07DGcsUD-OO-3__R2F1_RN2RP1', '20150707-07DGcsUD-OO-3__R2F11_RN2RP1', '20150707-07DGcsUD-OO-3__R2F12_RN2RP2', '20150707-07DGcsUD-OO-3__R2F13_RN2RP3', '20150707-07DGcsUD-OO-3__R2F14_RN2RP4', '20150707-07DGcsUD-OO-3__R2F2_RN2RP2', '20150707-07DGcsUD-OO-3__R2F3_RN2RP3', '20150707-07DGcsUD-OO-3__R2F4_RN2RP4', '20150707-07DGcsUD-OO-3__R3F1_RN3RP1', '20150707-07DGcsUD-OO-3__R3F13_RN3RP1', '20150707-07DGcsUD-OO-3__R3F14_RN3RP2', '20150707-07DGcsUD-OO-3__R3F16_RN2RP5', '20150707-07DGcsUD-OO-3__R3F17_RN2RP6', '20150707-07DGcsUD-OO-3__R3F18_RN2RP7', '20150707-07DGcsUD-OO-3__R3F19_RN2RP8', '20150707-07DGcsUD-OO-3__R3F2_RN3RP2'] \n\n['20150819-07OOpaUD-OO-3__R6F10_RN1RP1', '20150819-07OOpaUD-OO-3__R6F11_RN1RP2', '20150819-07OOpaUD-OO-3__R6F12_RN1RP3', '20150819-07OOpaUD-OO-3__R6F19_RN2RP1', '20150819-07OOpaUD-OO-3__R6F20_RN2RP2', '20150819-07OOpaUD-OO-3__R7F1_RN2RP3'] \n\n['20170829-09WIsaSP-VT-3__R5F10_RN2RP1', '20170829-09WIsaSP-VT-3__R5F11_RN2RP2', '20170829-09WIsaSP-VT-3__R5F12_RN2RP3', '20170829-09WIsaSP-VT-3__R5F3_RN1RP1', '20170829-09WIsaSP-VT-3__R5F4_RN1RP2', '20170829-09WIsaSP-VT-3__R5F5_RN1RP3'] \n\n['20150529-07GAcsUD-OO-3__R1F1_RN1RP1', '20150529-07GAcsUD-OO-3__R1F11_RN2RP1', '20150529-07GAcsUD-OO-3__R1F12_RN2RP2', '20150529-07GAcsUD-OO-3__R1F13_RN2RP3', '20150529-07GAcsUD-OO-3__R1F2_RN1RP2', '20150529-07GAcsUD-OO-3__R1F3_RN1RP3', '20150529-07GAcsUD-OO-3__R3F5_RN1RP1', '20150529-07GAcsUD-OO-3__R3F6_RN1RP2', '20150529-07GAcsUD-OO-3__R3F7_RN1RP3'] \n\n['20150707-07PCknUD-OO-3__R5F10_RN0RP0', '20150707-07PCknUD-OO-3__R5F11_RN0RP0', '20150707-07PCknUD-OO-3__R5F12_RN0RP0', '20150707-07PCknUD-OO-3__R5F13_RN0RP0', '20150707-07PCknUD-OO-3__R5F14_RN0RP0', '20150707-07PCknUD-OO-3__R5F15_RN0RP0', '20150707-07PCknUD-OO-3__R5F16_RN0RP0', '20150707-07PCknUD-OO-3__R5F17_RN0RP0', '20150707-07PCknUD-OO-3__R5F18_RN1RP58', '20150707-07PCknUD-OO-3__R5F6_RN0RP0', '20150707-07PCknUD-OO-3__R5F7_RN0RP0', '20150707-07PCknUD-OO-3__R5F8_RN0RP0', '20150707-07PCknUD-OO-3__R5F9_RN0RP0'] \n\n['20170829-22WIsaSP-VT-3__R4F1_RN1RP1', '20170829-22WIsaSP-VT-3__R4F10_RN2RP3', '20170829-22WIsaSP-VT-3__R4F2_RN1RP2', '20170829-22WIsaSP-VT-3__R4F3_RN1RP3', '20170829-22WIsaSP-VT-3__R4F8_RN2RP1', '20170829-22WIsaSP-VT-3__R4F9_RN2RP2'] \n\n['20150201-07SBdcOO-SM-3__R1F17_RN2RP1', '20150201-07SBdcOO-SM-3__R1F18_RN2RP2', '20150201-07SBdcOO-SM-3__R1F19_RN2RP3', '20150201-07SBdcOO-SM-3__R2F15_RN3RP1', '20150201-07SBdcOO-SM-3__R2F16_RN3RP2', '20150201-07SBdcOO-SM-3__R2F17_RN3RP3'] \n\n['20150819-07OOcsUD-OO-3__R5F1_RN1RP1', '20150819-07OOcsUD-OO-3__R5F10_RN2RP2', '20150819-07OOcsUD-OO-3__R5F11_RN2RP3', '20150819-07OOcsUD-OO-3__R5F12_RN2RP4', '20150819-07OOcsUD-OO-3__R5F2_RN1RP2', '20150819-07OOcsUD-OO-3__R5F3_RN1RP3', '20150819-07OOcsUD-OO-3__R5F4_RN1RP4', '20150819-07OOcsUD-OO-3__R5F9_RN2RP1', '20150819-07OOcsUD-OO-3__R6F1_RN3RP1', '20150819-07OOcsUD-OO-3__R6F16_RN2RP1', '20150819-07OOcsUD-OO-3__R6F17_RN2RP2', '20150819-07OOcsUD-OO-3__R6F18_RN2RP3', '20150819-07OOcsUD-OO-3__R6F2_RN3RP2', '20150819-07OOcsUD-OO-3__R6F3_RN3RP3', '20150819-07OOcsUD-OO-3__R6F7_RN1RP1', '20150819-07OOcsUD-OO-3__R6F8_RN1RP2', '20150819-07OOcsUD-OO-3__R6F9_RN1RP3'] \n\n['20150707-07OOplUD-OO-3__R10F10_RN2RP1', '20150707-07OOplUD-OO-3__R10F11_RN2RP2', '20150707-07OOplUD-OO-3__R10F14_RN2RP1', '20150707-07OOplUD-OO-3__R10F15_RN2RP2', '20150707-07OOplUD-OO-3__R10F18_RN3RP1', '20150707-07OOplUD-OO-3__R10F19_RN3RP2', '20150707-07OOplUD-OO-3__R10F4_RN1RP1', '20150707-07OOplUD-OO-3__R10F5_RN1RP2', '20150707-07OOplUD-OO-3__R10F6_RN1RP1', '20150707-07OOplUD-OO-3__R10F7_RN1RP2', '20150707-07OOplUD-OO-3__R9F2_RN3RP1', '20150707-07OOplUD-OO-3__R9F3_RN3RP2'] \n\n['20150201-07SBbwOO-SM-3__R1F20_RN2RP1', '20150201-07SBbwOO-SM-3__R2F1_RN2RP2', '20150201-07SBbwOO-SM-3__R2F18_RN3RP1', '20150201-07SBbwOO-SM-3__R2F19_RN3RP2', '20150201-07SBbwOO-SM-3__R2F2_RN2RP3', '20150201-07SBbwOO-SM-3__R2F20_RN3RP3'] \n\n"
    }
   ],
   "source": [
    "for a_ in mismatched_groups:\n",
    "    print(selected_sibbling_groups[a_], '\\n')"
   ]
  },
  {
   "cell_type": "code",
   "execution_count": null,
   "metadata": {},
   "outputs": [],
   "source": []
  }
 ]
}