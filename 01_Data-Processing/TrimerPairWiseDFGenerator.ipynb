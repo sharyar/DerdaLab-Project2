{
 "metadata": {
  "language_info": {
   "codemirror_mode": {
    "name": "ipython",
    "version": 3
   },
   "file_extension": ".py",
   "mimetype": "text/x-python",
   "name": "python",
   "nbconvert_exporter": "python",
   "pygments_lexer": "ipython3",
   "version": "3.8.3-final"
  },
  "orig_nbformat": 2,
  "kernelspec": {
   "name": "derda1",
   "display_name": "derda1"
  }
 },
 "nbformat": 4,
 "nbformat_minor": 2,
 "cells": [
  {
   "cell_type": "markdown",
   "metadata": {},
   "source": [
    "# Create PairWise Training and Test Sets\n",
    "Strategy: \n",
    "\n",
    "1. Create a common data frame with 8000*2, 1 label, and n rows of samples. Call this **mainDF**\n",
    "2. Use **sourceDF** to do a stratified random sampling of the samples so we have even distribution of labels. \n",
    "3. Append 2 samples to mainDF and add label based on the samples added\n",
    "4. Labels: Not Sibblings, Sibblings\n",
    "5. The label is based on filename again where two samples are sibblings if: XXXXX-RPn everything except n matches. \n",
    "\n"
   ]
  },
  {
   "cell_type": "code",
   "execution_count": 1,
   "metadata": {},
   "outputs": [],
   "source": [
    "import pandas as pd\n",
    "from fileFunctionsModule import importCSVMotifFilesAsDfFromDir\n",
    "import matplotlib.pyplot as plt\n",
    "import seaborn as sns\n",
    "from sklearn.preprocessing import StandardScaler, MinMaxScaler\n",
    "from sklearn.pipeline import Pipeline, FeatureUnion\n",
    "from sklearn.model_selection import GridSearchCV\n",
    "import time\n",
    "from datetime import date\n",
    "import sys\n",
    "import os.path"
   ]
  },
  {
   "cell_type": "code",
   "execution_count": 2,
   "metadata": {},
   "outputs": [],
   "source": [
    "# ! Define variables to be used\n",
    "rerun_data_compilation = False\n",
    "data_path = \"\"\n",
    "data_type = \"\"\n",
    "date_current = str(date.today().isoformat())\n",
    "\n",
    "# Ask user what kind of data needs to be processed and if data should be recompiled from source csv files. \n",
    "while (data_type.lower() not in ['trimer', 'tetramer']) :\n",
    "    data_type = input('Process Trimer or Tetramer data type?')\n",
    "    if (input('Would you like to rerun data compilation? Y or N').upper() == 'N'):\n",
    "        rerun_data_compilation = False\n",
    "    else:\n",
    "        rerun_data_compilation = True\n",
    "\n",
    "if data_type == 'trimer':\n",
    "    data_path = \"../03_SourceFiles/01_TrimerSourceFiles\"\n",
    "elif data_type == 'tetramer':\n",
    "    data_path = \"../03_SourceFiles/02_TetramerSourceFiles\"\n"
   ]
  },
  {
   "cell_type": "code",
   "execution_count": 13,
   "metadata": {
    "tags": []
   },
   "outputs": [
    {
     "output_type": "stream",
     "name": "stdout",
     "text": "File read succsessful. Data frame loaded into memory.\n"
    }
   ],
   "source": [
    "# Checks if user wants to rerun data compilation. If not, old label file is used from memory\n",
    "if rerun_data_compilation:\n",
    "    # Import Data \n",
    "    # transpose axis of the dataframe:\n",
    "    # Fill na and nan values with 0 instead\n",
    "    data_start = importCSVMotifFilesAsDfFromDir(data_path).transpose().reset_index().fillna(0)\n",
    "\n",
    "    # Rename index column to sampleName in place\n",
    "    data_start.rename(columns={'index': 'sampleName'}, inplace=True)\n",
    "\n",
    "    # Add a new column with a binary identifier for a naive vs selected library. i.e = 1 is naive and 0 is selected\n",
    "    data_start['naiveLibrary'] = data_start.apply(\n",
    "        lambda row: (('oo' in row.sampleName[10:21]) and\n",
    "                    ('RN0' in row.sampleName[-6:] or 'RN1' in row.sampleName[-6:])),\n",
    "        axis=1\n",
    "    )\n",
    "\n",
    "    # convert the data in the column (NaiveLibrary) to int type so it is readable\n",
    "    data_start['naiveLibrary'] = data_start['naiveLibrary'].astype(int)\n",
    "\n",
    "    if (input('Would you like to save the resulting DF as a csv for future use or overwrite the previously saved csv? Y or N').upper() == 'Y'):\n",
    "        data_start.to_csv(str('../03_SourceFiles/03_ProcessedFiles/'+data_type+'-combined-labeled.csv'))\n",
    "        print('DF Structure Saved to file.')\n",
    "    else:\n",
    "        pass\n",
    "elif not rerun_data_compilation:\n",
    "    if os.path.isfile(str('../03_SourceFiles/03_ProcessedFiles/'+data_type+'-combined-labeled.csv')):\n",
    "        try:\n",
    "            data_start = pd.read_csv(\n",
    "                str('../03_SourceFiles/03_ProcessedFiles/'+data_type+'-combined-labeled.csv'),\n",
    "                engine='c',\n",
    "                low_memory=False,\n",
    "                index_col=0\n",
    "                )\n",
    "            print('File read succsessful. Data frame loaded into memory.')\n",
    "        except:\n",
    "            print('Something went wrong while trying to read the csv file. Please rerun data compilation or check file manually.')\n",
    "            sys.exit()\n",
    "    else:\n",
    "        print('CSV File does not exist in the source folder (03_SourceFiles/03_ProcessedFiles). Please re-run compilation')\n"
   ]
  },
  {
   "cell_type": "markdown",
   "metadata": {},
   "source": [
    "## Find # of sibblings in data set\n",
    "\n",
    "1. Naive sibblings sets\n",
    "2. Selected Sibbling sets"
   ]
  },
  {
   "cell_type": "code",
   "execution_count": 19,
   "metadata": {},
   "outputs": [],
   "source": [
    "naive_set = data_start[(data_start['naiveLibrary'] == 1)]['sampleName']\n",
    "selected_set = data_start[~(data_start['naiveLibrary'] ==1)]['sampleName']"
   ]
  },
  {
   "cell_type": "code",
   "execution_count": 16,
   "metadata": {},
   "outputs": [
    {
     "output_type": "execute_result",
     "data": {
      "text/plain": "1       20170808-109OOooNA-JB-3__R10F5_RN1RP3\n2       20170808-109OOooNA-JB-3__R10F6_RN1RP4\n3        20170808-109OOooNA-JB-3__R9F1_RN1RP1\n4        20170808-109OOooNA-JB-3__R9F2_RN1RP2\n5         20170202-07OOooPA-VT-3__R9F7_RN1RP1\n                        ...                  \n2378      20160816-13ADooPA-YC-3__R5F4_RN0RP3\n2389      20170228-23ARooOO-HD-3__R5F5_RN1RP1\n2390      20170228-23ARooOO-HD-3__R8F1_RN1RP2\n2391      20170228-23ARooOO-HD-3__R8F2_RN1RP3\n2392      20170228-23ARooOO-HD-3__R8F3_RN1RP4\nName: sampleName, Length: 810, dtype: object"
     },
     "metadata": {},
     "execution_count": 16
    }
   ],
   "source": [
    "naive_set"
   ]
  },
  {
   "cell_type": "code",
   "execution_count": 25,
   "metadata": {},
   "outputs": [
    {
     "output_type": "execute_result",
     "data": {
      "text/plain": "0          20160602-07ABsaGN-OO-3__R2F3_RN1RP1\n18        20160216-63BNsaUD-OO-3__R4F16_RN1RP1\n19        20160216-63BNsaUD-OO-3__R4F17_RN1RP2\n20        20160216-63BNsaUD-OO-3__R4F18_RN1RP3\n21       20181108-218TSnoAB-YW-3__R17F8_RN2RP1\n                         ...                  \n2388    20181108-219TSnoAB-YW-3__R17F15_RN3RP1\n2393    20171106-130OOicXP-JW-3__R10F15_RN6RP4\n2394       20170202-71MZdcEB-DF-3__R7F1_RN1RP1\n2395       20170202-71MZdcEB-DF-3__R7F2_RN1RP2\n2396       20170202-71MZdcEB-DF-3__R7F3_RN1RP3\nName: sampleName, Length: 1587, dtype: object"
     },
     "metadata": {},
     "execution_count": 25
    }
   ],
   "source": [
    "selected_set"
   ]
  },
  {
   "cell_type": "code",
   "execution_count": 26,
   "metadata": {},
   "outputs": [
    {
     "output_type": "execute_result",
     "data": {
      "text/plain": "1466     20140612-01OOooUD-OO-3__R1F1_RN1RP1\n510      20140612-02OOooUD-OO-3__R1F2_RN1RP1\n606      20140612-03OOooUD-OO-3__R1F3_RN1RP1\n1456    20140612-04OOooUD-OO-3__R1F19_RN1RP2\n1457    20140612-04OOooUD-OO-3__R1F20_RN1RP3\n                        ...                 \n2109    20180809-71ZJooNA-DV-3__R10F1_RN1RP1\n2110    20180809-71ZJooNA-DV-3__R10F2_RN1RP2\n2111    20180809-71ZJooNA-DV-3__R10F3_RN1RP3\n809     20181108-16OOooPA-YW-3__R17F1_RN1RP1\n1785    20181108-16TSooPA-YW-3__R17F2_RN1RP1\nName: sampleName, Length: 810, dtype: object"
     },
     "metadata": {},
     "execution_count": 26
    }
   ],
   "source": [
    "naive_set.sort_values()\n"
   ]
  },
  {
   "cell_type": "code",
   "execution_count": 41,
   "metadata": {
    "tags": []
   },
   "outputs": [],
   "source": [
    "unique_vals_dict = {}\n",
    "for index, value in selected_set.items():\n",
    "    if value[:-1] not in unique_vals_dict:\n",
    "        unique_vals_dict[value[:-1]] = []\n",
    "        unique_vals_dict[value[:-1]].append(value)\n",
    "    else:\n",
    "        if value not in unique_vals_dict[value[:-1]]:\n",
    "            unique_vals_dict[value[:-1]].append(value)"
   ]
  },
  {
   "cell_type": "code",
   "execution_count": 42,
   "metadata": {
    "tags": []
   },
   "outputs": [],
   "source": [
    "pd_dict = pd.DataFrame(unique_vals_dict)"
   ]
  },
  {
   "cell_type": "code",
   "execution_count": 44,
   "metadata": {},
   "outputs": [
    {
     "output_type": "execute_result",
     "data": {
      "text/plain": "1-7MLdcOO-SM-3__R3F6_RN3RP': ['20150201-7MLdcOO-SM-3__R3F6_RN3RP3'],\n '20150201-7MLdcOO-SM-3__R3F7_RN3RP': ['20150201-7MLdcOO-SM-3__R3F7_RN3RP1'],\n '20150201-7MLdcOO-SM-3__R3F8_RN3RP': ['20150201-7MLdcOO-SM-3__R3F8_RN3RP2'],\n '20150201-7MLdcOO-SM-3__R3F9_RN3RP': ['20150201-7MLdcOO-SM-3__R3F9_RN3RP3'],\n '20171106-71ZJgoHE-DF-3__R2F2_RN1RP': ['20171106-71ZJgoHE-DF-3__R2F2_RN1RP1'],\n '20171106-71ZJgoHE-DF-3__R2F3_RN1RP': ['20171106-71ZJgoHE-DF-3__R2F3_RN1RP1'],\n '20180522-06NYsaVH-VT-3__R1F8_RN1RP': ['20180522-06NYsaVH-VT-3__R1F8_RN1RP1'],\n '20180522-06NYsaVH-VT-3__R1F9_RN1RP': ['20180522-06NYsaVH-VT-3__R1F9_RN1RP2'],\n '20180522-06NYsaVH-VT-3__R1F10_RN1RP': ['20180522-06NYsaVH-VT-3__R1F10_RN1RP3'],\n '20171106-71MLbcAD-DI-3__R1F10_RN1RP': ['20171106-71MLbcAD-DI-3__R1F10_RN1RP1'],\n '20171106-71MLbcAD-DI-3__R1F14_RN1RP': ['20171106-71MLbcAD-DI-3__R1F14_RN1RP1'],\n '20161215-07WIsaPA-VT-3__R10F10_RN1RP': ['20161215-07WIsaPA-VT-3__R10F10_RN1RP1'],\n '20161215-07WIsaPA-VT-3__R10F13_RN1RP': ['20161215-07WIsaPA-VT-3__R10F13_RN1RP2'],\n '20161215-07WIsaPA-VT-3__R10F16_RN1RP': ['20161215-07WIsaPA-VT-3__R10F16_RN1RP3'],\n '20161215-07WIsaPA-VT-3__R9F10_RN2RP': ['20161215-07WIsaPA-VT-3__R9F10_RN2RP1'],\n '20161215-07WIsaPA-VT-3__R9F11_RN2RP': ['20161215-07WIsaPA-VT-3__R9F11_RN2RP2'],\n '20161215-07WIsaPA-VT-3__R9F12_RN2RP': ['20161215-07WIsaPA-VT-3__R9F12_RN2RP3'],\n '20170504-71GLbcHE-DV-3__R2F17_RN1RP': ['20170504-71GLbcHE-DV-3__R2F17_RN1RP1'],\n '20170504-71GLbcHE-DV-3__R2F18_RN1RP': ['20170504-71GLbcHE-DV-3__R2F18_RN1RP2'],\n '20170504-71GLbcHE-DV-3__R3F9_RN1RP': ['20170504-71GLbcHE-DV-3__R3F9_RN1RP3'],\n '20170601-71OObcAD-DV-3__R3F16_RN1RP': ['20170601-71OObcAD-DV-3__R3F16_RN1RP1'],\n '20170601-71OObcAD-DV-3__R3F17_RN1RP': ['20170601-71OObcAD-DV-3__R3F17_RN1RP2'],\n '20170601-71OObcAD-DV-3__R3F18_RN1RP': ['20170601-71OObcAD-DV-3__R3F18_RN1RP3'],\n '20150922-07LAgoUD-OO-3__R10F7_RN1RP': ['20150922-07LAgoUD-OO-3__R10F7_RN1RP1'],\n '20150922-07LAgoUD-OO-3__R10F8_RN1RP': ['20150922-07LAgoUD-OO-3__R10F8_RN1RP2'],\n '20150922-07LAgoUD-OO-3__R10F9_RN1RP': ['20150922-07LAgoUD-OO-3__R10F9_RN1RP3'],\n '20140701-07MSdcDA-OO-3__R1F17_RN1RP': ['20140701-07MSdcDA-OO-3__R1F17_RN1RP1'],\n '20140701-07MSdcDA-OO-3__R2F17_RN1RP': ['20140701-07MSdcDA-OO-3__R2F17_RN1RP2'],\n '20140701-07MSdcDA-OO-3__R3F17_RN1RP': ['20140701-07MSdcDA-OO-3__R3F17_RN1RP3'],\n '20180809-71ZJbgBU-DF-3__R9F5_RN1RP': ['20180809-71ZJbgBU-DF-3__R9F5_RN1RP1'],\n '20180809-71ZJbgBU-DF-3__R9F6_RN1RP': ['20180809-71ZJbgBU-DF-3__R9F6_RN1RP2'],\n '20180809-71ZJbgBU-DF-3__R9F8_RN1RP': ['20180809-71ZJbgBU-DF-3__R9F8_RN1RP3'],\n '20160602-63OOkdRI-CL-3__R3F5_RN1RP': ['20160602-63OOkdRI-CL-3__R3F5_RN1RP1'],\n '20160602-63OOkdRI-CL-3__R3F6_RN1RP': ['20160602-63OOkdRI-CL-3__R3F6_RN1RP2'],\n '20160602-63OOkdRI-CL-3__R3F7_RN1RP': ['20160602-63OOkdRI-CL-3__R3F7_RN1RP3'],\n '20160602-63OOkdRI-CL-3__R3F8_RN1RP': ['20160602-63OOkdRI-CL-3__R3F8_RN1RP4'],\n '20160602-63OOkdRI-CL-3__R4F5_RN1RP': ['20160602-63OOkdRI-CL-3__R4F5_RN1RP1'],\n '20160602-63OOkdRI-CL-3__R4F6_RN1RP': ['20160602-63OOkdRI-CL-3__R4F6_RN1RP2'],\n '20160602-63OOkdRI-CL-3__R4F7_RN1RP': ['20160602-63OOkdRI-CL-3__R4F7_RN1RP3'],\n '20160602-63OOkdRI-CL-3__R4F8_RN1RP': ['20160602-63OOkdRI-CL-3__R4F8_RN1RP4'],\n '20160602-63OOkdRI-CL-3__R6F5_RN1RP': ['20160602-63OOkdRI-CL-3__R6F5_RN1RP1'],\n '20160602-63OOkdRI-CL-3__R6F6_RN1RP': ['20160602-63OOkdRI-CL-3__R6F6_RN1RP2'],\n '20160602-63OOkdRI-CL-3__R6F7_RN1RP': ['20160602-63OOkdRI-CL-3__R6F7_RN1RP3'],\n '20160602-63OOkdRI-CL-3__R6F8_RN1RP': ['20160602-63OOkdRI-CL-3__R6F8_RN1RP4'],\n '20171106-71ZJbgAD-DV-3__R2F5_RN1RP': ['20171106-71ZJbgAD-DV-3__R2F5_RN1RP1'],\n '20151124-07MEcaUD-OO-3__R1F5_RN1RP': ['20151124-07MEcaUD-OO-3__R1F5_RN1RP1'],\n '20151124-07MEcaUD-OO-3__R1F6_RN1RP': ['20151124-07MEcaUD-OO-3__R1F6_RN1RP2'],\n '20151124-07MEcaUD-OO-3__R1F7_RN1RP': ['20151124-07MEcaUD-OO-3__R1F7_RN1RP3'],\n '20151124-07MEcaUD-OO-3__R1F8_RN1RP': ['20151124-07MEcaUD-OO-3__R1F8_RN1RP4'],\n '20150201-06OOlvOO-RD-3__R4F5_RN0RP': ['20150201-06OOlvOO-RD-3__R4F5_RN0RP1'],\n '20150201-06OOlvOO-RD-3__R4F6_RN0RP': ['20150201-06OOlvOO-RD-3__R4F6_RN0RP2'],\n '20150201-06OOlvOO-RD-3__R4F7_RN0RP': ['20150201-06OOlvOO-RD-3__R4F7_RN0RP3'],\n '20150201-06OOlvOO-RD-3__R4F8_RN0RP': ['20150201-06OOlvOO-RD-3__R4F8_RN0RP4'],\n '20161215-07OOooPA-VT-3__R5F13_RN2RP': ['20161215-07OOooPA-VT-3__R5F13_RN2RP1'],\n '20161215-07OOooPA-VT-3__R5F14_RN2RP': ['20161215-07OOooPA-VT-3__R5F14_RN2RP2'],\n '20161215-07OOooPA-VT-3__R5F15_RN2RP': ['20161215-07OOooPA-VT-3__R5F15_RN2RP3'],\n '20170829-71MLbgHE-DV-3__R1F6_RN1RP': ['20170829-71MLbgHE-DV-3__R1F6_RN1RP1'],\n '20170202-07WIsaPA-VT-3__R9F10_RN1RP': ['20170202-07WIsaPA-VT-3__R9F10_RN1RP1'],\n '20170202-07WIsaPA-VT-3__R9F11_RN1RP': ['20170202-07WIsaPA-VT-3__R9F11_RN1RP2'],\n '20170202-07WIsaPA-VT-3__R9F12_RN1RP': ['20170202-07WIsaPA-VT-3__R9F12_RN1RP3'],\n '20160816-07TDsaPA-SD-3__R2F8_RN1RP': ['20160816-07TDsaPA-SD-3__R2F8_RN1RP3'],\n '20171003-71WIooPA-VT-3__R9F16_RN2RP': ['20171003-71WIooPA-VT-3__R9F16_RN2RP1'],\n '20171003-71WIooPA-VT-3__R9F17_RN2RP': ['20171003-71WIooPA-VT-3__R9F17_RN2RP2'],\n '20171003-71WIooPA-VT-3__R9F18_RN2RP': ['20171003-71WIooPA-VT-3__R9F18_RN2RP3'],\n '20170404-06WIooPA-VT-3__R8F10_RN2RP': ['20170404-06WIooPA-VT-3__R8F10_RN2RP2'],\n '20170404-06WIooPA-VT-3__R8F11_RN2RP': ['20170404-06WIooPA-VT-3__R8F11_RN2RP3'],\n '20170404-06WIooPA-VT-3__R8F9_RN2RP': ['20170404-06WIooPA-VT-3__R8F9_RN2RP1'],\n '20171128-71WIooVH-VG-3__R1F4_RN2RP': ['20171128-71WIooVH-VG-3__R1F4_RN2RP1'],\n '20171128-71WIooVH-VG-3__R1F5_RN2RP': ['20171128-71WIooVH-VG-3__R1F5_RN2RP2'],\n '20171128-71WIooVH-VG-3__R1F6_RN2RP': ['20171128-71WIooVH-VG-3__R1F6_RN2RP3'],\n '20161105-13ARciHE-YC-3__R2F15_RN1RP': ['20161105-13ARciHE-YC-3__R2F15_RN1RP4'],\n '20161105-13ARciHE-YC-3__R4F10_RN1RP': ['20161105-13ARciHE-YC-3__R4F10_RN1RP2'],\n '20161105-13ARciHE-YC-3__R4F16_RN1RP': ['20161105-13ARciHE-YC-3__R4F16_RN1RP3'],\n '20161105-13ARciHE-YC-3__R4F4_RN1RP': ['20161105-13ARciHE-YC-3__R4F4_RN1RP1'],\n '20170504-71MLbcHE-DV-3__R3F13_RN1RP': ['20170504-71MLbcHE-DV-3__R3F13_RN1RP1'],\n '20170504-71MLbcHE-DV-3__R3F14_RN1RP': ['20170504-71MLbcHE-DV-3__R3F14_RN1RP2'],\n '20170504-71MLbcHE-DV-3__R3F15_RN1RP': ['20170504-71MLbcHE-DV-3__R3F15_RN1RP3'],\n '20171003-22WIsaSP-VT-3__R1F1_RN2RP': ['20171003-22WIsaSP-VT-3__R1F1_RN2RP3'],\n '20171003-22WIsaSP-VT-3__R3F4_RN1RP': ['20171003-22WIsaSP-VT-3__R3F4_RN1RP1'],\n '20171003-22WIsaSP-VT-3__R3F5_RN1RP': ['20171003-22WIsaSP-VT-3__R3F5_RN1RP2'],\n '20171003-22WIsaSP-VT-3__R3F6_RN1RP': ['20171003-22WIsaSP-VT-3__R3F6_RN1RP3'],\n '20171003-22WIsaSP-VT-3__R5F12_RN2RP': ['20171003-22WIsaSP-VT-3__R5F12_RN2RP1'],\n '20171003-22WIsaSP-VT-3__R5F13_RN2RP': ['20171003-22WIsaSP-VT-3__R5F13_RN2RP2'],\n '20171003-22WIsaSP-VT-3__R5F5_RN1RP': ['20171003-22WIsaSP-VT-3__R5F5_RN1RP1'],\n '20171003-22WIsaSP-VT-3__R5F6_RN1RP': ['20171003-22WIsaSP-VT-3__R5F6_RN1RP2'],\n '20171003-22WIsaSP-VT-3__R5F8_RN1RP': ['20171003-22WIsaSP-VT-3__R5F8_RN1RP3'],\n '20171003-22WIsaSP-VT-3__R7F1_RN2RP': ['20171003-22WIsaSP-VT-3__R7F1_RN2RP3'],\n '20171003-22WIsaSP-VT-3__R7F13_RN2RP': ['20171003-22WIsaSP-VT-3__R7F13_RN2RP1'],\n '20171003-22WIsaSP-VT-3__R7F14_RN2RP': ['20171003-22WIsaSP-VT-3__R7F14_RN2RP2'],\n '20171003-22WIsaSP-VT-3__R7F15_RN2RP': ['20171003-22WIsaSP-VT-3__R7F15_RN2RP3'],\n '20171003-22WIsaSP-VT-3__R7F2_RN1RP': ['20171003-22WIsaSP-VT-3__R7F2_RN1RP1'],\n '20171003-22WIsaSP-VT-3__R7F3_RN1RP': ['20171003-22WIsaSP-VT-3__R7F3_RN1RP2'],\n '20171003-22WIsaSP-VT-3__R7F4_RN1RP': ['20171003-22WIsaSP-VT-3__R7F4_RN1RP3'],\n '20171003-22WIsaSP-VT-3__R8F8_RN2RP': ['20171003-22WIsaSP-VT-3__R8F8_RN2RP1'],\n '20171003-22WIsaSP-VT-3__R8F9_RN2RP': ['20171003-22WIsaSP-VT-3__R8F9_RN2RP2'],\n '20171106-71MLbgHE-DV-3__R1F6_RN1RP': ['20171106-71MLbgHE-DV-3__R1F6_RN1RP1'],\n '20171106-71MLbgHE-DV-3__R1F8_RN1RP': ['20171106-71MLbgHE-DV-3__R1F8_RN1RP1'],\n '20171106-71MLbgHE-DV-3__R1F9_RN1RP': ['20171106-71MLbgHE-DV-3__R1F9_RN1RP1'],\n '20180222-57WIsaVL-VT-3__R6F4_RN1RP': ['20180222-57WIsaVL-VT-3__R6F4_RN1RP1'],\n '20180222-57WIsaVL-VT-3__R6F5_RN1RP': ['20180222-57WIsaVL-VT-3__R6F5_RN1RP2'],\n '20180222-57WIsaVL-VT-3__R6F6_RN1RP': ['20180222-57WIsaVL-VT-3__R6F6_RN1RP3'],\n '20140701-07MLdcDA-OO-3__R1F18_RN1RP': ['20140701-07MLdcDA-OO-3__R1F18_RN1RP1'],\n '20140701-07MLdcDA-OO-3__R2F18_RN1RP': ['20140701-07MLdcDA-OO-3__R2F18_RN1RP2'],\n '20140701-07MLdcDA-OO-3__R3F18_RN1RP': ['20140701-07MLdcDA-OO-3__R3F18_RN1RP3'],\n '20160216-13OOgaUD-OO-3__R2F5_RN1RP': ['20160216-13OOgaUD-OO-3__R2F5_RN1RP1'],\n '20160216-13OOgaUD-OO-3__R2F6_RN1RP': ['20160216-13OOgaUD-OO-3__R2F6_RN1RP2'],\n '20160216-13OOgaUD-OO-3__R2F7_RN1RP': ['20160216-13OOgaUD-OO-3__R2F7_RN1RP3'],\n '20160216-13OOgaUD-OO-3__R7F6_RN2RP': ['20160216-13OOgaUD-OO-3__R7F6_RN2RP1'],\n '20160216-13OOgaUD-OO-3__R7F7_RN2RP': ['20160216-13OOgaUD-OO-3__R7F7_RN2RP2'],\n '20160216-13OOgaUD-OO-3__R7F8_RN2RP': ['20160216-13OOgaUD-OO-3__R7F8_RN2RP3'],\n '20140701-07RHhnUD-OO-3__R7F1_RN1RP': ['20140701-07RHhnUD-OO-3__R7F1_RN1RP1'],\n '20140701-07RHhnUD-OO-3__R7F2_RN1RP': ['20140701-07RHhnUD-OO-3__R7F2_RN1RP2'],\n '20140701-07RHhnUD-OO-3__R7F3_RN1RP': ['20140701-07RHhnUD-OO-3__R7F3_RN1RP3'],\n '20140701-07RHhnUD-OO-3__R7F4_RN1RP': ['20140701-07RHhnUD-OO-3__R7F4_RN1RP4'],\n '20170601-71ZJgoAD-DI-3__R4F12_RN1RP': ['20170601-71ZJgoAD-DI-3__R4F12_RN1RP1'],\n '20170601-71ZJgoAD-DI-3__R4F13_RN1RP': ['20170601-71ZJgoAD-DI-3__R4F13_RN1RP2'],\n '20170601-71ZJgoAD-DI-3__R4F14_RN1RP': ['20170601-71ZJgoAD-DI-3__R4F14_RN1RP3'],\n '20170202-13DAsaPA-YC-3__R10F11_RN1RP': ['20170202-13DAsaPA-YC-3__R10F11_RN1RP1'],\n '20170202-13DAsaPA-YC-3__R10F12_RN1RP': ['20170202-13DAsaPA-YC-3__R10F12_RN1RP2'],\n '20170202-13DAsaPA-YC-3__R10F13_RN1RP': ['20170202-13DAsaPA-YC-3__R10F13_RN1RP3'],\n '20170202-13DAsaPA-YC-3__R10F14_RN1RP': ['20170202-13DAsaPA-YC-3__R10F14_RN1RP4'],\n '20161105-11OOcbBA-NM-3__R6F4_RN1RP': ['20161105-11OOcbBA-NM-3__R6F4_RN1RP1'],\n '20161105-11OOcbBA-NM-3__R6F5_RN1RP': ['20161105-11OOcbBA-NM-3__R6F5_RN1RP2'],\n '20161105-11OOcbBA-NM-3__R6F6_RN1RP': ['20161105-11OOcbBA-NM-3__R6F6_RN1RP3'],\n '20160816-07OObcCS-BT-3__R4F4_RN1RP': ['20160816-07OObcCS-BT-3__R4F4_RN1RP1'],\n '20170829-71GAbcAD-DV-3__R3F14_RN1RP': ['20170829-71GAbcAD-DV-3__R3F14_RN1RP1'],\n '20140701-07MSdcMM-OO-3__R1F14_RN1RP': ['20140701-07MSdcMM-OO-3__R1F14_RN1RP1'],\n '20140701-07MSdcMM-OO-3__R2F14_RN1RP': ['20140701-07MSdcMM-OO-3__R2F14_RN1RP2'],\n '20140701-07MSdcMM-OO-3__R3F14_RN1RP': ['20140701-07MSdcMM-OO-3__R3F14_RN1RP3'],\n '20180222-24WIsaVH-VG-3__R3F9_RN1RP': ['20180222-24WIsaVH-VG-3__R3F9_RN1RP1'],\n '20180222-24WIsaVH-VG-3__R3F10_RN1RP': ['20180222-24WIsaVH-VG-3__R3F10_RN1RP2'],\n '20180222-24WIsaVH-VG-3__R3F11_RN1RP': ['20180222-24WIsaVH-VG-3__R3F11_RN1RP3'],\n '20170202-71MZbgHE-DF-3__R6F1_RN1RP': ['20170202-71MZbgHE-DF-3__R6F1_RN1RP1'],\n '20170202-71MZbgHE-DF-3__R6F2_RN1RP': ['20170202-71MZbgHE-DF-3__R6F2_RN1RP2'],\n '20170202-71MZbgHE-DF-3__R6F3_RN1RP': ['20170202-71MZbgHE-DF-3__R6F3_RN1RP3'],\n '20170202-07NXsaPA-VG-3__R3F20_RN2RP': ['20170202-07NXsaPA-VG-3__R3F20_RN2RP1'],\n '20170202-07NXsaPA-VG-3__R4F20_RN2RP': ['20170202-07NXsaPA-VG-3__R4F20_RN2RP2'],\n '20170202-07NXsaPA-VG-3__R5F20_RN2RP': ['20170202-07NXsaPA-VG-3__R5F20_RN2RP3'],\n '20160816-11TBsaPA-SD-3__R2F1_RN1RP': ['20160816-11TBsaPA-SD-3__R2F1_RN1RP2'],\n '20140701-07OOdcDA-OO-3__R1F19_RN1RP': ['20140701-07OOdcDA-OO-3__R1F19_RN1RP1'],\n '20140701-07OOdcDA-OO-3__R2F19_RN1RP': ['20140701-07OOdcDA-OO-3__R2F19_RN1RP2'],\n '20140701-07OOdcDA-OO-3__R3F19_RN1RP': ['20140701-07OOdcDA-OO-3__R3F19_RN1RP3'],\n '20140701-18XCsaDB-OO-3__R5F17_RN1RP': ['20140701-18XCsaDB-OO-3__R5F17_RN1RP1'],\n '20171128-71WIsaVL-VG-3__R7F11_RN2RP': ['20171128-71WIsaVL-VG-3__R7F11_RN2RP1'],\n '20171128-71WIsaVL-VG-3__R7F12_RN2RP': ['20171128-71WIsaVL-VG-3__R7F12_RN2RP2'],\n '20171128-71WIsaVL-VG-3__R7F13_RN2RP': ['20171128-71WIsaVL-VG-3__R7F13_RN2RP3'],\n '20170504-71ZJbgHE-DF-3__R1F10_RN1RP': ['20170504-71ZJbgHE-DF-3__R1F10_RN1RP2'],\n '20170504-71ZJbgHE-DF-3__R1F11_RN1RP': ['20170504-71ZJbgHE-DF-3__R1F11_RN1RP3'],\n '20170504-71ZJbgHE-DF-3__R1F9_RN1RP': ['20170504-71ZJbgHE-DF-3__R1F9_RN1RP1'],\n '20161105-07WIsaNE-VT-3__R10F1_RN1RP': ['20161105-07WIsaNE-VT-3__R10F1_RN1RP1'],\n '20161105-07WIsaNE-VT-3__R10F2_RN1RP': ['20161105-07WIsaNE-VT-3__R10F2_RN1RP2'],\n '20161105-07WIsaNE-VT-3__R10F3_RN1RP': ['20161105-07WIsaNE-VT-3__R10F3_RN1RP3'],\n '20150201-7MLbwOO-SM-3__R2F10_RN2RP': ['20150201-7MLbwOO-SM-3__R2F10_RN2RP2'],\n '20150201-7MLbwOO-SM-3__R2F11_RN2RP': ['20150201-7MLbwOO-SM-3__R2F11_RN2RP3'],\n '20150201-7MLbwOO-SM-3__R2F9_RN2RP': ['20150201-7MLbwOO-SM-3__R2F9_RN2RP1'],\n '20150201-7MLbwOO-SM-3__R3F10_RN3RP': ['20150201-7MLbwOO-SM-3__R3F10_RN3RP1'],\n '20150201-7MLbwOO-SM-3__R3F11_RN3RP': ['20150201-7MLbwOO-SM-3__R3F11_RN3RP2'],\n '20150201-7MLbwOO-SM-3__R3F12_RN3RP': ['20150201-7MLbwOO-SM-3__R3F12_RN3RP3'],\n '20150201-06OOnbOO-RD-3__R4F1_RN0RP': ['20150201-06OOnbOO-RD-3__R4F1_RN0RP1'],\n '20150201-06OOnbOO-RD-3__R4F2_RN0RP': ['20150201-06OOnbOO-RD-3__R4F2_RN0RP2'],\n '20150201-06OOnbOO-RD-3__R4F3_RN0RP': ['20150201-06OOnbOO-RD-3__R4F3_RN0RP3'],\n '20150201-06OOnbOO-RD-3__R4F4_RN0RP': ['20150201-06OOnbOO-RD-3__R4F4_RN0RP4'],\n '20161215-07OOsaNE-VT-3__R10F7_RN3RP': ['20161215-07OOsaNE-VT-3__R10F7_RN3RP1'],\n '20161215-07OOsaNE-VT-3__R10F8_RN3RP': ['20161215-07OOsaNE-VT-3__R10F8_RN3RP2'],\n '20161215-07OOsaNE-VT-3__R10F9_RN3RP': ['20161215-07OOsaNE-VT-3__R10F9_RN3RP3'],\n '20180222-24OOsaVH-VG-3__R3F18_RN1RP': ['20180222-24OOsaVH-VG-3__R3F18_RN1RP1'],\n '20180222-24OOsaVH-VG-3__R3F19_RN1RP': ['20180222-24OOsaVH-VG-3__R3F19_RN1RP2'],\n '20180222-24OOsaVH-VG-3__R3F20_RN1RP': ['20180222-24OOsaVH-VG-3__R3F20_RN1RP3'],\n '20171003-22WIooPA-VT-3__R2F2_RN2RP': ['20171003-22WIooPA-VT-3__R2F2_RN2RP1'],\n '20171003-22WIooPA-VT-3__R2F3_RN2RP': ['20171003-22WIooPA-VT-3__R2F3_RN2RP2'],\n '20171003-22WIooPA-VT-3__R2F4_RN2RP': ['20171003-22WIooPA-VT-3__R2F4_RN2RP3'],\n '20170202-13ABsaPA-YC-3__R10F2_RN1RP': ['20170202-13ABsaPA-YC-3__R10F2_RN1RP1'],\n '20170202-13ABsaPA-YC-3__R10F3_RN1RP': ['20170202-13ABsaPA-YC-3__R10F3_RN1RP2'],\n '20170202-13ABsaPA-YC-3__R10F4_RN1RP': ['20170202-13ABsaPA-YC-3__R10F4_RN1RP3'],\n '20170202-13ABsaPA-YC-3__R10F5_RN1RP': ['20170202-13ABsaPA-YC-3__R10F5_RN1RP4'],\n '20170202-13ABsaPA-YC-3__R10F6_RN1RP': ['20170202-13ABsaPA-YC-3__R10F6_RN1RP5'],\n '20160816-07OOsaPA-SD-3__R2F4_RN1RP': ['20160816-07OOsaPA-SD-3__R2F4_RN1RP3'],\n '20160816-07GUbgUD-CL-3__R5F5_RN0RP': ['20160816-07GUbgUD-CL-3__R5F5_RN0RP0'],\n '20160216-13DCgaUD-OO-3__R1F4_RN1RP': ['20160216-13DCgaUD-OO-3__R1F4_RN1RP1'],\n '20160216-13DCgaUD-OO-3__R1F5_RN1RP': ['20160216-13DCgaUD-OO-3__R1F5_RN1RP2'],\n '20160216-13DCgaUD-OO-3__R1F6_RN1RP': ['20160216-13DCgaUD-OO-3__R1F6_RN1RP3'],\n '20160602-07WIsaGL-OO-3__R2F6_RN1RP': ['20160602-07WIsaGL-OO-3__R2F6_RN1RP1'],\n '20160816-14OOicPA-JW-3__R7F10_RN1RP': ['20160816-14OOicPA-JW-3__R7F10_RN1RP1'],\n '20160816-14OOicPA-JW-3__R7F2_RN1RP': ['20160816-14OOicPA-JW-3__R7F2_RN1RP2'],\n '20160816-14OOicPA-JW-3__R7F3_RN1RP': ['20160816-14OOicPA-JW-3__R7F3_RN1RP3'],\n '20160816-14OOicPA-JW-3__R7F4_RN2RP': ['20160816-14OOicPA-JW-3__R7F4_RN2RP1'],\n '20171128-71WIooVE-VT-3__R3F19_RN2RP': ['20171128-71WIooVE-VT-3__R3F19_RN2RP1'],\n '20171128-71WIooVE-VT-3__R3F20_RN2RP': ['20171128-71WIooVE-VT-3__R3F20_RN2RP2'],\n '20171128-71WIooVE-VT-3__R6F1_RN2RP': ['20171128-71WIooVE-VT-3__R6F1_RN2RP3'],\n '20150922-07LAgaUD-OO-3__R10F1_RN1RP': ['20150922-07LAgaUD-OO-3__R10F1_RN1RP1'],\n '20150922-07LAgaUD-OO-3__R10F2_RN1RP': ['20150922-07LAgaUD-OO-3__R10F2_RN1RP2'],\n '20150922-07LAgaUD-OO-3__R10F3_RN1RP': ['20150922-07LAgaUD-OO-3__R10F3_RN1RP3'],\n '20150922-14OObuUD-OO-3__R1F1_RN0RP': ['20150922-14OObuUD-OO-3__R1F1_RN0RP0'],\n '20140701-18XCbwDA-OO-3__R5F14_RN1RP': ['20140701-18XCbwDA-OO-3__R5F14_RN1RP1'],\n '20140701-18XCbwDA-OO-3__R5F15_RN1RP': ['20140701-18XCbwDA-OO-3__R5F15_RN1RP2'],\n '20140701-18XCbwDA-OO-3__R5F16_RN1RP': ['20140701-18XCbwDA-OO-3__R5F16_RN1RP3'],\n '20171003-71OOgoHE-DF-3__R4F2_RN1RP': ['20171003-71OOgoHE-DF-3__R4F2_RN1RP1'],\n '20171003-71OOgoHE-DF-3__R4F3_RN1RP': ['20171003-71OOgoHE-DF-3__R4F3_RN1RP1'],\n '20170601-71GAbgAD-DF-3__R1F15_RN1RP': ['20170601-71GAbgAD-DF-3__R1F15_RN1RP1'],\n '20170601-71GAbgAD-DF-3__R1F16_RN1RP': ['20170601-71GAbgAD-DF-3__R1F16_RN1RP2'],\n '20170601-71GAbgAD-DF-3__R1F17_RN1RP': ['20170601-71GAbgAD-DF-3__R1F17_RN1RP3'],\n '20150529-07AAplUD-OO-3__R1F14_RN2RP': ['20150529-07AAplUD-OO-3__R1F14_RN2RP1'],\n '20150529-07AAplUD-OO-3__R1F15_RN2RP': ['20150529-07AAplUD-OO-3__R1F15_RN2RP2'],\n '20150529-07AAplUD-OO-3__R1F16_RN2RP': ['20150529-07AAplUD-OO-3__R1F16_RN2RP3'],\n '20150529-07AAplUD-OO-3__R1F4_RN1RP': ['20150529-07AAplUD-OO-3__R1F4_RN1RP1'],\n '20150529-07AAplUD-OO-3__R1F5_RN1RP': ['20150529-07AAplUD-OO-3__R1F5_RN1RP2'],\n '20150529-07AAplUD-OO-3__R1F6_RN1RP': ['20150529-07AAplUD-OO-3__R1F6_RN1RP3'],\n '20170601-71ZJbcAD-DV-3__R2F14_RN1RP': ['20170601-71ZJbcAD-DV-3__R2F14_RN1RP1'],\n '20170601-71ZJbcAD-DV-3__R2F15_RN1RP': ['20170601-71ZJbcAD-DV-3__R2F15_RN1RP2'],\n '20170601-71ZJbcAD-DV-3__R2F16_RN1RP': ['20170601-71ZJbcAD-DV-3__R2F16_RN1RP3'],\n '20180809-16OOicXP-JW-3__R14F1_RN1RP': ['20180809-16OOicXP-JW-3__R14F1_RN1RP1'],\n '20180809-16OOicXP-JW-3__R14F2_RN1RP': ['20180809-16OOicXP-JW-3__R14F2_RN1RP2'],\n '20180809-16OOicXP-JW-3__R14F3_RN2RP': ['20180809-16OOicXP-JW-3__R14F3_RN2RP1'],\n '20180809-16OOicXP-JW-3__R14F4_RN2RP': ['20180809-16OOicXP-JW-3__R14F4_RN2RP2'],\n '20170601-71GAbcAD-DV-3__R3F10_RN1RP': ['20170601-71GAbcAD-DV-3__R3F10_RN1RP1'],\n '20170601-71GAbcAD-DV-3__R3F11_RN1RP': ['20170601-71GAbcAD-DV-3__R3F11_RN1RP2'],\n '20170601-71GAbcAD-DV-3__R3F12_RN1RP': ['20170601-71GAbcAD-DV-3__R3F12_RN1RP3'],\n '20150201-7OOhnUD-OO-3__R10F1_RN1RP': ['20150201-7OOhnUD-OO-3__R10F1_RN1RP4'],\n '20150201-7OOhnUD-OO-3__R10F11_RN2RP': ['20150201-7OOhnUD-OO-3__R10F11_RN2RP4'],\n '20150201-7OOhnUD-OO-3__R10F12_RN2RP': ['20150201-7OOhnUD-OO-3__R10F12_RN2RP5'],\n '20150201-7OOhnUD-OO-3__R10F13_RN2RP': ['20150201-7OOhnUD-OO-3__R10F13_RN2RP6'],\n '20150201-7OOhnUD-OO-3__R10F2_RN1RP': ['20150201-7OOhnUD-OO-3__R10F2_RN1RP5'],\n '20150201-7OOhnUD-OO-3__R10F3_RN1RP': ['20150201-7OOhnUD-OO-3__R10F3_RN1RP6'],\n '20150201-7OOhnUD-OO-3__R9F1_RN1RP': ['20150201-7OOhnUD-OO-3__R9F1_RN1RP1'],\n '20150201-7OOhnUD-OO-3__R9F11_RN2RP': ['20150201-7OOhnUD-OO-3__R9F11_RN2RP1'],\n '20150201-7OOhnUD-OO-3__R9F12_RN2RP': ['20150201-7OOhnUD-OO-3__R9F12_RN2RP2'],\n '20150201-7OOhnUD-OO-3__R9F13_RN2RP': ['20150201-7OOhnUD-OO-3__R9F13_RN2RP3'],\n '20150201-7OOhnUD-OO-3__R9F2_RN1RP': ['20150201-7OOhnUD-OO-3__R9F2_RN1RP2'],\n '20150201-7OOhnUD-OO-3__R9F3_RN1RP': ['20150201-7OOhnUD-OO-3__R9F3_RN1RP3'],\n '20150922-14DFbsUD-OO-3__R1F17_RN2RP': ['20150922-14DFbsUD-OO-3__R1F17_RN2RP2'],\n '20150922-14DFbsUD-OO-3__R1F18_RN2RP': ['20150922-14DFbsUD-OO-3__R1F18_RN2RP2'],\n '20150922-14DFbsUD-OO-3__R1F19_RN2RP': ['20150922-14DFbsUD-OO-3__R1F19_RN2RP2'],\n '20150922-14DFbsUD-OO-3__R1F3_RN2RP': ['20150922-14DFbsUD-OO-3__R1F3_RN2RP1'],\n '20150922-14DFbsUD-OO-3__R1F4_RN2RP': ['20150922-14DFbsUD-OO-3__R1F4_RN2RP1'],\n '20150922-14DFbsUD-OO-3__R1F5_RN2RP': ['20150922-14DFbsUD-OO-3__R1F5_RN2RP1'],\n '20150922-14DFbsUD-OO-3__R2F10_RN2RP': ['20150922-14DFbsUD-OO-3__R2F10_RN2RP3'],\n '20150922-14DFbsUD-OO-3__R2F11_RN2RP': ['20150922-14DFbsUD-OO-3__R2F11_RN2RP3'],\n '20150922-14DFbsUD-OO-3__R2F9_RN2RP': ['20150922-14DFbsUD-OO-3__R2F9_RN2RP3'],\n '20150922-14DFbsUD-OO-3__R3F13_RN2RP': ['20150922-14DFbsUD-OO-3__R3F13_RN2RP5'],\n '20150922-14DFbsUD-OO-3__R3F14_RN2RP': ['20150922-14DFbsUD-OO-3__R3F14_RN2RP5'],\n '20150922-14DFbsUD-OO-3__R3F15_RN2RP': ['20150922-14DFbsUD-OO-3__R3F15_RN2RP5'],\n '20150922-14DFbsUD-OO-3__R3F9_RN2RP': ['20150922-14DFbsUD-OO-3__R3F9_RN2RP4'],\n '20160816-07WIsaUD-OO-3__R10F4_RN0RP': ['20160816-07WIsaUD-OO-3__R10F4_RN0RP0'],\n '20160816-07WIsaUD-OO-3__R10F6_RN0RP': ['20160816-07WIsaUD-OO-3__R10F6_RN0RP0'],\n '20160816-07WIsaUD-OO-3__R10F7_RN0RP': ['20160816-07WIsaUD-OO-3__R10F7_RN0RP0'],\n '20160816-07WIsaUD-OO-3__R10F8_RN0RP': ['20160816-07WIsaUD-OO-3__R10F8_RN0RP0'],\n '20150201-7BNdcOO-SM-3__R1F7_RN1RP': ['20150201-7BNdcOO-SM-3__R1F7_RN1RP1'],\n ...}"
     },
     "metadata": {},
     "execution_count": 44
    }
   ],
   "source": [
    "unique_vals_dict"
   ]
  },
  {
   "cell_type": "code",
   "execution_count": 43,
   "metadata": {},
   "outputs": [
    {
     "output_type": "execute_result",
     "data": {
      "text/plain": "    20160602-07ABsaGN-OO-3__R2F3_RN1RP   20160216-63BNsaUD-OO-3__R4F16_RN1RP  \\\n0  20160602-07ABsaGN-OO-3__R2F3_RN1RP1  20160216-63BNsaUD-OO-3__R4F16_RN1RP1   \n\n    20160216-63BNsaUD-OO-3__R4F17_RN1RP   20160216-63BNsaUD-OO-3__R4F18_RN1RP  \\\n0  20160216-63BNsaUD-OO-3__R4F17_RN1RP2  20160216-63BNsaUD-OO-3__R4F18_RN1RP3   \n\n    20181108-218TSnoAB-YW-3__R17F8_RN2RP  \\\n0  20181108-218TSnoAB-YW-3__R17F8_RN2RP1   \n\n    20170202-71OObcHE-DF-3__R6F16_RN1RP   20170202-71OObcHE-DF-3__R6F17_RN1RP  \\\n0  20170202-71OObcHE-DF-3__R6F16_RN1RP1  20170202-71OObcHE-DF-3__R6F17_RN1RP2   \n\n    20170202-71OObcHE-DF-3__R6F18_RN1RP   20160816-63OOknRI-CL-3__R7F14_RN1RP  \\\n0  20170202-71OObcHE-DF-3__R6F18_RN1RP3  20160816-63OOknRI-CL-3__R7F14_RN1RP1   \n\n    20160816-63OOknRI-CL-3__R7F15_RN1RP  ...  \\\n0  20160816-63OOknRI-CL-3__R7F15_RN1RP2  ...   \n\n    20150201-07SBbwOO-SM-3__R2F1_RN2RP   20150201-07SBbwOO-SM-3__R2F18_RN3RP  \\\n0  20150201-07SBbwOO-SM-3__R2F1_RN2RP2  20150201-07SBbwOO-SM-3__R2F18_RN3RP1   \n\n    20150201-07SBbwOO-SM-3__R2F19_RN3RP   20150201-07SBbwOO-SM-3__R2F2_RN2RP  \\\n0  20150201-07SBbwOO-SM-3__R2F19_RN3RP2  20150201-07SBbwOO-SM-3__R2F2_RN2RP3   \n\n    20150201-07SBbwOO-SM-3__R2F20_RN3RP  \\\n0  20150201-07SBbwOO-SM-3__R2F20_RN3RP3   \n\n    20181108-219TSnoAB-YW-3__R17F15_RN3RP  \\\n0  20181108-219TSnoAB-YW-3__R17F15_RN3RP1   \n\n    20171106-130OOicXP-JW-3__R10F15_RN6RP  \\\n0  20171106-130OOicXP-JW-3__R10F15_RN6RP4   \n\n    20170202-71MZdcEB-DF-3__R7F1_RN1RP   20170202-71MZdcEB-DF-3__R7F2_RN1RP  \\\n0  20170202-71MZdcEB-DF-3__R7F1_RN1RP1  20170202-71MZdcEB-DF-3__R7F2_RN1RP2   \n\n    20170202-71MZdcEB-DF-3__R7F3_RN1RP  \n0  20170202-71MZdcEB-DF-3__R7F3_RN1RP3  \n\n[1 rows x 1587 columns]",
      "text/html": "<div>\n<style scoped>\n    .dataframe tbody tr th:only-of-type {\n        vertical-align: middle;\n    }\n\n    .dataframe tbody tr th {\n        vertical-align: top;\n    }\n\n    .dataframe thead th {\n        text-align: right;\n    }\n</style>\n<table border=\"1\" class=\"dataframe\">\n  <thead>\n    <tr style=\"text-align: right;\">\n      <th></th>\n      <th>20160602-07ABsaGN-OO-3__R2F3_RN1RP</th>\n      <th>20160216-63BNsaUD-OO-3__R4F16_RN1RP</th>\n      <th>20160216-63BNsaUD-OO-3__R4F17_RN1RP</th>\n      <th>20160216-63BNsaUD-OO-3__R4F18_RN1RP</th>\n      <th>20181108-218TSnoAB-YW-3__R17F8_RN2RP</th>\n      <th>20170202-71OObcHE-DF-3__R6F16_RN1RP</th>\n      <th>20170202-71OObcHE-DF-3__R6F17_RN1RP</th>\n      <th>20170202-71OObcHE-DF-3__R6F18_RN1RP</th>\n      <th>20160816-63OOknRI-CL-3__R7F14_RN1RP</th>\n      <th>20160816-63OOknRI-CL-3__R7F15_RN1RP</th>\n      <th>...</th>\n      <th>20150201-07SBbwOO-SM-3__R2F1_RN2RP</th>\n      <th>20150201-07SBbwOO-SM-3__R2F18_RN3RP</th>\n      <th>20150201-07SBbwOO-SM-3__R2F19_RN3RP</th>\n      <th>20150201-07SBbwOO-SM-3__R2F2_RN2RP</th>\n      <th>20150201-07SBbwOO-SM-3__R2F20_RN3RP</th>\n      <th>20181108-219TSnoAB-YW-3__R17F15_RN3RP</th>\n      <th>20171106-130OOicXP-JW-3__R10F15_RN6RP</th>\n      <th>20170202-71MZdcEB-DF-3__R7F1_RN1RP</th>\n      <th>20170202-71MZdcEB-DF-3__R7F2_RN1RP</th>\n      <th>20170202-71MZdcEB-DF-3__R7F3_RN1RP</th>\n    </tr>\n  </thead>\n  <tbody>\n    <tr>\n      <th>0</th>\n      <td>20160602-07ABsaGN-OO-3__R2F3_RN1RP1</td>\n      <td>20160216-63BNsaUD-OO-3__R4F16_RN1RP1</td>\n      <td>20160216-63BNsaUD-OO-3__R4F17_RN1RP2</td>\n      <td>20160216-63BNsaUD-OO-3__R4F18_RN1RP3</td>\n      <td>20181108-218TSnoAB-YW-3__R17F8_RN2RP1</td>\n      <td>20170202-71OObcHE-DF-3__R6F16_RN1RP1</td>\n      <td>20170202-71OObcHE-DF-3__R6F17_RN1RP2</td>\n      <td>20170202-71OObcHE-DF-3__R6F18_RN1RP3</td>\n      <td>20160816-63OOknRI-CL-3__R7F14_RN1RP1</td>\n      <td>20160816-63OOknRI-CL-3__R7F15_RN1RP2</td>\n      <td>...</td>\n      <td>20150201-07SBbwOO-SM-3__R2F1_RN2RP2</td>\n      <td>20150201-07SBbwOO-SM-3__R2F18_RN3RP1</td>\n      <td>20150201-07SBbwOO-SM-3__R2F19_RN3RP2</td>\n      <td>20150201-07SBbwOO-SM-3__R2F2_RN2RP3</td>\n      <td>20150201-07SBbwOO-SM-3__R2F20_RN3RP3</td>\n      <td>20181108-219TSnoAB-YW-3__R17F15_RN3RP1</td>\n      <td>20171106-130OOicXP-JW-3__R10F15_RN6RP4</td>\n      <td>20170202-71MZdcEB-DF-3__R7F1_RN1RP1</td>\n      <td>20170202-71MZdcEB-DF-3__R7F2_RN1RP2</td>\n      <td>20170202-71MZdcEB-DF-3__R7F3_RN1RP3</td>\n    </tr>\n  </tbody>\n</table>\n<p>1 rows × 1587 columns</p>\n</div>"
     },
     "metadata": {},
     "execution_count": 43
    }
   ],
   "source": [
    "pd_dict"
   ]
  },
  {
   "cell_type": "code",
   "execution_count": null,
   "metadata": {},
   "outputs": [],
   "source": []
  }
 ]
}