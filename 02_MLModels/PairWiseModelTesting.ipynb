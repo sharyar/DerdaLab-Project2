{
 "metadata": {
  "language_info": {
   "codemirror_mode": {
    "name": "ipython",
    "version": 3
   },
   "file_extension": ".py",
   "mimetype": "text/x-python",
   "name": "python",
   "nbconvert_exporter": "python",
   "pygments_lexer": "ipython3",
   "version": "3.8.5-final"
  },
  "orig_nbformat": 2,
  "kernelspec": {
   "name": "python_defaultSpec_1596847427811",
   "display_name": "Python 3.8.5 64-bit ('derda1': conda)"
  }
 },
 "nbformat": 4,
 "nbformat_minor": 2,
 "cells": [
  {
   "cell_type": "markdown",
   "metadata": {},
   "source": [
    "# Test ML Models for Pairwise Classification"
   ]
  },
  {
   "cell_type": "markdown",
   "metadata": {},
   "source": [
    "### Imports"
   ]
  },
  {
   "cell_type": "code",
   "execution_count": 6,
   "metadata": {},
   "outputs": [],
   "source": [
    "import pandas as pd\n",
    "from sklearn.svm import SVC\n",
    "from sklearn.naive_bayes import GaussianNB\n",
    "from sklearn.discriminant_analysis import LinearDiscriminantAnalysis\n",
    "from sklearn.tree import DecisionTreeClassifier\n",
    "from sklearn.linear_model import LogisticRegression\n",
    "from sklearn.neighbors import KNeighborsClassifier\n",
    "from sklearn.pipeline import make_pipeline\n",
    "from sklearn.preprocessing import MinMaxScaler\n",
    "from sklearn.model_selection import cross_val_predict\n",
    "from sklearn.model_selection import cross_val_score\n",
    "import matplotlib.pyplot as plt\n",
    "\n",
    "from sklearn.model_selection import StratifiedShuffleSplit\n",
    "\n",
    "from sklearn.preprocessing import StandardScaler\n",
    "from sklearn.pipeline import Pipeline, FeatureUnion\n",
    "from sklearn.model_selection import GridSearchCV\n",
    "\n",
    "from sklearn.neural_network import MLPClassifier\n",
    "\n",
    "import seaborn as sns\n",
    "from sklearn.metrics import classification_report\n",
    "sns.set(style=\"darkgrid\")"
   ]
  },
  {
   "cell_type": "code",
   "execution_count": 2,
   "metadata": {},
   "outputs": [],
   "source": [
    "df_withLabels = pd.read_csv('../03_SourceFiles/03_ProcessedFiles/trimer-pair-wise-df.csv',\n",
    "                            engine='c',\n",
    "                            index_col=0,\n",
    "                            low_memory=False)"
   ]
  },
  {
   "cell_type": "code",
   "execution_count": 3,
   "metadata": {},
   "outputs": [
    {
     "output_type": "execute_result",
     "data": {
      "text/plain": "                               l_sampleName  l_TYA  l_LDV  l_AWL  l_WLD  \\\n0       20171128-71NYsaVH-VG-3__R1F2_RN2RP2  372.0  250.0  248.0  258.0   \n1       20161105-13OOicXZ-JW-3__R3F2_RN2RP1   17.0   11.0    0.0    4.0   \n2       20170228-22OOooNA-HD-3__R2F3_RN1RP4   15.0   14.0    8.0   43.0   \n3      20150819-07OObwUD-OO-3__R5F18_RN2RP2   52.0    1.0    7.0   14.0   \n4       20170808-90OOooNA-HD-3__R3F8_RN1RP3   33.0    3.0    8.0   10.0   \n...                                     ...    ...    ...    ...    ...   \n22583   20170202-71MZdcEB-DF-3__R7F1_RN1RP1  617.0  491.0  317.0  307.0   \n22584   20170202-71MZdcEB-DF-3__R7F2_RN1RP2  569.0  456.0  323.0  282.0   \n22585   20170202-71MZdcEB-DF-3__R7F2_RN1RP2  569.0  456.0  323.0  282.0   \n22586   20170202-71MZdcEB-DF-3__R7F3_RN1RP3  517.0  402.0  238.0  213.0   \n22587   20170202-71MZdcEB-DF-3__R7F3_RN1RP3  517.0  402.0  238.0  213.0   \n\n       l_YAW  l_HQH  l_SGQ  l_DHQ  l_GQD  ...  r_WMC  r_CFW  r_EMC  r_FCM  \\\n0      250.0   56.0   45.0   43.0  154.0  ...    0.0    0.0    0.0  233.0   \n1        0.0   11.0   12.0    9.0   21.0  ...    0.0    0.0    0.0   70.0   \n2       28.0   86.0   36.0    6.0    6.0  ...    1.0    0.0    0.0    0.0   \n3        0.0    2.0    6.0    1.0   27.0  ...    2.0    2.0    1.0    2.0   \n4        1.0   25.0    3.0   15.0    2.0  ...    1.0    0.0    0.0    0.0   \n...      ...    ...    ...    ...    ...  ...    ...    ...    ...    ...   \n22583  275.0  228.0  313.0  196.0  228.0  ...    3.0    3.0    7.0   11.0   \n22584  260.0  229.0  312.0  197.0  206.0  ...    3.0    4.0   11.0    8.0   \n22585  260.0  229.0  312.0  197.0  206.0  ...    3.0    3.0    7.0   11.0   \n22586  205.0  250.0  339.0  211.0  214.0  ...    3.0    4.0   11.0    8.0   \n22587  205.0  250.0  339.0  211.0  214.0  ...    1.0    3.0    7.0    6.0   \n\n       r_CWW  r_WWC  r_CWV  r_naiveLibrary  sibling  \\\n0        0.0    0.0    0.0               0        0   \n1        0.0    0.0    0.0               0        0   \n2        0.0    0.0    0.0               0        0   \n3        1.0    0.0    1.0               0        0   \n4        0.0    0.0    0.0               1        0   \n...      ...    ...    ...             ...      ...   \n22583    3.0    3.0    4.0               0        1   \n22584    1.0    3.0    5.0               0        1   \n22585    3.0    3.0    4.0               0        1   \n22586    1.0    3.0    5.0               0        1   \n22587    2.0    0.0    5.0               0        1   \n\n                                            c_sampleName  \n0      20171128-71NYsaVH-VG-3__R1F2_RN2RP2_^_20150922...  \n1      20161105-13OOicXZ-JW-3__R3F2_RN2RP1_^_20160419...  \n2      20170228-22OOooNA-HD-3__R2F3_RN1RP4_^_20170829...  \n3      20150819-07OObwUD-OO-3__R5F18_RN2RP2_^_2017082...  \n4      20170808-90OOooNA-HD-3__R3F8_RN1RP3_^_20170601...  \n...                                                  ...  \n22583  20170202-71MZdcEB-DF-3__R7F1_RN1RP1_^_20170202...  \n22584  20170202-71MZdcEB-DF-3__R7F2_RN1RP2_^_20170202...  \n22585  20170202-71MZdcEB-DF-3__R7F2_RN1RP2_^_20170202...  \n22586  20170202-71MZdcEB-DF-3__R7F3_RN1RP3_^_20170202...  \n22587  20170202-71MZdcEB-DF-3__R7F3_RN1RP3_^_20170202...  \n\n[22588 rows x 16006 columns]",
      "text/html": "<div>\n<style scoped>\n    .dataframe tbody tr th:only-of-type {\n        vertical-align: middle;\n    }\n\n    .dataframe tbody tr th {\n        vertical-align: top;\n    }\n\n    .dataframe thead th {\n        text-align: right;\n    }\n</style>\n<table border=\"1\" class=\"dataframe\">\n  <thead>\n    <tr style=\"text-align: right;\">\n      <th></th>\n      <th>l_sampleName</th>\n      <th>l_TYA</th>\n      <th>l_LDV</th>\n      <th>l_AWL</th>\n      <th>l_WLD</th>\n      <th>l_YAW</th>\n      <th>l_HQH</th>\n      <th>l_SGQ</th>\n      <th>l_DHQ</th>\n      <th>l_GQD</th>\n      <th>...</th>\n      <th>r_WMC</th>\n      <th>r_CFW</th>\n      <th>r_EMC</th>\n      <th>r_FCM</th>\n      <th>r_CWW</th>\n      <th>r_WWC</th>\n      <th>r_CWV</th>\n      <th>r_naiveLibrary</th>\n      <th>sibling</th>\n      <th>c_sampleName</th>\n    </tr>\n  </thead>\n  <tbody>\n    <tr>\n      <th>0</th>\n      <td>20171128-71NYsaVH-VG-3__R1F2_RN2RP2</td>\n      <td>372.0</td>\n      <td>250.0</td>\n      <td>248.0</td>\n      <td>258.0</td>\n      <td>250.0</td>\n      <td>56.0</td>\n      <td>45.0</td>\n      <td>43.0</td>\n      <td>154.0</td>\n      <td>...</td>\n      <td>0.0</td>\n      <td>0.0</td>\n      <td>0.0</td>\n      <td>233.0</td>\n      <td>0.0</td>\n      <td>0.0</td>\n      <td>0.0</td>\n      <td>0</td>\n      <td>0</td>\n      <td>20171128-71NYsaVH-VG-3__R1F2_RN2RP2_^_20150922...</td>\n    </tr>\n    <tr>\n      <th>1</th>\n      <td>20161105-13OOicXZ-JW-3__R3F2_RN2RP1</td>\n      <td>17.0</td>\n      <td>11.0</td>\n      <td>0.0</td>\n      <td>4.0</td>\n      <td>0.0</td>\n      <td>11.0</td>\n      <td>12.0</td>\n      <td>9.0</td>\n      <td>21.0</td>\n      <td>...</td>\n      <td>0.0</td>\n      <td>0.0</td>\n      <td>0.0</td>\n      <td>70.0</td>\n      <td>0.0</td>\n      <td>0.0</td>\n      <td>0.0</td>\n      <td>0</td>\n      <td>0</td>\n      <td>20161105-13OOicXZ-JW-3__R3F2_RN2RP1_^_20160419...</td>\n    </tr>\n    <tr>\n      <th>2</th>\n      <td>20170228-22OOooNA-HD-3__R2F3_RN1RP4</td>\n      <td>15.0</td>\n      <td>14.0</td>\n      <td>8.0</td>\n      <td>43.0</td>\n      <td>28.0</td>\n      <td>86.0</td>\n      <td>36.0</td>\n      <td>6.0</td>\n      <td>6.0</td>\n      <td>...</td>\n      <td>1.0</td>\n      <td>0.0</td>\n      <td>0.0</td>\n      <td>0.0</td>\n      <td>0.0</td>\n      <td>0.0</td>\n      <td>0.0</td>\n      <td>0</td>\n      <td>0</td>\n      <td>20170228-22OOooNA-HD-3__R2F3_RN1RP4_^_20170829...</td>\n    </tr>\n    <tr>\n      <th>3</th>\n      <td>20150819-07OObwUD-OO-3__R5F18_RN2RP2</td>\n      <td>52.0</td>\n      <td>1.0</td>\n      <td>7.0</td>\n      <td>14.0</td>\n      <td>0.0</td>\n      <td>2.0</td>\n      <td>6.0</td>\n      <td>1.0</td>\n      <td>27.0</td>\n      <td>...</td>\n      <td>2.0</td>\n      <td>2.0</td>\n      <td>1.0</td>\n      <td>2.0</td>\n      <td>1.0</td>\n      <td>0.0</td>\n      <td>1.0</td>\n      <td>0</td>\n      <td>0</td>\n      <td>20150819-07OObwUD-OO-3__R5F18_RN2RP2_^_2017082...</td>\n    </tr>\n    <tr>\n      <th>4</th>\n      <td>20170808-90OOooNA-HD-3__R3F8_RN1RP3</td>\n      <td>33.0</td>\n      <td>3.0</td>\n      <td>8.0</td>\n      <td>10.0</td>\n      <td>1.0</td>\n      <td>25.0</td>\n      <td>3.0</td>\n      <td>15.0</td>\n      <td>2.0</td>\n      <td>...</td>\n      <td>1.0</td>\n      <td>0.0</td>\n      <td>0.0</td>\n      <td>0.0</td>\n      <td>0.0</td>\n      <td>0.0</td>\n      <td>0.0</td>\n      <td>1</td>\n      <td>0</td>\n      <td>20170808-90OOooNA-HD-3__R3F8_RN1RP3_^_20170601...</td>\n    </tr>\n    <tr>\n      <th>...</th>\n      <td>...</td>\n      <td>...</td>\n      <td>...</td>\n      <td>...</td>\n      <td>...</td>\n      <td>...</td>\n      <td>...</td>\n      <td>...</td>\n      <td>...</td>\n      <td>...</td>\n      <td>...</td>\n      <td>...</td>\n      <td>...</td>\n      <td>...</td>\n      <td>...</td>\n      <td>...</td>\n      <td>...</td>\n      <td>...</td>\n      <td>...</td>\n      <td>...</td>\n      <td>...</td>\n    </tr>\n    <tr>\n      <th>22583</th>\n      <td>20170202-71MZdcEB-DF-3__R7F1_RN1RP1</td>\n      <td>617.0</td>\n      <td>491.0</td>\n      <td>317.0</td>\n      <td>307.0</td>\n      <td>275.0</td>\n      <td>228.0</td>\n      <td>313.0</td>\n      <td>196.0</td>\n      <td>228.0</td>\n      <td>...</td>\n      <td>3.0</td>\n      <td>3.0</td>\n      <td>7.0</td>\n      <td>11.0</td>\n      <td>3.0</td>\n      <td>3.0</td>\n      <td>4.0</td>\n      <td>0</td>\n      <td>1</td>\n      <td>20170202-71MZdcEB-DF-3__R7F1_RN1RP1_^_20170202...</td>\n    </tr>\n    <tr>\n      <th>22584</th>\n      <td>20170202-71MZdcEB-DF-3__R7F2_RN1RP2</td>\n      <td>569.0</td>\n      <td>456.0</td>\n      <td>323.0</td>\n      <td>282.0</td>\n      <td>260.0</td>\n      <td>229.0</td>\n      <td>312.0</td>\n      <td>197.0</td>\n      <td>206.0</td>\n      <td>...</td>\n      <td>3.0</td>\n      <td>4.0</td>\n      <td>11.0</td>\n      <td>8.0</td>\n      <td>1.0</td>\n      <td>3.0</td>\n      <td>5.0</td>\n      <td>0</td>\n      <td>1</td>\n      <td>20170202-71MZdcEB-DF-3__R7F2_RN1RP2_^_20170202...</td>\n    </tr>\n    <tr>\n      <th>22585</th>\n      <td>20170202-71MZdcEB-DF-3__R7F2_RN1RP2</td>\n      <td>569.0</td>\n      <td>456.0</td>\n      <td>323.0</td>\n      <td>282.0</td>\n      <td>260.0</td>\n      <td>229.0</td>\n      <td>312.0</td>\n      <td>197.0</td>\n      <td>206.0</td>\n      <td>...</td>\n      <td>3.0</td>\n      <td>3.0</td>\n      <td>7.0</td>\n      <td>11.0</td>\n      <td>3.0</td>\n      <td>3.0</td>\n      <td>4.0</td>\n      <td>0</td>\n      <td>1</td>\n      <td>20170202-71MZdcEB-DF-3__R7F2_RN1RP2_^_20170202...</td>\n    </tr>\n    <tr>\n      <th>22586</th>\n      <td>20170202-71MZdcEB-DF-3__R7F3_RN1RP3</td>\n      <td>517.0</td>\n      <td>402.0</td>\n      <td>238.0</td>\n      <td>213.0</td>\n      <td>205.0</td>\n      <td>250.0</td>\n      <td>339.0</td>\n      <td>211.0</td>\n      <td>214.0</td>\n      <td>...</td>\n      <td>3.0</td>\n      <td>4.0</td>\n      <td>11.0</td>\n      <td>8.0</td>\n      <td>1.0</td>\n      <td>3.0</td>\n      <td>5.0</td>\n      <td>0</td>\n      <td>1</td>\n      <td>20170202-71MZdcEB-DF-3__R7F3_RN1RP3_^_20170202...</td>\n    </tr>\n    <tr>\n      <th>22587</th>\n      <td>20170202-71MZdcEB-DF-3__R7F3_RN1RP3</td>\n      <td>517.0</td>\n      <td>402.0</td>\n      <td>238.0</td>\n      <td>213.0</td>\n      <td>205.0</td>\n      <td>250.0</td>\n      <td>339.0</td>\n      <td>211.0</td>\n      <td>214.0</td>\n      <td>...</td>\n      <td>1.0</td>\n      <td>3.0</td>\n      <td>7.0</td>\n      <td>6.0</td>\n      <td>2.0</td>\n      <td>0.0</td>\n      <td>5.0</td>\n      <td>0</td>\n      <td>1</td>\n      <td>20170202-71MZdcEB-DF-3__R7F3_RN1RP3_^_20170202...</td>\n    </tr>\n  </tbody>\n</table>\n<p>22588 rows × 16006 columns</p>\n</div>"
     },
     "metadata": {},
     "execution_count": 3
    }
   ],
   "source": [
    "df_withLabels"
   ]
  },
  {
   "cell_type": "code",
   "execution_count": 4,
   "metadata": {},
   "outputs": [],
   "source": [
    "# X - data without labels\n",
    "# y - only labels\n",
    "X = df_withLabels.drop(['l_sampleName', 'r_sampleName', 'c_sampleName', 'sibling'], axis = 1)\n",
    "y = df_withLabels[\"sibling\"].copy()"
   ]
  },
  {
   "cell_type": "code",
   "execution_count": 11,
   "metadata": {
    "tags": []
   },
   "outputs": [
    {
     "output_type": "stream",
     "name": "stderr",
     "text": "[Parallel(n_jobs=-1)]: Using backend LokyBackend with 12 concurrent workers.\n[Parallel(n_jobs=-1)]: Done   3 out of   3 | elapsed: 16.8min finished\n"
    }
   ],
   "source": [
    "kneigh = KNeighborsClassifier()\n",
    "pred_kneigh = cross_val_predict(kneigh, X, y, verbose=1, cv=3, n_jobs=-1)"
   ]
  },
  {
   "cell_type": "code",
   "execution_count": 13,
   "metadata": {
    "tags": []
   },
   "outputs": [
    {
     "output_type": "stream",
     "name": "stdout",
     "text": "precision    recall  f1-score   support\n\n           0       0.64      0.84      0.72     12000\n           1       0.71      0.46      0.56     10588\n\n    accuracy                           0.66     22588\n   macro avg       0.67      0.65      0.64     22588\nweighted avg       0.67      0.66      0.64     22588\n\n"
    }
   ],
   "source": [
    "print(classification_report(y, pred_kneigh))"
   ]
  },
  {
   "cell_type": "code",
   "execution_count": null,
   "metadata": {},
   "outputs": [],
   "source": [
    "kneigh2_scd = make_pipeline(MinMaxScaler(),\n",
    "                            KNeighborsClassifier(n_jobs=-1))\n",
    "score_kn2_scd = cross_val_score(kneigh2_scd, X, y, cv=3, n_jobs=-1)\n",
    "print('KNeighbors Coompleted')"
   ]
  },
  {
   "cell_type": "code",
   "execution_count": 9,
   "metadata": {},
   "outputs": [],
   "source": [
    "kneigh2_scd = make_pipeline(MinMaxScaler(),\n",
    "                            KNeighborsClassifier(n_neighbors=2, n_jobs=-1))\n",
    "\n",
    "lreg_scd = make_pipeline(MinMaxScaler(),\n",
    "                         LogisticRegression(max_iter=300,\n",
    "                                            multi_class='ovr',\n",
    "                                            solver='liblinear'))\n",
    "\n",
    "nn_scd = make_pipeline(MinMaxScaler(),\n",
    "                            MLPClassifier(alpha=1,\n",
    "                                          max_iter=1000,\n",
    "                                          solver='lbfgs'))\n",
    "\n",
    "treeClf = DecisionTreeClassifier(criterion='entropy')\n",
    "treeClf_scd = make_pipeline(MinMaxScaler(), DecisionTreeClassifier(criterion='entropy'))\n",
    "\n",
    "svc_scd = make_pipeline(MinMaxScaler(),\n",
    "                        SVC(kernel='linear', decision_function_shape='ovr'))\n",
    "\n",
    "# ###########################\n",
    "\n",
    "score_kn2_scd = cross_val_score(kneigh2_scd, X, y, cv=5, n_jobs=-1)\n",
    "print('KNeighbors Coompleted')\n",
    "\n",
    "score_lr_scd = cross_val_score(lreg_scd, X, y, cv=5, n_jobs=-1)\n",
    "print('Linear Regression Completed')\n",
    "\n",
    "score_nn_scd = cross_val_score(nn_scd, X, y, cv=5, n_jobs=-1)\n",
    "print('NN Completed')\n",
    "\n",
    "score_treeClf = cross_val_score(treeClf, X, y, cv=5, n_jobs=-1)\n",
    "score_treeClf_scd = cross_val_score(treeClf_scd, X, y, cv=5, n_jobs=-1)\n",
    "print('TreeCLF Completed')\n",
    "\n",
    "score_svc_scd = cross_val_score(svc_scd, X, y, cv=5, n_jobs=-1)\n",
    "print('Support Vector Machine Completed')"
   ]
  },
  {
   "cell_type": "code",
   "execution_count": null,
   "metadata": {},
   "outputs": [],
   "source": [
    "score_dict = {\n",
    "    'KN-2-Scaled': score_kn2_scd,\n",
    "    'LR-Scaled': score_lr_scd,\n",
    "    'NN-MLP-Scaled': score_nn_scd,\n",
    "    'TC-NS': score_treeClf,\n",
    "    'TC-Scaled': score_treeClf_scd,\n",
    "    'SVM-Scaled': score_svc_scd,\n",
    "}"
   ]
  },
  {
   "cell_type": "code",
   "execution_count": null,
   "metadata": {},
   "outputs": [],
   "source": [
    "score_dict_df = pd.DataFrame(score_dict)"
   ]
  },
  {
   "cell_type": "code",
   "execution_count": null,
   "metadata": {},
   "outputs": [],
   "source": [
    "score_dict_df.plot(kind='box', figsize=(25, 15),\n",
    "                   title=\"Model Accuracy Scores for Naive Library Classification - Trimers\")\n",
    "plt.savefig('trimer-pairwise-scores-august-7.png', bbox_inches='tight', format='png')"
   ]
  },
  {
   "cell_type": "code",
   "execution_count": null,
   "metadata": {},
   "outputs": [],
   "source": [
    "kneigh2_scd = make_pipeline(MinMaxScaler(),\n",
    "                            KNeighborsClassifier(n_neighbors=2, n_jobs=-1))\n",
    "\n",
    "lreg_scd = make_pipeline(MinMaxScaler(),\n",
    "                         LogisticRegression(max_iter=300,\n",
    "                                            multi_class='ovr',\n",
    "                                            solver='liblinear'))\n",
    "\n",
    "nn_scd = make_pipeline(MinMaxScaler(),\n",
    "                            MLPClassifier(alpha=1,\n",
    "                                          max_iter=1000, \n",
    "                                          solver='lbfgs'))\n",
    "\n",
    "treeClf = DecisionTreeClassifier(criterion='entropy')\n",
    "treeClf_scd = make_pipeline(MinMaxScaler(), DecisionTreeClassifier(criterion='entropy'))\n",
    "\n",
    "svc_scd = make_pipeline(MinMaxScaler(),\n",
    "                        SVC(kernel='linear', decision_function_shape='ovr'))\n",
    "\n",
    "# ###########################\n",
    "\n",
    "pred_kn2_scd = cross_val_predict(kneigh2_scd, X, y, cv=5, n_jobs=-1)\n",
    "print('KNeighbors Coompleted')\n",
    "\n",
    "pred_lr_scd = cross_val_predict(lreg_scd, X, y, cv=5, n_jobs=-1)\n",
    "print('Linear Regression Completed')\n",
    "\n",
    "pred_nn_scd = cross_val_predict(nn_scd, X, y, cv=5, n_jobs=-1)\n",
    "print('NN Completed')\n",
    "\n",
    "pred_treeClf = cross_val_predict(treeClf, X, y, cv=5, n_jobs=-1)\n",
    "pred_treeClf_scd = cross_val_predict(treeClf_scd, X, y, cv=5, n_jobs=-1)\n",
    "print('TreeCLF Completed')\n",
    "\n",
    "pred_svc_scd = cross_val_predict(svc_scd, X, y, cv=5, n_jobs=-1)\n",
    "print('Support Vector Machine Completed')"
   ]
  },
  {
   "cell_type": "code",
   "execution_count": 14,
   "metadata": {
    "tags": []
   },
   "outputs": [
    {
     "output_type": "stream",
     "name": "stdout",
     "text": "Linear Regression Completed\n"
    }
   ],
   "source": [
    "lreg_scd = make_pipeline(MinMaxScaler(),\n",
    "                         LogisticRegression(max_iter=300,\n",
    "                                            multi_class='ovr',\n",
    "                                            solver='liblinear'))\n",
    "\n",
    "pred_lr_scd = cross_val_predict(lreg_scd, X, y, cv=3, n_jobs=-1)\n",
    "print('Linear Regression Completed')"
   ]
  },
  {
   "cell_type": "code",
   "execution_count": 16,
   "metadata": {
    "tags": []
   },
   "outputs": [
    {
     "output_type": "stream",
     "name": "stdout",
     "text": "precision    recall  f1-score   support\n\n           0       0.47      0.70      0.56     12000\n           1       0.23      0.10      0.14     10588\n\n    accuracy                           0.42     22588\n   macro avg       0.35      0.40      0.35     22588\nweighted avg       0.36      0.42      0.36     22588\n\n"
    }
   ],
   "source": [
    "print(classification_report(y, pred_lr_scd))"
   ]
  },
  {
   "cell_type": "code",
   "execution_count": null,
   "metadata": {},
   "outputs": [],
   "source": []
  }
 ]
}