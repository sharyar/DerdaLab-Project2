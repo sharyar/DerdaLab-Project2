{
 "cells": [
  {
   "cell_type": "markdown",
   "metadata": {},
   "source": [
    "# Test ML Models for Pairwise Classification"
   ]
  },
  {
   "cell_type": "markdown",
   "metadata": {},
   "source": [
    "### Imports"
   ]
  },
  {
   "cell_type": "code",
   "execution_count": 1,
   "metadata": {
    "vscode": {
     "end_execution_time": "2020-08-13T19:35:30.322Z",
     "start_execution_time": "2020-08-13T19:35:29.811Z"
    }
   },
   "outputs": [],
   "source": [
    "import pandas as pd\n",
    "from sklearn.svm import LinearSVC\n",
    "from sklearn.naive_bayes import GaussianNB\n",
    "from sklearn.discriminant_analysis import LinearDiscriminantAnalysis\n",
    "from sklearn.tree import DecisionTreeClassifier\n",
    "from sklearn.linear_model import LogisticRegression\n",
    "from sklearn.neighbors import KNeighborsClassifier\n",
    "from sklearn.pipeline import make_pipeline\n",
    "from sklearn.preprocessing import MinMaxScaler\n",
    "from sklearn.model_selection import cross_val_predict\n",
    "from sklearn.model_selection import cross_val_score\n",
    "import matplotlib.pyplot as plt\n",
    "\n",
    "import numpy as np\n",
    "from sklearn.model_selection import train_test_split\n",
    "\n",
    "from sklearn.ensemble import RandomForestClassifier, AdaBoostClassifier, GradientBoostingClassifier\n",
    "\n",
    "from sklearn.model_selection import StratifiedShuffleSplit\n",
    "\n",
    "from sklearn.preprocessing import StandardScaler\n",
    "from sklearn.pipeline import Pipeline, FeatureUnion\n",
    "from sklearn.model_selection import GridSearchCV\n",
    "from sklearn.model_selection import RandomizedSearchCV\n",
    "\n",
    "from sklearn.neural_network import MLPClassifier\n",
    "\n",
    "import seaborn as sns\n",
    "from sklearn.metrics import classification_report\n",
    "sns.set(style=\"darkgrid\")\n",
    "\n",
    "import time\n",
    "import pickle"
   ]
  },
  {
   "cell_type": "code",
   "execution_count": 2,
   "metadata": {},
   "outputs": [],
   "source": [
    "# df_withLabels = pd.read_csv('../03_SourceFiles/03_ProcessedFiles/trimer-pair-wise-df.csv',\n",
    "#                             engine='c',\n",
    "#                             index_col=0,\n",
    "#                             low_memory=False)"
   ]
  },
  {
   "cell_type": "code",
   "execution_count": 2,
   "metadata": {
    "vscode": {
     "end_execution_time": "2020-08-13T19:24:58.943Z",
     "start_execution_time": "2020-08-13T19:24:29.176Z"
    }
   },
   "outputs": [],
   "source": [
    "df_train = pd.read_csv('../03_SourceFiles/03_ProcessedFiles/trimer-pair-wise-train-df.csv',\n",
    "                            engine='c',\n",
    "                            index_col=0,\n",
    "                            low_memory=False)"
   ]
  },
  {
   "cell_type": "code",
   "execution_count": 4,
   "metadata": {},
   "outputs": [],
   "source": [
    "df_test = pd.read_csv('../03_SourceFiles/03_ProcessedFiles/trimer-pair-wise-test-df.csv',\n",
    "                            engine='c',\n",
    "                            index_col=0,\n",
    "                            low_memory=False)"
   ]
  },
  {
   "cell_type": "code",
   "execution_count": null,
   "metadata": {},
   "outputs": [],
   "source": [
    "df_trai"
   ]
  },
  {
   "cell_type": "code",
   "execution_count": 18,
   "metadata": {},
   "outputs": [],
   "source": [
    "df_test = df_test.sample(frac=1).reset_index(drop=True)\n",
    "df_train = df_train.sample(frac=1).reset_index(drop=True)"
   ]
  },
  {
   "cell_type": "code",
   "execution_count": 19,
   "metadata": {},
   "outputs": [],
   "source": [
    "X_train = df_train.drop(['l_sampleName', 'r_sampleName', 'c_sampleName', 'sibling'], axis = 1)\n",
    "y_train = df_train['sibling'].copy()\n",
    "X_test = df_test.drop(['l_sampleName', 'r_sampleName', 'c_sampleName', 'sibling'], axis = 1)\n",
    "y_test = df_test['sibling'].copy()"
   ]
  },
  {
   "cell_type": "code",
   "execution_count": 3,
   "metadata": {},
   "outputs": [],
   "source": [
    "# X - data without labels\n",
    "# y - only labels\n",
    "# X = df_withLabels.drop(['l_sampleName', 'r_sampleName', 'c_sampleName', 'sibling'], axis = 1)\n",
    "# y = df_withLabels[\"sibling\"].copy()"
   ]
  },
  {
   "cell_type": "code",
   "execution_count": 4,
   "metadata": {},
   "outputs": [],
   "source": [
    "# X_train, X_test, y_train, y_test = train_test_split(X, y, test_size = 0.2, random_state=42)"
   ]
  },
  {
   "cell_type": "code",
   "execution_count": 20,
   "metadata": {},
   "outputs": [],
   "source": [
    "X_train = X_train.values\n",
    "X_test = X_test.values\n",
    "y_train = y_train.values\n",
    "y_test = y_test.values"
   ]
  },
  {
   "cell_type": "code",
   "execution_count": 21,
   "metadata": {},
   "outputs": [],
   "source": [
    "# Scaling the data:\n",
    "if (input('Scaled the data? y/n').lower() == 'y'):\n",
    "    feature_scaler = StandardScaler()\n",
    "    X_train = feature_scaler.fit_transform(X_train)\n",
    "    X_test = feature_scaler.transform(X_test)"
   ]
  },
  {
   "cell_type": "code",
   "execution_count": 7,
   "metadata": {},
   "outputs": [],
   "source": [
    "def runMLTests(pred_score_choice, cv_value, data_type, seed):\n",
    "    clf_scores_dict = {}\n",
    "    clf_pred_dict = {}\n",
    "    models_to_test = [\n",
    "        'KNC',\n",
    "        'LinearSVC',\n",
    "        'RFC',\n",
    "        'logisticRegression',\n",
    "        'ABC',\n",
    "        'GBC'\n",
    "    ]\n",
    "    clfs = [\n",
    "        KNeighborsClassifier(n_jobs=-1),\n",
    "        LinearSVC(random_state=seed),\n",
    "        RandomForestClassifier(random_state=seed, n_jobs=-1),\n",
    "        LogisticRegression(solver='saga'),\n",
    "        AdaBoostClassifier(random_state=seed),\n",
    "        GradientBoostingClassifier(random_state=seed)\n",
    "    ]\n",
    "    if pred_score_choice == 's':\n",
    "        for name, estimator in zip(models_to_test, clfs):\n",
    "            time_start = time.time()\n",
    "            print(name)\n",
    "            clf_score = cross_val_score(estimator, X_train, y_train, cv=cv_value, n_jobs=-1)\n",
    "            print(clf_score)\n",
    "            print('** Time to complete: ', (time.time() - time_start), 'seconds')\n",
    "            clf_scores_dict[name] = clf_score\n",
    "        return clf_scores_dict\n",
    "    \n",
    "    elif pred_score_choice == 'p':\n",
    "        for name, estimator in zip(models_to_test, clfs):\n",
    "            time_start = time.time()\n",
    "            print(name)\n",
    "            clf_pred = cross_val_predict(estimator, X_train, y_train, cv=cv_value, n_jobs=-1)\n",
    "            print(classification_report(y_train, clf_pred))\n",
    "            clf_pred_dict[name] = clf_pred\n",
    "            print('** Time to complete: ', (time.time() - time_start), 'seconds')\n",
    "        return clf_pred_dict"
   ]
  },
  {
   "cell_type": "code",
   "execution_count": 8,
   "metadata": {
    "tags": []
   },
   "outputs": [
    {
     "name": "stdout",
     "output_type": "stream",
     "text": [
      "KNC\n",
      "[0.79828445 0.81433315 0.81571666 0.81156613 0.80188157]\n",
      "** Time to complete:  661.7438735961914 seconds\n",
      "LinearSVC\n",
      "[0.54261206 0.55035971 0.54510238 0.5481461  0.54510238]\n",
      "** Time to complete:  646.2524893283844 seconds\n",
      "RFC\n",
      "[0.89457665 0.89097952 0.89457665 0.89679026 0.89817377]\n",
      "** Time to complete:  41.72453331947327 seconds\n",
      "logisticRegression\n",
      "[0.63004981 0.64831212 0.65218594 0.66353071 0.64333149]\n",
      "** Time to complete:  180.57966494560242 seconds\n",
      "ABC\n",
      "[0.64969563 0.64969563 0.6449917  0.65938019 0.63945766]\n",
      "** Time to complete:  408.5825307369232 seconds\n",
      "GBC\n",
      "[0.89540675 0.88987272 0.88516879 0.89817377 0.89402324]\n",
      "** Time to complete:  2119.773077249527 seconds\n"
     ]
    }
   ],
   "source": [
    "trimer_scores = runMLTests('s', 5, 'trimers', 42)"
   ]
  },
  {
   "cell_type": "code",
   "execution_count": 9,
   "metadata": {
    "tags": []
   },
   "outputs": [
    {
     "name": "stdout",
     "output_type": "stream",
     "text": [
      "KNC\n",
      "              precision    recall  f1-score   support\n",
      "\n",
      "           0       0.82      0.82      0.82      9581\n",
      "           1       0.80      0.80      0.80      8489\n",
      "\n",
      "    accuracy                           0.81     18070\n",
      "   macro avg       0.81      0.81      0.81     18070\n",
      "weighted avg       0.81      0.81      0.81     18070\n",
      "\n",
      "** Time to complete:  639.9797956943512 seconds\n",
      "LinearSVC\n",
      "              precision    recall  f1-score   support\n",
      "\n",
      "           0       0.57      0.58      0.58      9581\n",
      "           1       0.52      0.50      0.51      8489\n",
      "\n",
      "    accuracy                           0.55     18070\n",
      "   macro avg       0.54      0.54      0.54     18070\n",
      "weighted avg       0.55      0.55      0.55     18070\n",
      "\n",
      "** Time to complete:  646.9150731563568 seconds\n",
      "RFC\n",
      "              precision    recall  f1-score   support\n",
      "\n",
      "           0       0.91      0.89      0.90      9581\n",
      "           1       0.88      0.90      0.89      8489\n",
      "\n",
      "    accuracy                           0.90     18070\n",
      "   macro avg       0.89      0.90      0.89     18070\n",
      "weighted avg       0.90      0.90      0.90     18070\n",
      "\n",
      "** Time to complete:  41.96976447105408 seconds\n",
      "logisticRegression\n",
      "              precision    recall  f1-score   support\n",
      "\n",
      "           0       0.63      0.79      0.70      9581\n",
      "           1       0.67      0.48      0.56      8489\n",
      "\n",
      "    accuracy                           0.65     18070\n",
      "   macro avg       0.65      0.64      0.63     18070\n",
      "weighted avg       0.65      0.65      0.64     18070\n",
      "\n",
      "** Time to complete:  180.84033274650574 seconds\n",
      "ABC\n",
      "              precision    recall  f1-score   support\n",
      "\n",
      "           0       0.65      0.74      0.69      9581\n",
      "           1       0.65      0.55      0.59      8489\n",
      "\n",
      "    accuracy                           0.65     18070\n",
      "   macro avg       0.65      0.64      0.64     18070\n",
      "weighted avg       0.65      0.65      0.65     18070\n",
      "\n",
      "** Time to complete:  410.7172796726227 seconds\n",
      "GBC\n",
      "              precision    recall  f1-score   support\n",
      "\n",
      "           0       0.94      0.85      0.89      9581\n",
      "           1       0.85      0.94      0.89      8489\n",
      "\n",
      "    accuracy                           0.89     18070\n",
      "   macro avg       0.89      0.90      0.89     18070\n",
      "weighted avg       0.90      0.89      0.89     18070\n",
      "\n",
      "** Time to complete:  2117.492854118347 seconds\n"
     ]
    }
   ],
   "source": [
    "trimer_predictions = runMLTests('p', 5, 'trimers', 42)\n",
    "trimer_predictions['GroundTruth'] = y_train"
   ]
  },
  {
   "cell_type": "code",
   "execution_count": 10,
   "metadata": {},
   "outputs": [],
   "source": [
    "df_scores = pd.DataFrame(trimer_scores)\n",
    "df_scores.to_csv('score-trimers-pairwise-august-9.csv')\n",
    "df_predictions = pd.DataFrame(trimer_predictions)\n",
    "df_predictions.to_csv('pred-trimers-pairwise-august-9.csv')"
   ]
  },
  {
   "cell_type": "code",
   "execution_count": 11,
   "metadata": {
    "tags": []
   },
   "outputs": [
    {
     "name": "stdout",
     "output_type": "stream",
     "text": [
      "precision    recall  f1-score   support\n",
      "\n",
      "           0       0.91      0.88      0.90      2419\n",
      "           1       0.87      0.90      0.88      2099\n",
      "\n",
      "    accuracy                           0.89      4518\n",
      "   macro avg       0.89      0.89      0.89      4518\n",
      "weighted avg       0.89      0.89      0.89      4518\n",
      "\n"
     ]
    }
   ],
   "source": [
    "rfc = RandomForestClassifier(random_state=42, n_jobs=-1)\n",
    "rfc.fit(X_train, y_train)\n",
    "rfc_test_pred = rfc.predict(X_test)\n",
    "print(classification_report(y_test, rfc_test_pred))"
   ]
  },
  {
   "cell_type": "code",
   "execution_count": 14,
   "metadata": {},
   "outputs": [
    {
     "data": {
      "image/png": "[encoded data removed]",
      "image/svg+xml": "<?xml version=\"1.0\" encoding=\"utf-8\" standalone=\"no\"?>\n<!DOCTYPE svg PUBLIC \"-//W3C//DTD SVG 1.1//EN\"\n  \"http://www.w3.org/Graphics/SVG/1.1/DTD/svg11.dtd\">\n<!-- Created with matplotlib (https://matplotlib.org/) -->\n<svg height=\"592.424375pt\" version=\"1.1\" viewBox=\"0 0 882.307031 592.424375\" width=\"882.307031pt\" xmlns=\"http://www.w3.org/2000/svg\" xmlns:xlink=\"http://www.w3.org/1999/xlink\">\n <defs>\n  <style type=\"text/css\">\n*{stroke-linecap:butt;stroke-linejoin:round;}\n  </style>\n </defs>\n <g id=\"figure_1\">\n  <g id=\"patch_1\">\n   <path d=\"M 0 592.424375 \nL 882.307031 592.424375 \nL 882.307031 0 \nL 0 0 \nz\n\" style=\"fill:#ffffff;\"/>\n  </g>\n  <g id=\"axes_1\">\n   <g id=\"patch_2\">\n    <path d=\"M 38.107031 565.535625 \nL 875.107031 565.535625 \nL 875.107031 21.935625 \nL 38.107031 21.935625 \nz\n\" style=\"fill:#eaeaf2;\"/>\n   </g>\n   <g id=\"matplotlib.axis_1\">\n    <g id=\"xtick_1\">\n     <g id=\"line2d_1\">\n      <path clip-path=\"url(#pcea587c2e8)\" d=\"M 107.857031 565.535625 \nL 107.857031 21.935625 \n\" style=\"fill:none;stroke:#ffffff;stroke-linecap:round;\"/>\n     </g>\n     <g id=\"text_1\">\n      <!-- KNC -->\n      <defs>\n       <path d=\"M 7.328125 0 \nL 7.328125 71.578125 \nL 16.796875 71.578125 \nL 16.796875 36.078125 \nL 52.34375 71.578125 \nL 65.1875 71.578125 \nL 35.15625 42.578125 \nL 66.5 0 \nL 54 0 \nL 28.515625 36.234375 \nL 16.796875 24.8125 \nL 16.796875 0 \nz\n\" id=\"ArialMT-75\"/>\n       <path d=\"M 7.625 0 \nL 7.625 71.578125 \nL 17.328125 71.578125 \nL 54.9375 15.375 \nL 54.9375 71.578125 \nL 64.015625 71.578125 \nL 64.015625 0 \nL 54.296875 0 \nL 16.703125 56.25 \nL 16.703125 0 \nz\n\" id=\"ArialMT-78\"/>\n       <path d=\"M 58.796875 25.09375 \nL 68.265625 22.703125 \nQ 65.28125 11.03125 57.546875 4.90625 \nQ 49.8125 -1.21875 38.625 -1.21875 \nQ 27.046875 -1.21875 19.796875 3.484375 \nQ 12.546875 8.203125 8.765625 17.140625 \nQ 4.984375 26.078125 4.984375 36.328125 \nQ 4.984375 47.515625 9.25 55.828125 \nQ 13.53125 64.15625 21.40625 68.46875 \nQ 29.296875 72.796875 38.765625 72.796875 \nQ 49.515625 72.796875 56.828125 67.328125 \nQ 64.15625 61.859375 67.046875 51.953125 \nL 57.71875 49.75 \nQ 55.21875 57.5625 50.484375 61.125 \nQ 45.75 64.703125 38.578125 64.703125 \nQ 30.328125 64.703125 24.78125 60.734375 \nQ 19.234375 56.78125 16.984375 50.109375 \nQ 14.75 43.453125 14.75 36.375 \nQ 14.75 27.25 17.40625 20.4375 \nQ 20.0625 13.625 25.671875 10.25 \nQ 31.296875 6.890625 37.84375 6.890625 \nQ 45.796875 6.890625 51.3125 11.46875 \nQ 56.84375 16.0625 58.796875 25.09375 \nz\n\" id=\"ArialMT-67\"/>\n      </defs>\n      <g style=\"fill:#262626;\" transform=\"translate(96.244297 582.909219)scale(0.11 -0.11)\">\n       <use xlink:href=\"#ArialMT-75\"/>\n       <use x=\"66.699219\" xlink:href=\"#ArialMT-78\"/>\n       <use x=\"138.916016\" xlink:href=\"#ArialMT-67\"/>\n      </g>\n     </g>\n    </g>\n    <g id=\"xtick_2\">\n     <g id=\"line2d_2\">\n      <path clip-path=\"url(#pcea587c2e8)\" d=\"M 247.357031 565.535625 \nL 247.357031 21.935625 \n\" style=\"fill:none;stroke:#ffffff;stroke-linecap:round;\"/>\n     </g>\n     <g id=\"text_2\">\n      <!-- LinearSVC -->\n      <defs>\n       <path d=\"M 7.328125 0 \nL 7.328125 71.578125 \nL 16.796875 71.578125 \nL 16.796875 8.453125 \nL 52.046875 8.453125 \nL 52.046875 0 \nz\n\" id=\"ArialMT-76\"/>\n       <path d=\"M 6.640625 61.46875 \nL 6.640625 71.578125 \nL 15.4375 71.578125 \nL 15.4375 61.46875 \nz\nM 6.640625 0 \nL 6.640625 51.859375 \nL 15.4375 51.859375 \nL 15.4375 0 \nz\n\" id=\"ArialMT-105\"/>\n       <path d=\"M 6.59375 0 \nL 6.59375 51.859375 \nL 14.5 51.859375 \nL 14.5 44.484375 \nQ 20.21875 53.03125 31 53.03125 \nQ 35.6875 53.03125 39.625 51.34375 \nQ 43.5625 49.65625 45.515625 46.921875 \nQ 47.46875 44.1875 48.25 40.4375 \nQ 48.734375 37.984375 48.734375 31.890625 \nL 48.734375 0 \nL 39.9375 0 \nL 39.9375 31.546875 \nQ 39.9375 36.921875 38.90625 39.578125 \nQ 37.890625 42.234375 35.28125 43.8125 \nQ 32.671875 45.40625 29.15625 45.40625 \nQ 23.53125 45.40625 19.453125 41.84375 \nQ 15.375 38.28125 15.375 28.328125 \nL 15.375 0 \nz\n\" id=\"ArialMT-110\"/>\n       <path d=\"M 42.09375 16.703125 \nL 51.171875 15.578125 \nQ 49.03125 7.625 43.21875 3.21875 \nQ 37.40625 -1.171875 28.375 -1.171875 \nQ 17 -1.171875 10.328125 5.828125 \nQ 3.65625 12.84375 3.65625 25.484375 \nQ 3.65625 38.578125 10.390625 45.796875 \nQ 17.140625 53.03125 27.875 53.03125 \nQ 38.28125 53.03125 44.875 45.953125 \nQ 51.46875 38.875 51.46875 26.03125 \nQ 51.46875 25.25 51.421875 23.6875 \nL 12.75 23.6875 \nQ 13.234375 15.140625 17.578125 10.59375 \nQ 21.921875 6.0625 28.421875 6.0625 \nQ 33.25 6.0625 36.671875 8.59375 \nQ 40.09375 11.140625 42.09375 16.703125 \nz\nM 13.234375 30.90625 \nL 42.1875 30.90625 \nQ 41.609375 37.453125 38.875 40.71875 \nQ 34.671875 45.796875 27.984375 45.796875 \nQ 21.921875 45.796875 17.796875 41.75 \nQ 13.671875 37.703125 13.234375 30.90625 \nz\n\" id=\"ArialMT-101\"/>\n       <path d=\"M 40.4375 6.390625 \nQ 35.546875 2.25 31.03125 0.53125 \nQ 26.515625 -1.171875 21.34375 -1.171875 \nQ 12.796875 -1.171875 8.203125 3 \nQ 3.609375 7.171875 3.609375 13.671875 \nQ 3.609375 17.484375 5.34375 20.625 \nQ 7.078125 23.78125 9.890625 25.6875 \nQ 12.703125 27.59375 16.21875 28.5625 \nQ 18.796875 29.25 24.03125 29.890625 \nQ 34.671875 31.15625 39.703125 32.90625 \nQ 39.75 34.71875 39.75 35.203125 \nQ 39.75 40.578125 37.25 42.78125 \nQ 33.890625 45.75 27.25 45.75 \nQ 21.046875 45.75 18.09375 43.578125 \nQ 15.140625 41.40625 13.71875 35.890625 \nL 5.125 37.0625 \nQ 6.296875 42.578125 8.984375 45.96875 \nQ 11.671875 49.359375 16.75 51.1875 \nQ 21.828125 53.03125 28.515625 53.03125 \nQ 35.15625 53.03125 39.296875 51.46875 \nQ 43.453125 49.90625 45.40625 47.53125 \nQ 47.359375 45.171875 48.140625 41.546875 \nQ 48.578125 39.3125 48.578125 33.453125 \nL 48.578125 21.734375 \nQ 48.578125 9.46875 49.140625 6.21875 \nQ 49.703125 2.984375 51.375 0 \nL 42.1875 0 \nQ 40.828125 2.734375 40.4375 6.390625 \nz\nM 39.703125 26.03125 \nQ 34.90625 24.078125 25.34375 22.703125 \nQ 19.921875 21.921875 17.671875 20.9375 \nQ 15.4375 19.96875 14.203125 18.09375 \nQ 12.984375 16.21875 12.984375 13.921875 \nQ 12.984375 10.40625 15.640625 8.0625 \nQ 18.3125 5.71875 23.4375 5.71875 \nQ 28.515625 5.71875 32.46875 7.9375 \nQ 36.421875 10.15625 38.28125 14.015625 \nQ 39.703125 17 39.703125 22.796875 \nz\n\" id=\"ArialMT-97\"/>\n       <path d=\"M 6.5 0 \nL 6.5 51.859375 \nL 14.40625 51.859375 \nL 14.40625 44 \nQ 17.4375 49.515625 20 51.265625 \nQ 22.5625 53.03125 25.640625 53.03125 \nQ 30.078125 53.03125 34.671875 50.203125 \nL 31.640625 42.046875 \nQ 28.421875 43.953125 25.203125 43.953125 \nQ 22.3125 43.953125 20.015625 42.21875 \nQ 17.71875 40.484375 16.75 37.40625 \nQ 15.28125 32.71875 15.28125 27.15625 \nL 15.28125 0 \nz\n\" id=\"ArialMT-114\"/>\n       <path d=\"M 4.5 23 \nL 13.421875 23.78125 \nQ 14.0625 18.40625 16.375 14.96875 \nQ 18.703125 11.53125 23.578125 9.40625 \nQ 28.46875 7.28125 34.578125 7.28125 \nQ 39.984375 7.28125 44.140625 8.890625 \nQ 48.296875 10.5 50.3125 13.296875 \nQ 52.34375 16.109375 52.34375 19.4375 \nQ 52.34375 22.796875 50.390625 25.3125 \nQ 48.4375 27.828125 43.953125 29.546875 \nQ 41.0625 30.671875 31.203125 33.03125 \nQ 21.34375 35.40625 17.390625 37.5 \nQ 12.25 40.1875 9.734375 44.15625 \nQ 7.234375 48.140625 7.234375 53.078125 \nQ 7.234375 58.5 10.296875 63.203125 \nQ 13.375 67.921875 19.28125 70.359375 \nQ 25.203125 72.796875 32.421875 72.796875 \nQ 40.375 72.796875 46.453125 70.234375 \nQ 52.546875 67.671875 55.8125 62.6875 \nQ 59.078125 57.71875 59.328125 51.421875 \nL 50.25 50.734375 \nQ 49.515625 57.515625 45.28125 60.984375 \nQ 41.0625 64.453125 32.8125 64.453125 \nQ 24.21875 64.453125 20.28125 61.296875 \nQ 16.359375 58.15625 16.359375 53.71875 \nQ 16.359375 49.859375 19.140625 47.359375 \nQ 21.875 44.875 33.421875 42.265625 \nQ 44.96875 39.65625 49.265625 37.703125 \nQ 55.515625 34.8125 58.484375 30.390625 \nQ 61.46875 25.984375 61.46875 20.21875 \nQ 61.46875 14.5 58.203125 9.4375 \nQ 54.9375 4.390625 48.796875 1.578125 \nQ 42.671875 -1.21875 35.015625 -1.21875 \nQ 25.296875 -1.21875 18.71875 1.609375 \nQ 12.15625 4.4375 8.421875 10.125 \nQ 4.6875 15.828125 4.5 23 \nz\n\" id=\"ArialMT-83\"/>\n       <path d=\"M 28.171875 0 \nL 0.4375 71.578125 \nL 10.6875 71.578125 \nL 29.296875 19.578125 \nQ 31.546875 13.328125 33.0625 7.859375 \nQ 34.71875 13.71875 36.921875 19.578125 \nL 56.25 71.578125 \nL 65.921875 71.578125 \nL 37.890625 0 \nz\n\" id=\"ArialMT-86\"/>\n      </defs>\n      <g style=\"fill:#262626;\" transform=\"translate(220.760234 582.909219)scale(0.11 -0.11)\">\n       <use xlink:href=\"#ArialMT-76\"/>\n       <use x=\"55.615234\" xlink:href=\"#ArialMT-105\"/>\n       <use x=\"77.832031\" xlink:href=\"#ArialMT-110\"/>\n       <use x=\"133.447266\" xlink:href=\"#ArialMT-101\"/>\n       <use x=\"189.0625\" xlink:href=\"#ArialMT-97\"/>\n       <use x=\"244.677734\" xlink:href=\"#ArialMT-114\"/>\n       <use x=\"277.978516\" xlink:href=\"#ArialMT-83\"/>\n       <use x=\"344.677734\" xlink:href=\"#ArialMT-86\"/>\n       <use x=\"411.376953\" xlink:href=\"#ArialMT-67\"/>\n      </g>\n     </g>\n    </g>\n    <g id=\"xtick_3\">\n     <g id=\"line2d_3\">\n      <path clip-path=\"url(#pcea587c2e8)\" d=\"M 386.857031 565.535625 \nL 386.857031 21.935625 \n\" style=\"fill:none;stroke:#ffffff;stroke-linecap:round;\"/>\n     </g>\n     <g id=\"text_3\">\n      <!-- RFC -->\n      <defs>\n       <path d=\"M 7.859375 0 \nL 7.859375 71.578125 \nL 39.59375 71.578125 \nQ 49.171875 71.578125 54.140625 69.640625 \nQ 59.125 67.71875 62.109375 62.828125 \nQ 65.09375 57.953125 65.09375 52.046875 \nQ 65.09375 44.4375 60.15625 39.203125 \nQ 55.21875 33.984375 44.921875 32.5625 \nQ 48.6875 30.765625 50.640625 29 \nQ 54.78125 25.203125 58.5 19.484375 \nL 70.953125 0 \nL 59.03125 0 \nL 49.5625 14.890625 \nQ 45.40625 21.34375 42.71875 24.75 \nQ 40.046875 28.171875 37.921875 29.53125 \nQ 35.796875 30.90625 33.59375 31.453125 \nQ 31.984375 31.78125 28.328125 31.78125 \nL 17.328125 31.78125 \nL 17.328125 0 \nz\nM 17.328125 39.984375 \nL 37.703125 39.984375 \nQ 44.1875 39.984375 47.84375 41.328125 \nQ 51.515625 42.671875 53.421875 45.625 \nQ 55.328125 48.578125 55.328125 52.046875 \nQ 55.328125 57.125 51.640625 60.390625 \nQ 47.953125 63.671875 39.984375 63.671875 \nL 17.328125 63.671875 \nz\n\" id=\"ArialMT-82\"/>\n       <path d=\"M 8.203125 0 \nL 8.203125 71.578125 \nL 56.5 71.578125 \nL 56.5 63.140625 \nL 17.671875 63.140625 \nL 17.671875 40.96875 \nL 51.265625 40.96875 \nL 51.265625 32.515625 \nL 17.671875 32.515625 \nL 17.671875 0 \nz\n\" id=\"ArialMT-70\"/>\n      </defs>\n      <g style=\"fill:#262626;\" transform=\"translate(375.553672 582.909219)scale(0.11 -0.11)\">\n       <use xlink:href=\"#ArialMT-82\"/>\n       <use x=\"72.216797\" xlink:href=\"#ArialMT-70\"/>\n       <use x=\"133.300781\" xlink:href=\"#ArialMT-67\"/>\n      </g>\n     </g>\n    </g>\n    <g id=\"xtick_4\">\n     <g id=\"line2d_4\">\n      <path clip-path=\"url(#pcea587c2e8)\" d=\"M 526.357031 565.535625 \nL 526.357031 21.935625 \n\" style=\"fill:none;stroke:#ffffff;stroke-linecap:round;\"/>\n     </g>\n     <g id=\"text_4\">\n      <!-- logisticRegression -->\n      <defs>\n       <path d=\"M 6.390625 0 \nL 6.390625 71.578125 \nL 15.1875 71.578125 \nL 15.1875 0 \nz\n\" id=\"ArialMT-108\"/>\n       <path d=\"M 3.328125 25.921875 \nQ 3.328125 40.328125 11.328125 47.265625 \nQ 18.015625 53.03125 27.640625 53.03125 \nQ 38.328125 53.03125 45.109375 46.015625 \nQ 51.90625 39.015625 51.90625 26.65625 \nQ 51.90625 16.65625 48.90625 10.90625 \nQ 45.90625 5.171875 40.15625 2 \nQ 34.421875 -1.171875 27.640625 -1.171875 \nQ 16.75 -1.171875 10.03125 5.8125 \nQ 3.328125 12.796875 3.328125 25.921875 \nz\nM 12.359375 25.921875 \nQ 12.359375 15.96875 16.703125 11.015625 \nQ 21.046875 6.0625 27.640625 6.0625 \nQ 34.1875 6.0625 38.53125 11.03125 \nQ 42.875 16.015625 42.875 26.21875 \nQ 42.875 35.84375 38.5 40.796875 \nQ 34.125 45.75 27.640625 45.75 \nQ 21.046875 45.75 16.703125 40.8125 \nQ 12.359375 35.890625 12.359375 25.921875 \nz\n\" id=\"ArialMT-111\"/>\n       <path d=\"M 4.984375 -4.296875 \nL 13.53125 -5.5625 \nQ 14.0625 -9.515625 16.5 -11.328125 \nQ 19.78125 -13.765625 25.4375 -13.765625 \nQ 31.546875 -13.765625 34.859375 -11.328125 \nQ 38.1875 -8.890625 39.359375 -4.5 \nQ 40.046875 -1.8125 39.984375 6.78125 \nQ 34.234375 0 25.640625 0 \nQ 14.9375 0 9.078125 7.71875 \nQ 3.21875 15.4375 3.21875 26.21875 \nQ 3.21875 33.640625 5.90625 39.90625 \nQ 8.59375 46.1875 13.6875 49.609375 \nQ 18.796875 53.03125 25.6875 53.03125 \nQ 34.859375 53.03125 40.828125 45.609375 \nL 40.828125 51.859375 \nL 48.921875 51.859375 \nL 48.921875 7.03125 \nQ 48.921875 -5.078125 46.453125 -10.125 \nQ 44 -15.1875 38.640625 -18.109375 \nQ 33.296875 -21.046875 25.484375 -21.046875 \nQ 16.21875 -21.046875 10.5 -16.875 \nQ 4.78125 -12.703125 4.984375 -4.296875 \nz\nM 12.25 26.859375 \nQ 12.25 16.65625 16.296875 11.96875 \nQ 20.359375 7.28125 26.46875 7.28125 \nQ 32.515625 7.28125 36.609375 11.9375 \nQ 40.71875 16.609375 40.71875 26.5625 \nQ 40.71875 36.078125 36.5 40.90625 \nQ 32.28125 45.75 26.3125 45.75 \nQ 20.453125 45.75 16.34375 40.984375 \nQ 12.25 36.234375 12.25 26.859375 \nz\n\" id=\"ArialMT-103\"/>\n       <path d=\"M 3.078125 15.484375 \nL 11.765625 16.84375 \nQ 12.5 11.625 15.84375 8.84375 \nQ 19.1875 6.0625 25.203125 6.0625 \nQ 31.25 6.0625 34.171875 8.515625 \nQ 37.109375 10.984375 37.109375 14.3125 \nQ 37.109375 17.28125 34.515625 19 \nQ 32.71875 20.171875 25.53125 21.96875 \nQ 15.875 24.421875 12.140625 26.203125 \nQ 8.40625 27.984375 6.46875 31.125 \nQ 4.546875 34.28125 4.546875 38.09375 \nQ 4.546875 41.546875 6.125 44.5 \nQ 7.71875 47.46875 10.453125 49.421875 \nQ 12.5 50.921875 16.03125 51.96875 \nQ 19.578125 53.03125 23.640625 53.03125 \nQ 29.734375 53.03125 34.34375 51.265625 \nQ 38.96875 49.515625 41.15625 46.5 \nQ 43.359375 43.5 44.1875 38.484375 \nL 35.59375 37.3125 \nQ 35.015625 41.3125 32.203125 43.546875 \nQ 29.390625 45.796875 24.265625 45.796875 \nQ 18.21875 45.796875 15.625 43.796875 \nQ 13.03125 41.796875 13.03125 39.109375 \nQ 13.03125 37.40625 14.109375 36.03125 \nQ 15.1875 34.625 17.484375 33.6875 \nQ 18.796875 33.203125 25.25 31.453125 \nQ 34.578125 28.953125 38.25 27.359375 \nQ 41.9375 25.78125 44.03125 22.75 \nQ 46.140625 19.734375 46.140625 15.234375 \nQ 46.140625 10.84375 43.578125 6.953125 \nQ 41.015625 3.078125 36.171875 0.953125 \nQ 31.34375 -1.171875 25.25 -1.171875 \nQ 15.140625 -1.171875 9.84375 3.03125 \nQ 4.546875 7.234375 3.078125 15.484375 \nz\n\" id=\"ArialMT-115\"/>\n       <path d=\"M 25.78125 7.859375 \nL 27.046875 0.09375 \nQ 23.34375 -0.6875 20.40625 -0.6875 \nQ 15.625 -0.6875 12.984375 0.828125 \nQ 10.359375 2.34375 9.28125 4.8125 \nQ 8.203125 7.28125 8.203125 15.1875 \nL 8.203125 45.015625 \nL 1.765625 45.015625 \nL 1.765625 51.859375 \nL 8.203125 51.859375 \nL 8.203125 64.703125 \nL 16.9375 69.96875 \nL 16.9375 51.859375 \nL 25.78125 51.859375 \nL 25.78125 45.015625 \nL 16.9375 45.015625 \nL 16.9375 14.703125 \nQ 16.9375 10.9375 17.40625 9.859375 \nQ 17.875 8.796875 18.921875 8.15625 \nQ 19.96875 7.515625 21.921875 7.515625 \nQ 23.390625 7.515625 25.78125 7.859375 \nz\n\" id=\"ArialMT-116\"/>\n       <path d=\"M 40.4375 19 \nL 49.078125 17.875 \nQ 47.65625 8.9375 41.8125 3.875 \nQ 35.984375 -1.171875 27.484375 -1.171875 \nQ 16.84375 -1.171875 10.375 5.78125 \nQ 3.90625 12.75 3.90625 25.734375 \nQ 3.90625 34.125 6.6875 40.421875 \nQ 9.46875 46.734375 15.15625 49.875 \nQ 20.84375 53.03125 27.546875 53.03125 \nQ 35.984375 53.03125 41.359375 48.75 \nQ 46.734375 44.484375 48.25 36.625 \nL 39.703125 35.296875 \nQ 38.484375 40.53125 35.375 43.15625 \nQ 32.28125 45.796875 27.875 45.796875 \nQ 21.234375 45.796875 17.078125 41.03125 \nQ 12.9375 36.28125 12.9375 25.984375 \nQ 12.9375 15.53125 16.9375 10.796875 \nQ 20.953125 6.0625 27.390625 6.0625 \nQ 32.5625 6.0625 36.03125 9.234375 \nQ 39.5 12.40625 40.4375 19 \nz\n\" id=\"ArialMT-99\"/>\n      </defs>\n      <g style=\"fill:#262626;\" transform=\"translate(481.727969 582.909219)scale(0.11 -0.11)\">\n       <use xlink:href=\"#ArialMT-108\"/>\n       <use x=\"22.216797\" xlink:href=\"#ArialMT-111\"/>\n       <use x=\"77.832031\" xlink:href=\"#ArialMT-103\"/>\n       <use x=\"133.447266\" xlink:href=\"#ArialMT-105\"/>\n       <use x=\"155.664062\" xlink:href=\"#ArialMT-115\"/>\n       <use x=\"205.664062\" xlink:href=\"#ArialMT-116\"/>\n       <use x=\"233.447266\" xlink:href=\"#ArialMT-105\"/>\n       <use x=\"255.664062\" xlink:href=\"#ArialMT-99\"/>\n       <use x=\"305.664062\" xlink:href=\"#ArialMT-82\"/>\n       <use x=\"377.880859\" xlink:href=\"#ArialMT-101\"/>\n       <use x=\"433.496094\" xlink:href=\"#ArialMT-103\"/>\n       <use x=\"489.111328\" xlink:href=\"#ArialMT-114\"/>\n       <use x=\"522.412109\" xlink:href=\"#ArialMT-101\"/>\n       <use x=\"578.027344\" xlink:href=\"#ArialMT-115\"/>\n       <use x=\"628.027344\" xlink:href=\"#ArialMT-115\"/>\n       <use x=\"678.027344\" xlink:href=\"#ArialMT-105\"/>\n       <use x=\"700.244141\" xlink:href=\"#ArialMT-111\"/>\n       <use x=\"755.859375\" xlink:href=\"#ArialMT-110\"/>\n      </g>\n     </g>\n    </g>\n    <g id=\"xtick_5\">\n     <g id=\"line2d_5\">\n      <path clip-path=\"url(#pcea587c2e8)\" d=\"M 665.857031 565.535625 \nL 665.857031 21.935625 \n\" style=\"fill:none;stroke:#ffffff;stroke-linecap:round;\"/>\n     </g>\n     <g id=\"text_5\">\n      <!-- ABC -->\n      <defs>\n       <path d=\"M -0.140625 0 \nL 27.34375 71.578125 \nL 37.546875 71.578125 \nL 66.84375 0 \nL 56.0625 0 \nL 47.703125 21.6875 \nL 17.78125 21.6875 \nL 9.90625 0 \nz\nM 20.515625 29.390625 \nL 44.78125 29.390625 \nL 37.3125 49.21875 \nQ 33.890625 58.25 32.234375 64.0625 \nQ 30.859375 57.171875 28.375 50.390625 \nz\n\" id=\"ArialMT-65\"/>\n       <path d=\"M 7.328125 0 \nL 7.328125 71.578125 \nL 34.1875 71.578125 \nQ 42.390625 71.578125 47.34375 69.40625 \nQ 52.296875 67.234375 55.09375 62.71875 \nQ 57.90625 58.203125 57.90625 53.265625 \nQ 57.90625 48.6875 55.421875 44.625 \nQ 52.9375 40.578125 47.90625 38.09375 \nQ 54.390625 36.1875 57.875 31.59375 \nQ 61.375 27 61.375 20.75 \nQ 61.375 15.71875 59.25 11.390625 \nQ 57.125 7.078125 54 4.734375 \nQ 50.875 2.390625 46.15625 1.1875 \nQ 41.453125 0 34.625 0 \nz\nM 16.796875 41.5 \nL 32.28125 41.5 \nQ 38.578125 41.5 41.3125 42.328125 \nQ 44.921875 43.40625 46.75 45.890625 \nQ 48.578125 48.390625 48.578125 52.15625 \nQ 48.578125 55.71875 46.875 58.421875 \nQ 45.171875 61.140625 41.984375 62.140625 \nQ 38.8125 63.140625 31.109375 63.140625 \nL 16.796875 63.140625 \nz\nM 16.796875 8.453125 \nL 34.625 8.453125 \nQ 39.203125 8.453125 41.0625 8.796875 \nQ 44.34375 9.375 46.53125 10.734375 \nQ 48.734375 12.109375 50.140625 14.71875 \nQ 51.5625 17.328125 51.5625 20.75 \nQ 51.5625 24.75 49.515625 27.703125 \nQ 47.46875 30.671875 43.828125 31.859375 \nQ 40.1875 33.0625 33.34375 33.0625 \nL 16.796875 33.0625 \nz\n\" id=\"ArialMT-66\"/>\n      </defs>\n      <g style=\"fill:#262626;\" transform=\"translate(654.547656 582.909219)scale(0.11 -0.11)\">\n       <use xlink:href=\"#ArialMT-65\"/>\n       <use x=\"66.699219\" xlink:href=\"#ArialMT-66\"/>\n       <use x=\"133.398438\" xlink:href=\"#ArialMT-67\"/>\n      </g>\n     </g>\n    </g>\n    <g id=\"xtick_6\">\n     <g id=\"line2d_6\">\n      <path clip-path=\"url(#pcea587c2e8)\" d=\"M 805.357031 565.535625 \nL 805.357031 21.935625 \n\" style=\"fill:none;stroke:#ffffff;stroke-linecap:round;\"/>\n     </g>\n     <g id=\"text_6\">\n      <!-- GBC -->\n      <defs>\n       <path d=\"M 41.21875 28.078125 \nL 41.21875 36.46875 \nL 71.53125 36.53125 \nL 71.53125 9.96875 \nQ 64.546875 4.390625 57.125 1.578125 \nQ 49.703125 -1.21875 41.890625 -1.21875 \nQ 31.34375 -1.21875 22.71875 3.296875 \nQ 14.109375 7.8125 9.71875 16.359375 \nQ 5.328125 24.90625 5.328125 35.453125 \nQ 5.328125 45.90625 9.6875 54.953125 \nQ 14.0625 64.015625 22.265625 68.40625 \nQ 30.46875 72.796875 41.15625 72.796875 \nQ 48.921875 72.796875 55.1875 70.28125 \nQ 61.46875 67.78125 65.03125 63.28125 \nQ 68.609375 58.796875 70.453125 51.5625 \nL 61.921875 49.21875 \nQ 60.296875 54.6875 57.90625 57.8125 \nQ 55.515625 60.9375 51.0625 62.8125 \nQ 46.625 64.703125 41.21875 64.703125 \nQ 34.71875 64.703125 29.984375 62.71875 \nQ 25.25 60.75 22.34375 57.515625 \nQ 19.4375 54.296875 17.828125 50.4375 \nQ 15.09375 43.796875 15.09375 36.03125 \nQ 15.09375 26.46875 18.390625 20.015625 \nQ 21.6875 13.578125 27.984375 10.453125 \nQ 34.28125 7.328125 41.359375 7.328125 \nQ 47.515625 7.328125 53.375 9.6875 \nQ 59.234375 12.0625 62.25 14.75 \nL 62.25 28.078125 \nz\n\" id=\"ArialMT-71\"/>\n      </defs>\n      <g style=\"fill:#262626;\" transform=\"translate(793.438359 582.909219)scale(0.11 -0.11)\">\n       <use xlink:href=\"#ArialMT-71\"/>\n       <use x=\"77.783203\" xlink:href=\"#ArialMT-66\"/>\n       <use x=\"144.482422\" xlink:href=\"#ArialMT-67\"/>\n      </g>\n     </g>\n    </g>\n   </g>\n   <g id=\"matplotlib.axis_2\">\n    <g id=\"ytick_1\">\n     <g id=\"line2d_7\">\n      <path clip-path=\"url(#pcea587c2e8)\" d=\"M 38.107031 530.55832 \nL 875.107031 530.55832 \n\" style=\"fill:none;stroke:#ffffff;stroke-linecap:round;\"/>\n     </g>\n     <g id=\"text_7\">\n      <!-- 0.55 -->\n      <defs>\n       <path d=\"M 4.15625 35.296875 \nQ 4.15625 48 6.765625 55.734375 \nQ 9.375 63.484375 14.515625 67.671875 \nQ 19.671875 71.875 27.484375 71.875 \nQ 33.25 71.875 37.59375 69.546875 \nQ 41.9375 67.234375 44.765625 62.859375 \nQ 47.609375 58.5 49.21875 52.21875 \nQ 50.828125 45.953125 50.828125 35.296875 \nQ 50.828125 22.703125 48.234375 14.96875 \nQ 45.65625 7.234375 40.5 3 \nQ 35.359375 -1.21875 27.484375 -1.21875 \nQ 17.140625 -1.21875 11.234375 6.203125 \nQ 4.15625 15.140625 4.15625 35.296875 \nz\nM 13.1875 35.296875 \nQ 13.1875 17.671875 17.3125 11.828125 \nQ 21.4375 6 27.484375 6 \nQ 33.546875 6 37.671875 11.859375 \nQ 41.796875 17.71875 41.796875 35.296875 \nQ 41.796875 52.984375 37.671875 58.78125 \nQ 33.546875 64.59375 27.390625 64.59375 \nQ 21.34375 64.59375 17.71875 59.46875 \nQ 13.1875 52.9375 13.1875 35.296875 \nz\n\" id=\"ArialMT-48\"/>\n       <path d=\"M 9.078125 0 \nL 9.078125 10.015625 \nL 19.09375 10.015625 \nL 19.09375 0 \nz\n\" id=\"ArialMT-46\"/>\n       <path d=\"M 4.15625 18.75 \nL 13.375 19.53125 \nQ 14.40625 12.796875 18.140625 9.390625 \nQ 21.875 6 27.15625 6 \nQ 33.5 6 37.890625 10.78125 \nQ 42.28125 15.578125 42.28125 23.484375 \nQ 42.28125 31 38.0625 35.34375 \nQ 33.84375 39.703125 27 39.703125 \nQ 22.75 39.703125 19.328125 37.765625 \nQ 15.921875 35.84375 13.96875 32.765625 \nL 5.71875 33.84375 \nL 12.640625 70.609375 \nL 48.25 70.609375 \nL 48.25 62.203125 \nL 19.671875 62.203125 \nL 15.828125 42.96875 \nQ 22.265625 47.46875 29.34375 47.46875 \nQ 38.71875 47.46875 45.15625 40.96875 \nQ 51.609375 34.46875 51.609375 24.265625 \nQ 51.609375 14.546875 45.953125 7.46875 \nQ 39.0625 -1.21875 27.15625 -1.21875 \nQ 17.390625 -1.21875 11.203125 4.25 \nQ 5.03125 9.71875 4.15625 18.75 \nz\n\" id=\"ArialMT-53\"/>\n      </defs>\n      <g style=\"fill:#262626;\" transform=\"translate(7.2 534.495117)scale(0.11 -0.11)\">\n       <use xlink:href=\"#ArialMT-48\"/>\n       <use x=\"55.615234\" xlink:href=\"#ArialMT-46\"/>\n       <use x=\"83.398438\" xlink:href=\"#ArialMT-53\"/>\n       <use x=\"139.013672\" xlink:href=\"#ArialMT-53\"/>\n      </g>\n     </g>\n    </g>\n    <g id=\"ytick_2\">\n     <g id=\"line2d_8\">\n      <path clip-path=\"url(#pcea587c2e8)\" d=\"M 38.107031 461.065204 \nL 875.107031 461.065204 \n\" style=\"fill:none;stroke:#ffffff;stroke-linecap:round;\"/>\n     </g>\n     <g id=\"text_8\">\n      <!-- 0.60 -->\n      <defs>\n       <path d=\"M 49.75 54.046875 \nL 41.015625 53.375 \nQ 39.84375 58.546875 37.703125 60.890625 \nQ 34.125 64.65625 28.90625 64.65625 \nQ 24.703125 64.65625 21.53125 62.3125 \nQ 17.390625 59.28125 14.984375 53.46875 \nQ 12.59375 47.65625 12.5 36.921875 \nQ 15.671875 41.75 20.265625 44.09375 \nQ 24.859375 46.4375 29.890625 46.4375 \nQ 38.671875 46.4375 44.84375 39.96875 \nQ 51.03125 33.5 51.03125 23.25 \nQ 51.03125 16.5 48.125 10.71875 \nQ 45.21875 4.9375 40.140625 1.859375 \nQ 35.0625 -1.21875 28.609375 -1.21875 \nQ 17.625 -1.21875 10.6875 6.859375 \nQ 3.765625 14.9375 3.765625 33.5 \nQ 3.765625 54.25 11.421875 63.671875 \nQ 18.109375 71.875 29.4375 71.875 \nQ 37.890625 71.875 43.28125 67.140625 \nQ 48.6875 62.40625 49.75 54.046875 \nz\nM 13.875 23.1875 \nQ 13.875 18.65625 15.796875 14.5 \nQ 17.71875 10.359375 21.1875 8.171875 \nQ 24.65625 6 28.46875 6 \nQ 34.03125 6 38.03125 10.484375 \nQ 42.046875 14.984375 42.046875 22.703125 \nQ 42.046875 30.125 38.078125 34.390625 \nQ 34.125 38.671875 28.125 38.671875 \nQ 22.171875 38.671875 18.015625 34.390625 \nQ 13.875 30.125 13.875 23.1875 \nz\n\" id=\"ArialMT-54\"/>\n      </defs>\n      <g style=\"fill:#262626;\" transform=\"translate(7.2 465.002001)scale(0.11 -0.11)\">\n       <use xlink:href=\"#ArialMT-48\"/>\n       <use x=\"55.615234\" xlink:href=\"#ArialMT-46\"/>\n       <use x=\"83.398438\" xlink:href=\"#ArialMT-54\"/>\n       <use x=\"139.013672\" xlink:href=\"#ArialMT-48\"/>\n      </g>\n     </g>\n    </g>\n    <g id=\"ytick_3\">\n     <g id=\"line2d_9\">\n      <path clip-path=\"url(#pcea587c2e8)\" d=\"M 38.107031 391.572088 \nL 875.107031 391.572088 \n\" style=\"fill:none;stroke:#ffffff;stroke-linecap:round;\"/>\n     </g>\n     <g id=\"text_9\">\n      <!-- 0.65 -->\n      <g style=\"fill:#262626;\" transform=\"translate(7.2 395.508885)scale(0.11 -0.11)\">\n       <use xlink:href=\"#ArialMT-48\"/>\n       <use x=\"55.615234\" xlink:href=\"#ArialMT-46\"/>\n       <use x=\"83.398438\" xlink:href=\"#ArialMT-54\"/>\n       <use x=\"139.013672\" xlink:href=\"#ArialMT-53\"/>\n      </g>\n     </g>\n    </g>\n    <g id=\"ytick_4\">\n     <g id=\"line2d_10\">\n      <path clip-path=\"url(#pcea587c2e8)\" d=\"M 38.107031 322.078971 \nL 875.107031 322.078971 \n\" style=\"fill:none;stroke:#ffffff;stroke-linecap:round;\"/>\n     </g>\n     <g id=\"text_10\">\n      <!-- 0.70 -->\n      <defs>\n       <path d=\"M 4.734375 62.203125 \nL 4.734375 70.65625 \nL 51.078125 70.65625 \nL 51.078125 63.8125 \nQ 44.234375 56.546875 37.515625 44.484375 \nQ 30.8125 32.421875 27.15625 19.671875 \nQ 24.515625 10.6875 23.78125 0 \nL 14.75 0 \nQ 14.890625 8.453125 18.0625 20.40625 \nQ 21.234375 32.375 27.171875 43.484375 \nQ 33.109375 54.59375 39.796875 62.203125 \nz\n\" id=\"ArialMT-55\"/>\n      </defs>\n      <g style=\"fill:#262626;\" transform=\"translate(7.2 326.015768)scale(0.11 -0.11)\">\n       <use xlink:href=\"#ArialMT-48\"/>\n       <use x=\"55.615234\" xlink:href=\"#ArialMT-46\"/>\n       <use x=\"83.398438\" xlink:href=\"#ArialMT-55\"/>\n       <use x=\"139.013672\" xlink:href=\"#ArialMT-48\"/>\n      </g>\n     </g>\n    </g>\n    <g id=\"ytick_5\">\n     <g id=\"line2d_11\">\n      <path clip-path=\"url(#pcea587c2e8)\" d=\"M 38.107031 252.585855 \nL 875.107031 252.585855 \n\" style=\"fill:none;stroke:#ffffff;stroke-linecap:round;\"/>\n     </g>\n     <g id=\"text_11\">\n      <!-- 0.75 -->\n      <g style=\"fill:#262626;\" transform=\"translate(7.2 256.522652)scale(0.11 -0.11)\">\n       <use xlink:href=\"#ArialMT-48\"/>\n       <use x=\"55.615234\" xlink:href=\"#ArialMT-46\"/>\n       <use x=\"83.398438\" xlink:href=\"#ArialMT-55\"/>\n       <use x=\"139.013672\" xlink:href=\"#ArialMT-53\"/>\n      </g>\n     </g>\n    </g>\n    <g id=\"ytick_6\">\n     <g id=\"line2d_12\">\n      <path clip-path=\"url(#pcea587c2e8)\" d=\"M 38.107031 183.092739 \nL 875.107031 183.092739 \n\" style=\"fill:none;stroke:#ffffff;stroke-linecap:round;\"/>\n     </g>\n     <g id=\"text_12\">\n      <!-- 0.80 -->\n      <defs>\n       <path d=\"M 17.671875 38.8125 \nQ 12.203125 40.828125 9.5625 44.53125 \nQ 6.9375 48.25 6.9375 53.421875 \nQ 6.9375 61.234375 12.546875 66.546875 \nQ 18.171875 71.875 27.484375 71.875 \nQ 36.859375 71.875 42.578125 66.421875 \nQ 48.296875 60.984375 48.296875 53.171875 \nQ 48.296875 48.1875 45.671875 44.5 \nQ 43.0625 40.828125 37.75 38.8125 \nQ 44.34375 36.671875 47.78125 31.875 \nQ 51.21875 27.09375 51.21875 20.453125 \nQ 51.21875 11.28125 44.71875 5.03125 \nQ 38.234375 -1.21875 27.640625 -1.21875 \nQ 17.046875 -1.21875 10.546875 5.046875 \nQ 4.046875 11.328125 4.046875 20.703125 \nQ 4.046875 27.6875 7.59375 32.390625 \nQ 11.140625 37.109375 17.671875 38.8125 \nz\nM 15.921875 53.71875 \nQ 15.921875 48.640625 19.1875 45.40625 \nQ 22.46875 42.1875 27.6875 42.1875 \nQ 32.765625 42.1875 36.015625 45.375 \nQ 39.265625 48.578125 39.265625 53.21875 \nQ 39.265625 58.0625 35.90625 61.359375 \nQ 32.5625 64.65625 27.59375 64.65625 \nQ 22.5625 64.65625 19.234375 61.421875 \nQ 15.921875 58.203125 15.921875 53.71875 \nz\nM 13.09375 20.65625 \nQ 13.09375 16.890625 14.875 13.375 \nQ 16.65625 9.859375 20.171875 7.921875 \nQ 23.6875 6 27.734375 6 \nQ 34.03125 6 38.125 10.046875 \nQ 42.234375 14.109375 42.234375 20.359375 \nQ 42.234375 26.703125 38.015625 30.859375 \nQ 33.796875 35.015625 27.4375 35.015625 \nQ 21.234375 35.015625 17.15625 30.90625 \nQ 13.09375 26.8125 13.09375 20.65625 \nz\n\" id=\"ArialMT-56\"/>\n      </defs>\n      <g style=\"fill:#262626;\" transform=\"translate(7.2 187.029535)scale(0.11 -0.11)\">\n       <use xlink:href=\"#ArialMT-48\"/>\n       <use x=\"55.615234\" xlink:href=\"#ArialMT-46\"/>\n       <use x=\"83.398438\" xlink:href=\"#ArialMT-56\"/>\n       <use x=\"139.013672\" xlink:href=\"#ArialMT-48\"/>\n      </g>\n     </g>\n    </g>\n    <g id=\"ytick_7\">\n     <g id=\"line2d_13\">\n      <path clip-path=\"url(#pcea587c2e8)\" d=\"M 38.107031 113.599622 \nL 875.107031 113.599622 \n\" style=\"fill:none;stroke:#ffffff;stroke-linecap:round;\"/>\n     </g>\n     <g id=\"text_13\">\n      <!-- 0.85 -->\n      <g style=\"fill:#262626;\" transform=\"translate(7.2 117.536419)scale(0.11 -0.11)\">\n       <use xlink:href=\"#ArialMT-48\"/>\n       <use x=\"55.615234\" xlink:href=\"#ArialMT-46\"/>\n       <use x=\"83.398438\" xlink:href=\"#ArialMT-56\"/>\n       <use x=\"139.013672\" xlink:href=\"#ArialMT-53\"/>\n      </g>\n     </g>\n    </g>\n    <g id=\"ytick_8\">\n     <g id=\"line2d_14\">\n      <path clip-path=\"url(#pcea587c2e8)\" d=\"M 38.107031 44.106506 \nL 875.107031 44.106506 \n\" style=\"fill:none;stroke:#ffffff;stroke-linecap:round;\"/>\n     </g>\n     <g id=\"text_14\">\n      <!-- 0.90 -->\n      <defs>\n       <path d=\"M 5.46875 16.546875 \nL 13.921875 17.328125 \nQ 14.984375 11.375 18.015625 8.6875 \nQ 21.046875 6 25.78125 6 \nQ 29.828125 6 32.875 7.859375 \nQ 35.9375 9.71875 37.890625 12.8125 \nQ 39.84375 15.921875 41.15625 21.1875 \nQ 42.484375 26.46875 42.484375 31.9375 \nQ 42.484375 32.515625 42.4375 33.6875 \nQ 39.796875 29.5 35.234375 26.875 \nQ 30.671875 24.265625 25.34375 24.265625 \nQ 16.453125 24.265625 10.296875 30.703125 \nQ 4.15625 37.15625 4.15625 47.703125 \nQ 4.15625 58.59375 10.578125 65.234375 \nQ 17 71.875 26.65625 71.875 \nQ 33.640625 71.875 39.421875 68.109375 \nQ 45.21875 64.359375 48.21875 57.390625 \nQ 51.21875 50.4375 51.21875 37.25 \nQ 51.21875 23.53125 48.234375 15.40625 \nQ 45.265625 7.28125 39.375 3.03125 \nQ 33.5 -1.21875 25.59375 -1.21875 \nQ 17.1875 -1.21875 11.859375 3.4375 \nQ 6.546875 8.109375 5.46875 16.546875 \nz\nM 41.453125 48.140625 \nQ 41.453125 55.71875 37.421875 60.15625 \nQ 33.40625 64.59375 27.734375 64.59375 \nQ 21.875 64.59375 17.53125 59.8125 \nQ 13.1875 55.03125 13.1875 47.40625 \nQ 13.1875 40.578125 17.3125 36.296875 \nQ 21.4375 32.03125 27.484375 32.03125 \nQ 33.59375 32.03125 37.515625 36.296875 \nQ 41.453125 40.578125 41.453125 48.140625 \nz\n\" id=\"ArialMT-57\"/>\n      </defs>\n      <g style=\"fill:#262626;\" transform=\"translate(7.2 48.043303)scale(0.11 -0.11)\">\n       <use xlink:href=\"#ArialMT-48\"/>\n       <use x=\"55.615234\" xlink:href=\"#ArialMT-46\"/>\n       <use x=\"83.398438\" xlink:href=\"#ArialMT-57\"/>\n       <use x=\"139.013672\" xlink:href=\"#ArialMT-48\"/>\n      </g>\n     </g>\n    </g>\n   </g>\n   <g id=\"line2d_15\">\n    <path clip-path=\"url(#pcea587c2e8)\" d=\"M 72.982031 180.477613 \nL 142.732031 180.477613 \nL 142.732031 163.171635 \nL 72.982031 163.171635 \nL 72.982031 180.477613 \n\" style=\"fill:none;stroke:#4c72b0;stroke-linecap:round;\"/>\n   </g>\n   <g id=\"line2d_16\">\n    <path clip-path=\"url(#pcea587c2e8)\" d=\"M 107.857031 180.477613 \nL 107.857031 185.477118 \n\" style=\"fill:none;stroke:#4c72b0;stroke-linecap:round;\"/>\n   </g>\n   <g id=\"line2d_17\">\n    <path clip-path=\"url(#pcea587c2e8)\" d=\"M 107.857031 163.171635 \nL 107.857031 161.248748 \n\" style=\"fill:none;stroke:#4c72b0;stroke-linecap:round;\"/>\n   </g>\n   <g id=\"line2d_18\">\n    <path clip-path=\"url(#pcea587c2e8)\" d=\"M 90.419531 185.477118 \nL 125.294531 185.477118 \n\" style=\"fill:none;stroke:#1a1a1a;stroke-linecap:round;\"/>\n   </g>\n   <g id=\"line2d_19\">\n    <path clip-path=\"url(#pcea587c2e8)\" d=\"M 90.419531 161.248748 \nL 125.294531 161.248748 \n\" style=\"fill:none;stroke:#1a1a1a;stroke-linecap:round;\"/>\n   </g>\n   <g id=\"line2d_20\"/>\n   <g id=\"line2d_21\">\n    <path clip-path=\"url(#pcea587c2e8)\" d=\"M 212.482031 537.365338 \nL 282.232031 537.365338 \nL 282.232031 533.134988 \nL 212.482031 533.134988 \nL 212.482031 537.365338 \n\" style=\"fill:none;stroke:#4c72b0;stroke-linecap:round;\"/>\n   </g>\n   <g id=\"line2d_22\">\n    <path clip-path=\"url(#pcea587c2e8)\" d=\"M 247.357031 537.365338 \nL 247.357031 540.826534 \n\" style=\"fill:none;stroke:#4c72b0;stroke-linecap:round;\"/>\n   </g>\n   <g id=\"line2d_23\">\n    <path clip-path=\"url(#pcea587c2e8)\" d=\"M 247.357031 533.134988 \nL 247.357031 530.05837 \n\" style=\"fill:none;stroke:#4c72b0;stroke-linecap:round;\"/>\n   </g>\n   <g id=\"line2d_24\">\n    <path clip-path=\"url(#pcea587c2e8)\" d=\"M 229.919531 540.826534 \nL 264.794531 540.826534 \n\" style=\"fill:none;stroke:#1a1a1a;stroke-linecap:round;\"/>\n   </g>\n   <g id=\"line2d_25\">\n    <path clip-path=\"url(#pcea587c2e8)\" d=\"M 229.919531 530.05837 \nL 264.794531 530.05837 \n\" style=\"fill:none;stroke:#1a1a1a;stroke-linecap:round;\"/>\n   </g>\n   <g id=\"line2d_26\"/>\n   <g id=\"line2d_27\">\n    <path clip-path=\"url(#pcea587c2e8)\" d=\"M 351.982031 51.644221 \nL 421.732031 51.644221 \nL 421.732031 48.567602 \nL 351.982031 48.567602 \nL 351.982031 51.644221 \n\" style=\"fill:none;stroke:#4c72b0;stroke-linecap:round;\"/>\n   </g>\n   <g id=\"line2d_28\">\n    <path clip-path=\"url(#pcea587c2e8)\" d=\"M 386.857031 51.644221 \nL 386.857031 51.644221 \n\" style=\"fill:none;stroke:#4c72b0;stroke-linecap:round;\"/>\n   </g>\n   <g id=\"line2d_29\">\n    <path clip-path=\"url(#pcea587c2e8)\" d=\"M 386.857031 48.567602 \nL 386.857031 46.644716 \n\" style=\"fill:none;stroke:#4c72b0;stroke-linecap:round;\"/>\n   </g>\n   <g id=\"line2d_30\">\n    <path clip-path=\"url(#pcea587c2e8)\" d=\"M 369.419531 51.644221 \nL 404.294531 51.644221 \n\" style=\"fill:none;stroke:#1a1a1a;stroke-linecap:round;\"/>\n   </g>\n   <g id=\"line2d_31\">\n    <path clip-path=\"url(#pcea587c2e8)\" d=\"M 369.419531 46.644716 \nL 404.294531 46.644716 \n\" style=\"fill:none;stroke:#1a1a1a;stroke-linecap:round;\"/>\n   </g>\n   <g id=\"line2d_32\">\n    <defs>\n     <path d=\"M 0 3 \nC 0.795609 3 1.55874 2.683901 2.12132 2.12132 \nC 2.683901 1.55874 3 0.795609 3 0 \nC 3 -0.795609 2.683901 -1.55874 2.12132 -2.12132 \nC 1.55874 -2.683901 0.795609 -3 0 -3 \nC -0.795609 -3 -1.55874 -2.683901 -2.12132 -2.12132 \nC -2.683901 -1.55874 -3 -0.795609 -3 0 \nC -3 0.795609 -2.683901 1.55874 -2.12132 2.12132 \nC -1.55874 2.683901 -0.795609 3 0 3 \nz\n\" id=\"m2d8b26fb9c\" style=\"stroke:#000000;\"/>\n    </defs>\n    <g clip-path=\"url(#pcea587c2e8)\">\n     <use style=\"fill-opacity:0;stroke:#000000;\" x=\"386.857031\" xlink:href=\"#m2d8b26fb9c\" y=\"56.643725\"/>\n    </g>\n   </g>\n   <g id=\"line2d_33\">\n    <path clip-path=\"url(#pcea587c2e8)\" d=\"M 491.482031 400.8404 \nL 561.232031 400.8404 \nL 561.232031 388.533927 \nL 491.482031 388.533927 \nL 491.482031 400.8404 \n\" style=\"fill:none;stroke:#4c72b0;stroke-linecap:round;\"/>\n   </g>\n   <g id=\"line2d_34\">\n    <path clip-path=\"url(#pcea587c2e8)\" d=\"M 526.357031 400.8404 \nL 526.357031 400.8404 \n\" style=\"fill:none;stroke:#4c72b0;stroke-linecap:round;\"/>\n   </g>\n   <g id=\"line2d_35\">\n    <path clip-path=\"url(#pcea587c2e8)\" d=\"M 526.357031 388.533927 \nL 526.357031 372.766258 \n\" style=\"fill:none;stroke:#4c72b0;stroke-linecap:round;\"/>\n   </g>\n   <g id=\"line2d_36\">\n    <path clip-path=\"url(#pcea587c2e8)\" d=\"M 508.919531 400.8404 \nL 543.794531 400.8404 \n\" style=\"fill:none;stroke:#1a1a1a;stroke-linecap:round;\"/>\n   </g>\n   <g id=\"line2d_37\">\n    <path clip-path=\"url(#pcea587c2e8)\" d=\"M 508.919531 372.766258 \nL 543.794531 372.766258 \n\" style=\"fill:none;stroke:#1a1a1a;stroke-linecap:round;\"/>\n   </g>\n   <g id=\"line2d_38\">\n    <g clip-path=\"url(#pcea587c2e8)\">\n     <use style=\"fill-opacity:0;stroke:#000000;\" x=\"526.357031\" xlink:href=\"#m2d8b26fb9c\" y=\"419.30011\"/>\n    </g>\n   </g>\n   <g id=\"line2d_39\">\n    <path clip-path=\"url(#pcea587c2e8)\" d=\"M 630.982031 398.532937 \nL 700.732031 398.532937 \nL 700.732031 391.995123 \nL 630.982031 391.995123 \nL 630.982031 398.532937 \n\" style=\"fill:none;stroke:#4c72b0;stroke-linecap:round;\"/>\n   </g>\n   <g id=\"line2d_40\">\n    <path clip-path=\"url(#pcea587c2e8)\" d=\"M 665.857031 398.532937 \nL 665.857031 406.224482 \n\" style=\"fill:none;stroke:#4c72b0;stroke-linecap:round;\"/>\n   </g>\n   <g id=\"line2d_41\">\n    <path clip-path=\"url(#pcea587c2e8)\" d=\"M 665.857031 391.995123 \nL 665.857031 391.995123 \n\" style=\"fill:none;stroke:#4c72b0;stroke-linecap:round;\"/>\n   </g>\n   <g id=\"line2d_42\">\n    <path clip-path=\"url(#pcea587c2e8)\" d=\"M 648.419531 406.224482 \nL 683.294531 406.224482 \n\" style=\"fill:none;stroke:#1a1a1a;stroke-linecap:round;\"/>\n   </g>\n   <g id=\"line2d_43\">\n    <path clip-path=\"url(#pcea587c2e8)\" d=\"M 648.419531 391.995123 \nL 683.294531 391.995123 \n\" style=\"fill:none;stroke:#1a1a1a;stroke-linecap:round;\"/>\n   </g>\n   <g id=\"line2d_44\">\n    <g clip-path=\"url(#pcea587c2e8)\">\n     <use style=\"fill-opacity:0;stroke:#000000;\" x=\"665.857031\" xlink:href=\"#m2d8b26fb9c\" y=\"378.534918\"/>\n    </g>\n   </g>\n   <g id=\"line2d_45\">\n    <path clip-path=\"url(#pcea587c2e8)\" d=\"M 770.482031 58.182035 \nL 840.232031 58.182035 \nL 840.232031 50.490489 \nL 770.482031 50.490489 \nL 770.482031 58.182035 \n\" style=\"fill:none;stroke:#4c72b0;stroke-linecap:round;\"/>\n   </g>\n   <g id=\"line2d_46\">\n    <path clip-path=\"url(#pcea587c2e8)\" d=\"M 805.357031 58.182035 \nL 805.357031 64.719849 \n\" style=\"fill:none;stroke:#4c72b0;stroke-linecap:round;\"/>\n   </g>\n   <g id=\"line2d_47\">\n    <path clip-path=\"url(#pcea587c2e8)\" d=\"M 805.357031 50.490489 \nL 805.357031 46.644716 \n\" style=\"fill:none;stroke:#4c72b0;stroke-linecap:round;\"/>\n   </g>\n   <g id=\"line2d_48\">\n    <path clip-path=\"url(#pcea587c2e8)\" d=\"M 787.919531 64.719849 \nL 822.794531 64.719849 \n\" style=\"fill:none;stroke:#1a1a1a;stroke-linecap:round;\"/>\n   </g>\n   <g id=\"line2d_49\">\n    <path clip-path=\"url(#pcea587c2e8)\" d=\"M 787.919531 46.644716 \nL 822.794531 46.644716 \n\" style=\"fill:none;stroke:#1a1a1a;stroke-linecap:round;\"/>\n   </g>\n   <g id=\"line2d_50\"/>\n   <g id=\"line2d_51\">\n    <path clip-path=\"url(#pcea587c2e8)\" d=\"M 72.982031 167.017408 \nL 142.732031 167.017408 \n\" style=\"fill:none;stroke:#55a868;stroke-linecap:round;\"/>\n   </g>\n   <g id=\"line2d_52\">\n    <path clip-path=\"url(#pcea587c2e8)\" d=\"M 212.482031 537.365338 \nL 282.232031 537.365338 \n\" style=\"fill:none;stroke:#55a868;stroke-linecap:round;\"/>\n   </g>\n   <g id=\"line2d_53\">\n    <path clip-path=\"url(#pcea587c2e8)\" d=\"M 351.982031 51.644221 \nL 421.732031 51.644221 \n\" style=\"fill:none;stroke:#55a868;stroke-linecap:round;\"/>\n   </g>\n   <g id=\"line2d_54\">\n    <path clip-path=\"url(#pcea587c2e8)\" d=\"M 491.482031 393.918009 \nL 561.232031 393.918009 \n\" style=\"fill:none;stroke:#55a868;stroke-linecap:round;\"/>\n   </g>\n   <g id=\"line2d_55\">\n    <path clip-path=\"url(#pcea587c2e8)\" d=\"M 630.982031 391.995123 \nL 700.732031 391.995123 \n\" style=\"fill:none;stroke:#55a868;stroke-linecap:round;\"/>\n   </g>\n   <g id=\"line2d_56\">\n    <path clip-path=\"url(#pcea587c2e8)\" d=\"M 770.482031 52.413375 \nL 840.232031 52.413375 \n\" style=\"fill:none;stroke:#55a868;stroke-linecap:round;\"/>\n   </g>\n   <g id=\"patch_3\">\n    <path d=\"M 38.107031 565.535625 \nL 38.107031 21.935625 \n\" style=\"fill:none;stroke:#ffffff;stroke-linecap:square;stroke-linejoin:miter;stroke-width:1.25;\"/>\n   </g>\n   <g id=\"patch_4\">\n    <path d=\"M 875.107031 565.535625 \nL 875.107031 21.935625 \n\" style=\"fill:none;stroke:#ffffff;stroke-linecap:square;stroke-linejoin:miter;stroke-width:1.25;\"/>\n   </g>\n   <g id=\"patch_5\">\n    <path d=\"M 38.107031 565.535625 \nL 875.107031 565.535625 \n\" style=\"fill:none;stroke:#ffffff;stroke-linecap:square;stroke-linejoin:miter;stroke-width:1.25;\"/>\n   </g>\n   <g id=\"patch_6\">\n    <path d=\"M 38.107031 21.935625 \nL 875.107031 21.935625 \n\" style=\"fill:none;stroke:#ffffff;stroke-linecap:square;stroke-linejoin:miter;stroke-width:1.25;\"/>\n   </g>\n   <g id=\"text_15\">\n    <!-- Model Accuracy Scores for Pairwise Classification - Trimers -->\n    <defs>\n     <path d=\"M 7.421875 0 \nL 7.421875 71.578125 \nL 21.6875 71.578125 \nL 38.625 20.90625 \nQ 40.96875 13.8125 42.046875 10.296875 \nQ 43.265625 14.203125 45.84375 21.78125 \nL 62.984375 71.578125 \nL 75.734375 71.578125 \nL 75.734375 0 \nL 66.609375 0 \nL 66.609375 59.90625 \nL 45.796875 0 \nL 37.25 0 \nL 16.546875 60.9375 \nL 16.546875 0 \nz\n\" id=\"ArialMT-77\"/>\n     <path d=\"M 40.234375 0 \nL 40.234375 6.546875 \nQ 35.296875 -1.171875 25.734375 -1.171875 \nQ 19.53125 -1.171875 14.328125 2.25 \nQ 9.125 5.671875 6.265625 11.796875 \nQ 3.421875 17.921875 3.421875 25.875 \nQ 3.421875 33.640625 6 39.96875 \nQ 8.59375 46.296875 13.765625 49.65625 \nQ 18.953125 53.03125 25.34375 53.03125 \nQ 30.03125 53.03125 33.6875 51.046875 \nQ 37.359375 49.078125 39.65625 45.90625 \nL 39.65625 71.578125 \nL 48.390625 71.578125 \nL 48.390625 0 \nz\nM 12.453125 25.875 \nQ 12.453125 15.921875 16.640625 10.984375 \nQ 20.84375 6.0625 26.5625 6.0625 \nQ 32.328125 6.0625 36.34375 10.765625 \nQ 40.375 15.484375 40.375 25.140625 \nQ 40.375 35.796875 36.265625 40.765625 \nQ 32.171875 45.75 26.171875 45.75 \nQ 20.3125 45.75 16.375 40.96875 \nQ 12.453125 36.1875 12.453125 25.875 \nz\n\" id=\"ArialMT-100\"/>\n     <path id=\"ArialMT-32\"/>\n     <path d=\"M 40.578125 0 \nL 40.578125 7.625 \nQ 34.515625 -1.171875 24.125 -1.171875 \nQ 19.53125 -1.171875 15.546875 0.578125 \nQ 11.578125 2.34375 9.640625 5 \nQ 7.71875 7.671875 6.9375 11.53125 \nQ 6.390625 14.109375 6.390625 19.734375 \nL 6.390625 51.859375 \nL 15.1875 51.859375 \nL 15.1875 23.09375 \nQ 15.1875 16.21875 15.71875 13.8125 \nQ 16.546875 10.359375 19.234375 8.375 \nQ 21.921875 6.390625 25.875 6.390625 \nQ 29.828125 6.390625 33.296875 8.421875 \nQ 36.765625 10.453125 38.203125 13.9375 \nQ 39.65625 17.4375 39.65625 24.078125 \nL 39.65625 51.859375 \nL 48.4375 51.859375 \nL 48.4375 0 \nz\n\" id=\"ArialMT-117\"/>\n     <path d=\"M 6.203125 -19.96875 \nL 5.21875 -11.71875 \nQ 8.109375 -12.5 10.25 -12.5 \nQ 13.1875 -12.5 14.9375 -11.515625 \nQ 16.703125 -10.546875 17.828125 -8.796875 \nQ 18.65625 -7.46875 20.515625 -2.25 \nQ 20.75 -1.515625 21.296875 -0.09375 \nL 1.609375 51.859375 \nL 11.078125 51.859375 \nL 21.875 21.828125 \nQ 23.96875 16.109375 25.640625 9.8125 \nQ 27.15625 15.875 29.25 21.625 \nL 40.328125 51.859375 \nL 49.125 51.859375 \nL 29.390625 -0.875 \nQ 26.21875 -9.421875 24.46875 -12.640625 \nQ 22.125 -17 19.09375 -19.015625 \nQ 16.0625 -21.046875 11.859375 -21.046875 \nQ 9.328125 -21.046875 6.203125 -19.96875 \nz\n\" id=\"ArialMT-121\"/>\n     <path d=\"M 8.6875 0 \nL 8.6875 45.015625 \nL 0.921875 45.015625 \nL 0.921875 51.859375 \nL 8.6875 51.859375 \nL 8.6875 57.375 \nQ 8.6875 62.59375 9.625 65.140625 \nQ 10.890625 68.5625 14.078125 70.671875 \nQ 17.28125 72.796875 23.046875 72.796875 \nQ 26.765625 72.796875 31.25 71.921875 \nL 29.9375 64.265625 \nQ 27.203125 64.75 24.75 64.75 \nQ 20.75 64.75 19.09375 63.03125 \nQ 17.4375 61.328125 17.4375 56.640625 \nL 17.4375 51.859375 \nL 27.546875 51.859375 \nL 27.546875 45.015625 \nL 17.4375 45.015625 \nL 17.4375 0 \nz\n\" id=\"ArialMT-102\"/>\n     <path d=\"M 7.71875 0 \nL 7.71875 71.578125 \nL 34.71875 71.578125 \nQ 41.84375 71.578125 45.609375 70.90625 \nQ 50.875 70.015625 54.4375 67.546875 \nQ 58.015625 65.09375 60.1875 60.640625 \nQ 62.359375 56.203125 62.359375 50.875 \nQ 62.359375 41.75 56.546875 35.421875 \nQ 50.734375 29.109375 35.546875 29.109375 \nL 17.1875 29.109375 \nL 17.1875 0 \nz\nM 17.1875 37.546875 \nL 35.6875 37.546875 \nQ 44.875 37.546875 48.734375 40.96875 \nQ 52.59375 44.390625 52.59375 50.59375 \nQ 52.59375 55.078125 50.3125 58.265625 \nQ 48.046875 61.46875 44.34375 62.5 \nQ 41.9375 63.140625 35.5 63.140625 \nL 17.1875 63.140625 \nz\n\" id=\"ArialMT-80\"/>\n     <path d=\"M 16.15625 0 \nL 0.296875 51.859375 \nL 9.375 51.859375 \nL 17.625 21.921875 \nL 20.703125 10.796875 \nQ 20.90625 11.625 23.390625 21.484375 \nL 31.640625 51.859375 \nL 40.671875 51.859375 \nL 48.4375 21.78125 \nL 51.03125 11.859375 \nL 54 21.875 \nL 62.890625 51.859375 \nL 71.4375 51.859375 \nL 55.21875 0 \nL 46.09375 0 \nL 37.84375 31.0625 \nL 35.84375 39.890625 \nL 25.34375 0 \nz\n\" id=\"ArialMT-119\"/>\n     <path d=\"M 3.171875 21.484375 \nL 3.171875 30.328125 \nL 30.171875 30.328125 \nL 30.171875 21.484375 \nz\n\" id=\"ArialMT-45\"/>\n     <path d=\"M 25.921875 0 \nL 25.921875 63.140625 \nL 2.34375 63.140625 \nL 2.34375 71.578125 \nL 59.078125 71.578125 \nL 59.078125 63.140625 \nL 35.40625 63.140625 \nL 35.40625 0 \nz\n\" id=\"ArialMT-84\"/>\n     <path d=\"M 6.59375 0 \nL 6.59375 51.859375 \nL 14.453125 51.859375 \nL 14.453125 44.578125 \nQ 16.890625 48.390625 20.9375 50.703125 \nQ 25 53.03125 30.171875 53.03125 \nQ 35.9375 53.03125 39.625 50.640625 \nQ 43.3125 48.25 44.828125 43.953125 \nQ 50.984375 53.03125 60.84375 53.03125 \nQ 68.5625 53.03125 72.703125 48.75 \nQ 76.859375 44.484375 76.859375 35.59375 \nL 76.859375 0 \nL 68.109375 0 \nL 68.109375 32.671875 \nQ 68.109375 37.9375 67.25 40.25 \nQ 66.40625 42.578125 64.15625 43.984375 \nQ 61.921875 45.40625 58.890625 45.40625 \nQ 53.421875 45.40625 49.796875 41.765625 \nQ 46.1875 38.140625 46.1875 30.125 \nL 46.1875 0 \nL 37.40625 0 \nL 37.40625 33.6875 \nQ 37.40625 39.546875 35.25 42.46875 \nQ 33.109375 45.40625 28.21875 45.40625 \nQ 24.515625 45.40625 21.359375 43.453125 \nQ 18.21875 41.5 16.796875 37.734375 \nQ 15.375 33.984375 15.375 26.90625 \nL 15.375 0 \nz\n\" id=\"ArialMT-109\"/>\n    </defs>\n    <g style=\"fill:#262626;\" transform=\"translate(298.567031 15.935625)scale(0.12 -0.12)\">\n     <use xlink:href=\"#ArialMT-77\"/>\n     <use x=\"83.300781\" xlink:href=\"#ArialMT-111\"/>\n     <use x=\"138.916016\" xlink:href=\"#ArialMT-100\"/>\n     <use x=\"194.53125\" xlink:href=\"#ArialMT-101\"/>\n     <use x=\"250.146484\" xlink:href=\"#ArialMT-108\"/>\n     <use x=\"272.363281\" xlink:href=\"#ArialMT-32\"/>\n     <use x=\"294.646484\" xlink:href=\"#ArialMT-65\"/>\n     <use x=\"361.345703\" xlink:href=\"#ArialMT-99\"/>\n     <use x=\"411.345703\" xlink:href=\"#ArialMT-99\"/>\n     <use x=\"461.345703\" xlink:href=\"#ArialMT-117\"/>\n     <use x=\"516.960938\" xlink:href=\"#ArialMT-114\"/>\n     <use x=\"550.261719\" xlink:href=\"#ArialMT-97\"/>\n     <use x=\"605.876953\" xlink:href=\"#ArialMT-99\"/>\n     <use x=\"655.876953\" xlink:href=\"#ArialMT-121\"/>\n     <use x=\"705.876953\" xlink:href=\"#ArialMT-32\"/>\n     <use x=\"733.660156\" xlink:href=\"#ArialMT-83\"/>\n     <use x=\"800.359375\" xlink:href=\"#ArialMT-99\"/>\n     <use x=\"850.359375\" xlink:href=\"#ArialMT-111\"/>\n     <use x=\"905.974609\" xlink:href=\"#ArialMT-114\"/>\n     <use x=\"939.275391\" xlink:href=\"#ArialMT-101\"/>\n     <use x=\"994.890625\" xlink:href=\"#ArialMT-115\"/>\n     <use x=\"1044.890625\" xlink:href=\"#ArialMT-32\"/>\n     <use x=\"1072.673828\" xlink:href=\"#ArialMT-102\"/>\n     <use x=\"1100.457031\" xlink:href=\"#ArialMT-111\"/>\n     <use x=\"1156.072266\" xlink:href=\"#ArialMT-114\"/>\n     <use x=\"1189.373047\" xlink:href=\"#ArialMT-32\"/>\n     <use x=\"1217.15625\" xlink:href=\"#ArialMT-80\"/>\n     <use x=\"1283.855469\" xlink:href=\"#ArialMT-97\"/>\n     <use x=\"1339.470703\" xlink:href=\"#ArialMT-105\"/>\n     <use x=\"1361.6875\" xlink:href=\"#ArialMT-114\"/>\n     <use x=\"1394.988281\" xlink:href=\"#ArialMT-119\"/>\n     <use x=\"1467.205078\" xlink:href=\"#ArialMT-105\"/>\n     <use x=\"1489.421875\" xlink:href=\"#ArialMT-115\"/>\n     <use x=\"1539.421875\" xlink:href=\"#ArialMT-101\"/>\n     <use x=\"1595.037109\" xlink:href=\"#ArialMT-32\"/>\n     <use x=\"1622.820312\" xlink:href=\"#ArialMT-67\"/>\n     <use x=\"1695.037109\" xlink:href=\"#ArialMT-108\"/>\n     <use x=\"1717.253906\" xlink:href=\"#ArialMT-97\"/>\n     <use x=\"1772.869141\" xlink:href=\"#ArialMT-115\"/>\n     <use x=\"1822.869141\" xlink:href=\"#ArialMT-115\"/>\n     <use x=\"1872.869141\" xlink:href=\"#ArialMT-105\"/>\n     <use x=\"1895.085938\" xlink:href=\"#ArialMT-102\"/>\n     <use x=\"1922.869141\" xlink:href=\"#ArialMT-105\"/>\n     <use x=\"1945.085938\" xlink:href=\"#ArialMT-99\"/>\n     <use x=\"1995.085938\" xlink:href=\"#ArialMT-97\"/>\n     <use x=\"2050.701172\" xlink:href=\"#ArialMT-116\"/>\n     <use x=\"2078.484375\" xlink:href=\"#ArialMT-105\"/>\n     <use x=\"2100.701172\" xlink:href=\"#ArialMT-111\"/>\n     <use x=\"2156.316406\" xlink:href=\"#ArialMT-110\"/>\n     <use x=\"2211.931641\" xlink:href=\"#ArialMT-32\"/>\n     <use x=\"2239.714844\" xlink:href=\"#ArialMT-45\"/>\n     <use x=\"2273.015625\" xlink:href=\"#ArialMT-32\"/>\n     <use x=\"2299.048828\" xlink:href=\"#ArialMT-84\"/>\n     <use x=\"2356.382812\" xlink:href=\"#ArialMT-114\"/>\n     <use x=\"2389.683594\" xlink:href=\"#ArialMT-105\"/>\n     <use x=\"2411.900391\" xlink:href=\"#ArialMT-109\"/>\n     <use x=\"2495.201172\" xlink:href=\"#ArialMT-101\"/>\n     <use x=\"2550.816406\" xlink:href=\"#ArialMT-114\"/>\n     <use x=\"2584.117188\" xlink:href=\"#ArialMT-115\"/>\n    </g>\n   </g>\n  </g>\n </g>\n <defs>\n  <clipPath id=\"pcea587c2e8\">\n   <rect height=\"543.6\" width=\"837\" x=\"38.107031\" y=\"21.935625\"/>\n  </clipPath>\n </defs>\n</svg>\n",
      "text/plain": "<Figure size 1080x720 with 1 Axes>"
     },
     "metadata": {},
     "output_type": "display_data"
    }
   ],
   "source": [
    "df_scores.plot(kind='box', figsize=(15, 10),\n",
    "                   title=\"Model Accuracy Scores for Pairwise Classification - Trimers\")\n",
    "plt.savefig('pairwise-classifier-results-aug-10.png', bbox_inches='tight', format='png')"
   ]
  },
  {
   "cell_type": "code",
   "execution_count": 20,
   "metadata": {
    "tags": []
   },
   "outputs": [
    {
     "name": "stdout",
     "output_type": "stream",
     "text": [
      "bootstrap  ->  True\n",
      "ccp_alpha  ->  0.0\n",
      "class_weight  ->  None\n",
      "criterion  ->  gini\n",
      "max_depth  ->  None\n",
      "max_features  ->  auto\n",
      "max_leaf_nodes  ->  None\n",
      "max_samples  ->  None\n",
      "min_impurity_decrease  ->  0.0\n",
      "min_impurity_split  ->  None\n",
      "min_samples_leaf  ->  1\n",
      "min_samples_split  ->  2\n",
      "min_weight_fraction_leaf  ->  0.0\n",
      "n_estimators  ->  100\n",
      "n_jobs  ->  -1\n",
      "oob_score  ->  False\n",
      "random_state  ->  42\n",
      "verbose  ->  0\n",
      "warm_start  ->  False\n"
     ]
    }
   ],
   "source": [
    "# Improve performance of RFC:\n",
    "for param, value in rfc.get_params().items():\n",
    "    print(param, ' -> ', value)"
   ]
  },
  {
   "cell_type": "code",
   "execution_count": 24,
   "metadata": {
    "tags": []
   },
   "outputs": [
    {
     "name": "stdout",
     "output_type": "stream",
     "text": [
      "{'n_estimators': [200, 400, 600, 800, 1000, 1200, 1400, 1600, 1800, 2000], 'max_features': ['auto', 'sqrt'], 'max_depth': [10, 20, 30, 40, 50, 60, 70, 80, 90, 100, 110, None], 'min_samples_split': [2, 5, 10], 'min_samples_leaf': [1, 2, 4], 'bootstrap': [True, False]}\n"
     ]
    }
   ],
   "source": [
    "# Create a parameter grid for Randomized Search:\n",
    "\n",
    "# Number of trees in random forest:\n",
    "n_estimators = [int(x) for x in np.linspace(start = 200, stop = 2000, num=10)]\n",
    "\n",
    "# Number of features to consider at every split:\n",
    "max_features = ['auto', 'sqrt']\n",
    "\n",
    "# Maximum number of levels in tree\n",
    "max_depth = [int(x) for x in np.linspace(10, 110, num = 11)]\n",
    "max_depth.append(None)\n",
    "\n",
    "# Minimum number of samples required to split a node\n",
    "min_samples_split = [2, 5, 10]\n",
    "\n",
    "# Minimum number of samples required at each leaf node\n",
    "min_samples_leaf = [1, 2, 4]\n",
    "\n",
    "# Method of selecting samples for training each tree\n",
    "bootstrap = [True, False]\n",
    "\n",
    "# Create the random grid\n",
    "random_grid = {\n",
    "    'n_estimators': n_estimators,\n",
    "    'max_features': max_features,\n",
    "    'max_depth': max_depth,\n",
    "    'min_samples_split': min_samples_split,\n",
    "    'min_samples_leaf': min_samples_leaf,\n",
    "    'bootstrap': bootstrap\n",
    "}\n",
    "\n",
    "print(random_grid)"
   ]
  },
  {
   "cell_type": "code",
   "execution_count": 25,
   "metadata": {
    "tags": []
   },
   "outputs": [
    {
     "name": "stdout",
     "output_type": "stream",
     "text": [
      "Fitting 3 folds for each of 100 candidates, totalling 300 fits\n",
      "[Parallel(n_jobs=-1)]: Using backend LokyBackend with 12 concurrent workers.\n",
      "[Parallel(n_jobs=-1)]: Done  17 tasks      | elapsed: 27.9min\n",
      "[Parallel(n_jobs=-1)]: Done 138 tasks      | elapsed: 184.4min\n",
      "[Parallel(n_jobs=-1)]: Done 300 out of 300 | elapsed: 401.3min finished\n",
      "** Time to complete:  24815.92227625847 seconds\n"
     ]
    }
   ],
   "source": [
    "rfClf = RandomForestClassifier()\n",
    "\n",
    "rf_random = RandomizedSearchCV(estimator=rfClf, param_distributions = random_grid, n_iter=100, cv=3, verbose=2, random_state=42, n_jobs=-1)\n",
    "time_start = time.time()\n",
    "rf_random.fit(X_train, y_train)\n",
    "print('** Time to complete: ', (time.time() - time_start), 'seconds')"
   ]
  },
  {
   "cell_type": "code",
   "execution_count": 26,
   "metadata": {
    "tags": []
   },
   "outputs": [
    {
     "name": "stdout",
     "output_type": "stream",
     "text": [
      "{'n_estimators': 800, 'min_samples_split': 2, 'min_samples_leaf': 2, 'max_features': 'sqrt', 'max_depth': 50, 'bootstrap': False}\n"
     ]
    }
   ],
   "source": [
    "print(rf_random.best_params_)"
   ]
  },
  {
   "cell_type": "code",
   "execution_count": 27,
   "metadata": {},
   "outputs": [
    {
     "data": {
      "text/plain": "RandomForestClassifier(bootstrap=False, max_depth=50, max_features='sqrt',\n                       min_samples_leaf=2, n_estimators=800)"
     },
     "execution_count": 27,
     "metadata": {},
     "output_type": "execute_result"
    }
   ],
   "source": [
    "rf_random.best_estimator_"
   ]
  },
  {
   "cell_type": "code",
   "execution_count": 28,
   "metadata": {},
   "outputs": [
    {
     "data": {
      "text/plain": "0.901604835661321"
     },
     "execution_count": 28,
     "metadata": {},
     "output_type": "execute_result"
    }
   ],
   "source": [
    "rf_random.best_score_"
   ]
  },
  {
   "cell_type": "code",
   "execution_count": 30,
   "metadata": {},
   "outputs": [
    {
     "data": {
      "text/plain": "RandomForestClassifier()"
     },
     "execution_count": 30,
     "metadata": {},
     "output_type": "execute_result"
    }
   ],
   "source": [
    "rf_random.estimator"
   ]
  },
  {
   "cell_type": "code",
   "execution_count": 8,
   "metadata": {},
   "outputs": [],
   "source": [
    "rf_trained_august10 = RandomForestClassifier(bootstrap=False, max_depth=50, max_features='sqrt',\n",
    "                       min_samples_leaf=2, n_estimators=800)"
   ]
  },
  {
   "cell_type": "code",
   "execution_count": 24,
   "metadata": {},
   "outputs": [
    {
     "data": {
      "text/plain": "RandomForestClassifier(bootstrap=False, max_depth=50, max_features='sqrt',\n                       min_samples_leaf=2, n_estimators=800)"
     },
     "execution_count": 24,
     "metadata": {},
     "output_type": "execute_result"
    }
   ],
   "source": [
    "rf_trained_august10.fit(X_train, y_train)"
   ]
  },
  {
   "cell_type": "code",
   "execution_count": 25,
   "metadata": {},
   "outputs": [],
   "source": [
    "rf_train_pred = rf_trained_august10.predict(X_test)"
   ]
  },
  {
   "cell_type": "code",
   "execution_count": 26,
   "metadata": {
    "tags": []
   },
   "outputs": [
    {
     "name": "stdout",
     "output_type": "stream",
     "text": [
      "precision    recall  f1-score   support\n",
      "\n",
      "           0       0.74      0.93      0.83      3000\n",
      "           1       0.87      0.59      0.70      2320\n",
      "\n",
      "    accuracy                           0.78      5320\n",
      "   macro avg       0.81      0.76      0.76      5320\n",
      "weighted avg       0.80      0.78      0.77      5320\n",
      "\n"
     ]
    }
   ],
   "source": [
    "print(classification_report(y_test, rf_train_pred))"
   ]
  },
  {
   "cell_type": "code",
   "execution_count": 41,
   "metadata": {},
   "outputs": [],
   "source": [
    "# To save model\n",
    "pk1_filename = 'random_forest_classifier_august10.pkl'\n",
    "with open(pk1_filename, 'wb') as file:\n",
    "    pickle.dump(rf_trained_august10, file)"
   ]
  },
  {
   "cell_type": "code",
   "execution_count": null,
   "metadata": {},
   "outputs": [],
   "source": [
    "# To load model:\n",
    "with open(pkl_filename, 'rb') as file:\n",
    "    pickle_model_rfc = pickle.load(file)"
   ]
  }
 ],
 "metadata": {
  "kernelspec": {
   "display_name": "Python 3.8.5 64-bit ('derda1': conda)",
   "name": "python_defaultSpec_1597347267632"
  },
  "orig_nbformat": 2
 },
 "nbformat": 4,
 "nbformat_minor": 2
}